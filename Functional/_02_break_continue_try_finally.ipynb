{
 "cells": [
  {
   "cell_type": "markdown",
   "metadata": {},
   "source": [
    "`try...except` has also `finally` statement. it always runs, even in case of exception"
   ]
  },
  {
   "cell_type": "code",
   "execution_count": 1,
   "metadata": {},
   "outputs": [
    {
     "name": "stdout",
     "output_type": "stream",
     "text": [
      "finally always executes\n"
     ]
    }
   ],
   "source": [
    "a = 10\n",
    "b = 1\n",
    "try:\n",
    "    a/b\n",
    "except ZeroDivisionError as err:\n",
    "    print(err)\n",
    "finally:\n",
    "    print(\"finally always executes\")"
   ]
  },
  {
   "cell_type": "code",
   "execution_count": 2,
   "metadata": {},
   "outputs": [
    {
     "name": "stdout",
     "output_type": "stream",
     "text": [
      "division by zero\n",
      "finally always executes\n"
     ]
    }
   ],
   "source": [
    "a = 10\n",
    "b = 0\n",
    "try:\n",
    "    a/b\n",
    "except ZeroDivisionError as err:\n",
    "    print(err)\n",
    "finally:\n",
    "    print(\"finally always executes\")"
   ]
  },
  {
   "cell_type": "markdown",
   "metadata": {},
   "source": [
    "finally will still run, continue doesn't matter. but the rest of the code won't run if we put continue"
   ]
  },
  {
   "cell_type": "code",
   "execution_count": 3,
   "metadata": {},
   "outputs": [
    {
     "name": "stdout",
     "output_type": "stream",
     "text": [
      "___________begin_of_the_loop____________\n",
      "finally always executes\n",
      "end of the main loop 1 1\n",
      "___________begin_of_the_loop____________\n",
      "division by zero 2 0\n",
      "finally always executes\n",
      "___________begin_of_the_loop____________\n",
      "finally always executes\n",
      "end of the main loop 3 -1\n",
      "___________begin_of_the_loop____________\n",
      "finally always executes\n",
      "end of the main loop 4 -2\n"
     ]
    }
   ],
   "source": [
    "a = 0\n",
    "b = 2\n",
    "\n",
    "while a < 4:\n",
    "    print(\"___________begin_of_the_loop____________\")\n",
    "    a+=1\n",
    "    b-=1\n",
    "    try:\n",
    "        a/b\n",
    "    except ZeroDivisionError as err:\n",
    "        print(err, a, b)\n",
    "        continue\n",
    "    finally:\n",
    "        print(\"finally always executes\")\n",
    "    print(\"end of the main loop\", a, b)"
   ]
  },
  {
   "cell_type": "code",
   "execution_count": 4,
   "metadata": {},
   "outputs": [
    {
     "name": "stdout",
     "output_type": "stream",
     "text": [
      "___________begin_of_the_loop____________\n",
      "finally always executes\n",
      "end of the main loop 1 1\n",
      "___________begin_of_the_loop____________\n",
      "division by zero 2 0\n",
      "finally always executes\n",
      "end of the main loop 2 0\n",
      "___________begin_of_the_loop____________\n",
      "finally always executes\n",
      "end of the main loop 3 -1\n",
      "___________begin_of_the_loop____________\n",
      "finally always executes\n",
      "end of the main loop 4 -2\n"
     ]
    }
   ],
   "source": [
    "a = 0\n",
    "b = 2\n",
    "\n",
    "while a < 4:\n",
    "    print(\"___________begin_of_the_loop____________\")\n",
    "    a+=1\n",
    "    b-=1\n",
    "    try:\n",
    "        a/b\n",
    "    except ZeroDivisionError as err:\n",
    "        print(err, a, b)\n",
    "    finally:\n",
    "        print(\"finally always executes\")\n",
    "    print(\"end of the main loop\", a, b)"
   ]
  },
  {
   "cell_type": "markdown",
   "metadata": {},
   "source": [
    "unexpected error:\n",
    "\n",
    "finally still executes, but then it all stops"
   ]
  },
  {
   "cell_type": "code",
   "execution_count": 5,
   "metadata": {},
   "outputs": [
    {
     "name": "stdout",
     "output_type": "stream",
     "text": [
      "___________begin_of_the_loop____________\n",
      "finally always executes\n",
      "end of the main loop 1 1\n",
      "___________begin_of_the_loop____________\n",
      "finally always executes\n"
     ]
    },
    {
     "ename": "NameError",
     "evalue": "name 'c' is not defined",
     "output_type": "error",
     "traceback": [
      "\u001b[1;31m---------------------------------------------------------------------------\u001b[0m",
      "\u001b[1;31mZeroDivisionError\u001b[0m                         Traceback (most recent call last)",
      "\u001b[1;32m<ipython-input-5-9ce2a06e2c7f>\u001b[0m in \u001b[0;36m<module>\u001b[1;34m\u001b[0m\n\u001b[0;32m      8\u001b[0m     \u001b[1;32mtry\u001b[0m\u001b[1;33m:\u001b[0m\u001b[1;33m\u001b[0m\u001b[1;33m\u001b[0m\u001b[0m\n\u001b[1;32m----> 9\u001b[1;33m         \u001b[0ma\u001b[0m\u001b[1;33m/\u001b[0m\u001b[0mb\u001b[0m\u001b[1;33m\u001b[0m\u001b[1;33m\u001b[0m\u001b[0m\n\u001b[0m\u001b[0;32m     10\u001b[0m     \u001b[1;32mexcept\u001b[0m \u001b[0mZeroDivisionError\u001b[0m \u001b[1;32mas\u001b[0m \u001b[0merr\u001b[0m\u001b[1;33m:\u001b[0m\u001b[1;33m\u001b[0m\u001b[1;33m\u001b[0m\u001b[0m\n",
      "\u001b[1;31mZeroDivisionError\u001b[0m: division by zero",
      "\nDuring handling of the above exception, another exception occurred:\n",
      "\u001b[1;31mNameError\u001b[0m                                 Traceback (most recent call last)",
      "\u001b[1;32m<ipython-input-5-9ce2a06e2c7f>\u001b[0m in \u001b[0;36m<module>\u001b[1;34m\u001b[0m\n\u001b[0;32m      9\u001b[0m         \u001b[0ma\u001b[0m\u001b[1;33m/\u001b[0m\u001b[0mb\u001b[0m\u001b[1;33m\u001b[0m\u001b[1;33m\u001b[0m\u001b[0m\n\u001b[0;32m     10\u001b[0m     \u001b[1;32mexcept\u001b[0m \u001b[0mZeroDivisionError\u001b[0m \u001b[1;32mas\u001b[0m \u001b[0merr\u001b[0m\u001b[1;33m:\u001b[0m\u001b[1;33m\u001b[0m\u001b[1;33m\u001b[0m\u001b[0m\n\u001b[1;32m---> 11\u001b[1;33m         \u001b[0mprint\u001b[0m\u001b[1;33m(\u001b[0m\u001b[0merr\u001b[0m\u001b[1;33m,\u001b[0m \u001b[0ma\u001b[0m\u001b[1;33m,\u001b[0m \u001b[0mb\u001b[0m\u001b[1;33m,\u001b[0m \u001b[0mc\u001b[0m\u001b[1;33m)\u001b[0m\u001b[1;33m\u001b[0m\u001b[1;33m\u001b[0m\u001b[0m\n\u001b[0m\u001b[0;32m     12\u001b[0m     \u001b[1;32mfinally\u001b[0m\u001b[1;33m:\u001b[0m\u001b[1;33m\u001b[0m\u001b[1;33m\u001b[0m\u001b[0m\n\u001b[0;32m     13\u001b[0m         \u001b[0mprint\u001b[0m\u001b[1;33m(\u001b[0m\u001b[1;34m\"finally always executes\"\u001b[0m\u001b[1;33m)\u001b[0m\u001b[1;33m\u001b[0m\u001b[1;33m\u001b[0m\u001b[0m\n",
      "\u001b[1;31mNameError\u001b[0m: name 'c' is not defined"
     ]
    }
   ],
   "source": [
    "a = 0\n",
    "b = 2\n",
    "\n",
    "while a < 4:\n",
    "    print(\"___________begin_of_the_loop____________\")\n",
    "    a+=1\n",
    "    b-=1\n",
    "    try:\n",
    "        a/b\n",
    "    except ZeroDivisionError as err:\n",
    "        print(err, a, b, c)\n",
    "    finally:\n",
    "        print(\"finally always executes\")\n",
    "    print(\"end of the main loop\", a, b)"
   ]
  },
  {
   "cell_type": "markdown",
   "metadata": {},
   "source": [
    "this will work with `break` also"
   ]
  },
  {
   "cell_type": "code",
   "execution_count": 6,
   "metadata": {},
   "outputs": [
    {
     "name": "stdout",
     "output_type": "stream",
     "text": [
      "___________begin_of_the_loop____________\n",
      "finally always executes\n",
      "end of the main loop 1 1\n",
      "___________begin_of_the_loop____________\n",
      "division by zero 2 0\n",
      "finally always executes\n"
     ]
    }
   ],
   "source": [
    "a = 0\n",
    "b = 2\n",
    "\n",
    "while a < 4:\n",
    "    print(\"___________begin_of_the_loop____________\")\n",
    "    a+=1\n",
    "    b-=1\n",
    "    try:\n",
    "        a/b\n",
    "    except ZeroDivisionError as err:\n",
    "        print(err, a, b)\n",
    "        break\n",
    "    finally:\n",
    "        print(\"finally always executes\")\n",
    "    print(\"end of the main loop\", a, b)"
   ]
  },
  {
   "cell_type": "markdown",
   "metadata": {},
   "source": [
    "`while - else`: `else` executes only if `break` didn't happen"
   ]
  },
  {
   "cell_type": "code",
   "execution_count": 7,
   "metadata": {},
   "outputs": [
    {
     "name": "stdout",
     "output_type": "stream",
     "text": [
      "___________begin_of_the_loop____________\n",
      "finally always executes\n",
      "end of the main loop 1 1\n",
      "___________begin_of_the_loop____________\n",
      "division by zero 2 0\n",
      "finally always executes\n"
     ]
    }
   ],
   "source": [
    "a = 0\n",
    "b = 2\n",
    "\n",
    "while a < 4:\n",
    "    print(\"___________begin_of_the_loop____________\")\n",
    "    a+=1\n",
    "    b-=1\n",
    "    try:\n",
    "        a/b\n",
    "    except ZeroDivisionError as err:\n",
    "        print(err, a, b)\n",
    "        break\n",
    "    finally:\n",
    "        print(\"finally always executes\")\n",
    "    print(\"end of the main loop\", a, b)\n",
    "else:\n",
    "    print(\"break never happened\")"
   ]
  },
  {
   "cell_type": "code",
   "execution_count": 8,
   "metadata": {},
   "outputs": [
    {
     "name": "stdout",
     "output_type": "stream",
     "text": [
      "___________begin_of_the_loop____________\n",
      "finally always executes\n",
      "end of the main loop 1 9\n",
      "___________begin_of_the_loop____________\n",
      "finally always executes\n",
      "end of the main loop 2 8\n",
      "___________begin_of_the_loop____________\n",
      "finally always executes\n",
      "end of the main loop 3 7\n",
      "___________begin_of_the_loop____________\n",
      "finally always executes\n",
      "end of the main loop 4 6\n",
      "break never happened\n"
     ]
    }
   ],
   "source": [
    "a = 0\n",
    "b = 10\n",
    "\n",
    "while a < 4:\n",
    "    print(\"___________begin_of_the_loop____________\")\n",
    "    a+=1\n",
    "    b-=1\n",
    "    try:\n",
    "        a/b\n",
    "    except ZeroDivisionError as err:\n",
    "        print(err, a, b)\n",
    "        break\n",
    "    finally:\n",
    "        print(\"finally always executes\")\n",
    "    print(\"end of the main loop\", a, b)\n",
    "else:\n",
    "    print(\"break never happened\")"
   ]
  },
  {
   "cell_type": "code",
   "execution_count": null,
   "metadata": {},
   "outputs": [],
   "source": []
  }
 ],
 "metadata": {
  "kernelspec": {
   "display_name": "Python 3",
   "language": "python",
   "name": "python3"
  },
  "language_info": {
   "codemirror_mode": {
    "name": "ipython",
    "version": 3
   },
   "file_extension": ".py",
   "mimetype": "text/x-python",
   "name": "python",
   "nbconvert_exporter": "python",
   "pygments_lexer": "ipython3",
   "version": "3.7.4"
  }
 },
 "nbformat": 4,
 "nbformat_minor": 4
}
