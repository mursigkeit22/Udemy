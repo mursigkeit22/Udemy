{
 "cells": [
  {
   "cell_type": "code",
   "execution_count": 21,
   "metadata": {},
   "outputs": [],
   "source": [
    "class Account:\n",
    "    apr = 3.0\n",
    "    \n",
    "    def __init__(self, account_number, balance):\n",
    "        self.account_number = account_number\n",
    "        self.balance = balance\n",
    "        self.account_type = \"Generic Account\"\n",
    "        \n",
    "    def calc_interest(self):\n",
    "        print(f\"SELF.__CLASS__.APR Calc interest on {self.account_type} with APR = {self.__class__.apr}\")\n",
    "        print(f\"SELF.APR Calc interest on {self.account_type} with APR = {self.apr}\")\n",
    "        return f\"Calc interest on {self.account_type} with APR = {type(self).apr}\"\n",
    "    \n",
    "class Savings(Account):\n",
    "    apr = 5.0\n",
    "    \n",
    "    def __init__(self, account_number, balance):\n",
    "        self.account_number = account_number\n",
    "        self.balance = balance\n",
    "        self.account_type = \"Savings Account\"\n",
    "                                                                  "
   ]
  },
  {
   "cell_type": "markdown",
   "metadata": {},
   "source": [
    "#### apr"
   ]
  },
  {
   "cell_type": "markdown",
   "metadata": {},
   "source": [
    "both parent and child class have apr attribute. how to use it in calc_interest method?\n",
    "\n",
    "It is not safe to write `with APR = {self.apr}`, because this way apr attribute is easily overridden (which can be done by mistake).\n",
    "\n",
    "And we cannot write `with APR = {Account.apr}`, because we want to use different values of apr in parent and child class.\n",
    "\n",
    "So we use type method. `with APR = {type(self).apr}`\n",
    "\n",
    "`self.__class__.apr` will do the same job"
   ]
  },
  {
   "cell_type": "code",
   "execution_count": 22,
   "metadata": {},
   "outputs": [
    {
     "name": "stdout",
     "output_type": "stream",
     "text": [
      "SELF.__CLASS__.APR Calc interest on Generic Account with APR = 3.0\n",
      "SELF.APR Calc interest on Generic Account with APR = 3.0\n"
     ]
    },
    {
     "data": {
      "text/plain": [
       "'Calc interest on Generic Account with APR = 3.0'"
      ]
     },
     "execution_count": 22,
     "metadata": {},
     "output_type": "execute_result"
    }
   ],
   "source": [
    "a = Account(12, 12)\n",
    "a.calc_interest()"
   ]
  },
  {
   "cell_type": "code",
   "execution_count": 23,
   "metadata": {},
   "outputs": [
    {
     "name": "stdout",
     "output_type": "stream",
     "text": [
      "SELF.__CLASS__.APR Calc interest on Savings Account with APR = 5.0\n",
      "SELF.APR Calc interest on Savings Account with APR = 5.0\n"
     ]
    },
    {
     "data": {
      "text/plain": [
       "'Calc interest on Savings Account with APR = 5.0'"
      ]
     },
     "execution_count": 23,
     "metadata": {},
     "output_type": "execute_result"
    }
   ],
   "source": [
    "s = Savings(13, 13)\n",
    "s.calc_interest()"
   ]
  },
  {
   "cell_type": "code",
   "execution_count": 24,
   "metadata": {},
   "outputs": [
    {
     "data": {
      "text/plain": [
       "10"
      ]
     },
     "execution_count": 24,
     "metadata": {},
     "output_type": "execute_result"
    }
   ],
   "source": [
    "# overriding\n",
    "s.apr = 10\n",
    "s.apr"
   ]
  },
  {
   "cell_type": "code",
   "execution_count": 25,
   "metadata": {},
   "outputs": [
    {
     "name": "stdout",
     "output_type": "stream",
     "text": [
      "SELF.__CLASS__.APR Calc interest on Savings Account with APR = 5.0\n",
      "SELF.APR Calc interest on Savings Account with APR = 10\n"
     ]
    },
    {
     "data": {
      "text/plain": [
       "'Calc interest on Savings Account with APR = 5.0'"
      ]
     },
     "execution_count": 25,
     "metadata": {},
     "output_type": "execute_result"
    }
   ],
   "source": [
    "# but calc_interest will use original value of 5.0\n",
    "s.calc_interest()"
   ]
  },
  {
   "cell_type": "code",
   "execution_count": null,
   "metadata": {},
   "outputs": [],
   "source": []
  }
 ],
 "metadata": {
  "kernelspec": {
   "display_name": "Python 3",
   "language": "python",
   "name": "python3"
  },
  "language_info": {
   "codemirror_mode": {
    "name": "ipython",
    "version": 3
   },
   "file_extension": ".py",
   "mimetype": "text/x-python",
   "name": "python",
   "nbconvert_exporter": "python",
   "pygments_lexer": "ipython3",
   "version": "3.7.4"
  }
 },
 "nbformat": 4,
 "nbformat_minor": 4
}
