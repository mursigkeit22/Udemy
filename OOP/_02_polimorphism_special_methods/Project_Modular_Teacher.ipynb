{
 "cells": [
  {
   "cell_type": "code",
   "execution_count": 25,
   "metadata": {},
   "outputs": [],
   "source": [
    "from functools import total_ordering\n",
    "import operator"
   ]
  },
  {
   "cell_type": "code",
   "execution_count": 19,
   "metadata": {},
   "outputs": [],
   "source": [
    "@total_ordering\n",
    "class Mod:\n",
    "    def __init__(self, value, modulus):\n",
    "        if not isinstance(value, int):\n",
    "            raise TypeError('Value must be an integer.')\n",
    "        if not isinstance(modulus, int):\n",
    "            raise TypeError('Modulus must be an integer.')\n",
    "        if modulus < 0:\n",
    "            raise ValueError('Modulus must be positive.')\n",
    "        self._modulus = modulus\n",
    "        self._residue = value % self._modulus\n",
    "        \n",
    "    @property\n",
    "    def residue(self):\n",
    "        return self._residue\n",
    "    \n",
    "    @residue.setter # not sure\n",
    "    def residue(self, value):\n",
    "        self._residue = value\n",
    "    \n",
    "    @property\n",
    "    def modulus(self):\n",
    "        return self._modulus\n",
    "    \n",
    "    def __repr__(self):\n",
    "        return f\"Mod object with residue {self.residue} and modulus {self.modulus}\"\n",
    "    \n",
    "    def __int__(self):\n",
    "        return self.residue\n",
    "    \n",
    "        \n",
    "    def _get_value(self, other):\n",
    "        if isinstance(other, int):\n",
    "            return other % self.modulus\n",
    "        if isinstance(other, Mod) and self.modulus == other.modulus:\n",
    "            return other.residue\n",
    "        raise TypeError(\"Incompatible\")\n",
    "    \n",
    "    \n",
    "    def __eq__(self, other):\n",
    "        print(\"__eq__ called...\")\n",
    "        other_residue = self._get_value(other)\n",
    "        return other_residue == self.residue\n",
    "    \n",
    "    def __hash__(self):\n",
    "        print(\"__hash__ called...\")\n",
    "        return hash((self.residue, self.modulus))\n",
    "    \n",
    "    def __neg__(self):\n",
    "        return Mod(-self.residue, self.modulus)\n",
    "    \n",
    "    \n",
    "    def __add__(self, other):\n",
    "        other_residue = self._get_value(other)\n",
    "        return Mod(self.residue+other_residue, self.modulus)\n",
    "\n",
    "       \n",
    "    def __sub__(self, other):\n",
    "        other_residue = self._get_value(other)\n",
    "        return Mod(self.residue-other_residue, self.modulus)\n",
    "        \n",
    "        \n",
    "        \n",
    "    def __mul__(self, other):\n",
    "        other_residue = self._get_value(other)\n",
    "        return Mod(self.residue*other_residue, self.modulus)\n",
    "        \n",
    "    def __pow__(self, other):\n",
    "        other_residue = self._get_value(other)\n",
    "        return Mod(self.residue**other_residue, self.modulus)\n",
    "        \n",
    "    \n",
    "    def __iadd__(self, other):\n",
    "        other_residue = self._get_value(other)\n",
    "        self._residue = (self.residue+other_residue)%self.modulus\n",
    "        return self\n",
    "        \n",
    "\n",
    "        \n",
    "    def __isub__(self, other):\n",
    "        other_residue = self._get_value(other)\n",
    "        self._residue = (self.residue-other_residue)%self.modulus\n",
    "        return self\n",
    "        \n",
    "\n",
    "    \n",
    "    def __imul__(self, other):\n",
    "        other_residue = self._get_value(other)\n",
    "        self._residue = (self.residue*other_residue)%self.modulus\n",
    "        return self\n",
    "        \n",
    "       \n",
    "    \n",
    "    def __ipow__(self, other):\n",
    "        other_residue = self._get_value(other)\n",
    "        self._residue = (self.residue**other_residue)%self.modulus\n",
    "        return self\n",
    "        \n",
    "        \n",
    "        \n",
    "    \n",
    "    def __lt__(self, other):\n",
    "        print('__lt__ called...')\n",
    "        other_residue = self._get_value(other)\n",
    "        return self.residue < other_residue \n",
    "        \n",
    "# NotImplemented is important if we don't use total_ordering\n",
    "# def __lt__(self, other):\n",
    "#     try:\n",
    "#         other_residue = self._get_value(other)\n",
    "#         return self.residue < other_residue\n",
    "#     except TypeError:\n",
    "#         return NotImplemented"
   ]
  },
  {
   "cell_type": "code",
   "execution_count": 20,
   "metadata": {},
   "outputs": [
    {
     "data": {
      "text/plain": [
       "(4,\n",
       " 5,\n",
       " Mod object with residue 0 and modulus 5,\n",
       " Mod object with residue 2 and modulus 3)"
      ]
     },
     "execution_count": 20,
     "metadata": {},
     "output_type": "execute_result"
    }
   ],
   "source": [
    "a = Mod(19, 5)\n",
    "b = Mod(20, 5)\n",
    "c = Mod(8, 3)\n",
    "# d = Mod(-37, 3)\n",
    "a.residue, a.modulus,b, c"
   ]
  },
  {
   "cell_type": "code",
   "execution_count": 21,
   "metadata": {},
   "outputs": [
    {
     "data": {
      "text/plain": [
       "Mod object with residue 3 and modulus 12"
      ]
     },
     "execution_count": 21,
     "metadata": {},
     "output_type": "execute_result"
    }
   ],
   "source": [
    "Mod(3, 12) + 12"
   ]
  },
  {
   "cell_type": "code",
   "execution_count": 22,
   "metadata": {},
   "outputs": [
    {
     "data": {
      "text/plain": [
       "Mod object with residue 4 and modulus 12"
      ]
     },
     "execution_count": 22,
     "metadata": {},
     "output_type": "execute_result"
    }
   ],
   "source": [
    "Mod(3, 12) + 25"
   ]
  },
  {
   "cell_type": "code",
   "execution_count": 23,
   "metadata": {},
   "outputs": [
    {
     "name": "stdout",
     "output_type": "stream",
     "text": [
      "__lt__ called...\n"
     ]
    },
    {
     "data": {
      "text/plain": [
       "False"
      ]
     },
     "execution_count": 23,
     "metadata": {},
     "output_type": "execute_result"
    }
   ],
   "source": [
    "Mod(3, 12)< Mod(2, 12)"
   ]
  },
  {
   "cell_type": "code",
   "execution_count": 24,
   "metadata": {},
   "outputs": [
    {
     "name": "stdout",
     "output_type": "stream",
     "text": [
      "__lt__ called...\n"
     ]
    },
    {
     "ename": "TypeError",
     "evalue": "Incompatible",
     "output_type": "error",
     "traceback": [
      "\u001b[1;31m---------------------------------------------------------------------------\u001b[0m",
      "\u001b[1;31mTypeError\u001b[0m                                 Traceback (most recent call last)",
      "\u001b[1;32m<ipython-input-24-fb32ae5b956d>\u001b[0m in \u001b[0;36m<module>\u001b[1;34m\u001b[0m\n\u001b[1;32m----> 1\u001b[1;33m \u001b[0mMod\u001b[0m\u001b[1;33m(\u001b[0m\u001b[1;36m3\u001b[0m\u001b[1;33m,\u001b[0m \u001b[1;36m12\u001b[0m\u001b[1;33m)\u001b[0m\u001b[1;33m<\u001b[0m \u001b[0mMod\u001b[0m\u001b[1;33m(\u001b[0m\u001b[1;36m2\u001b[0m\u001b[1;33m,\u001b[0m \u001b[1;36m13\u001b[0m\u001b[1;33m)\u001b[0m\u001b[1;33m\u001b[0m\u001b[1;33m\u001b[0m\u001b[0m\n\u001b[0m",
      "\u001b[1;32m<ipython-input-19-654270533149>\u001b[0m in \u001b[0;36m__lt__\u001b[1;34m(self, other)\u001b[0m\n\u001b[0;32m    102\u001b[0m     \u001b[1;32mdef\u001b[0m \u001b[0m__lt__\u001b[0m\u001b[1;33m(\u001b[0m\u001b[0mself\u001b[0m\u001b[1;33m,\u001b[0m \u001b[0mother\u001b[0m\u001b[1;33m)\u001b[0m\u001b[1;33m:\u001b[0m\u001b[1;33m\u001b[0m\u001b[1;33m\u001b[0m\u001b[0m\n\u001b[0;32m    103\u001b[0m         \u001b[0mprint\u001b[0m\u001b[1;33m(\u001b[0m\u001b[1;34m'__lt__ called...'\u001b[0m\u001b[1;33m)\u001b[0m\u001b[1;33m\u001b[0m\u001b[1;33m\u001b[0m\u001b[0m\n\u001b[1;32m--> 104\u001b[1;33m         \u001b[0mother_residue\u001b[0m \u001b[1;33m=\u001b[0m \u001b[0mself\u001b[0m\u001b[1;33m.\u001b[0m\u001b[0m_get_value\u001b[0m\u001b[1;33m(\u001b[0m\u001b[0mother\u001b[0m\u001b[1;33m)\u001b[0m\u001b[1;33m\u001b[0m\u001b[1;33m\u001b[0m\u001b[0m\n\u001b[0m\u001b[0;32m    105\u001b[0m         \u001b[1;32mreturn\u001b[0m \u001b[0mself\u001b[0m\u001b[1;33m.\u001b[0m\u001b[0mresidue\u001b[0m \u001b[1;33m<\u001b[0m \u001b[0mother_residue\u001b[0m\u001b[1;33m\u001b[0m\u001b[1;33m\u001b[0m\u001b[0m\n\u001b[0;32m    106\u001b[0m \u001b[1;33m\u001b[0m\u001b[0m\n",
      "\u001b[1;32m<ipython-input-19-654270533149>\u001b[0m in \u001b[0;36m_get_value\u001b[1;34m(self, other)\u001b[0m\n\u001b[0;32m     35\u001b[0m         \u001b[1;32mif\u001b[0m \u001b[0misinstance\u001b[0m\u001b[1;33m(\u001b[0m\u001b[0mother\u001b[0m\u001b[1;33m,\u001b[0m \u001b[0mMod\u001b[0m\u001b[1;33m)\u001b[0m \u001b[1;32mand\u001b[0m \u001b[0mself\u001b[0m\u001b[1;33m.\u001b[0m\u001b[0mmodulus\u001b[0m \u001b[1;33m==\u001b[0m \u001b[0mother\u001b[0m\u001b[1;33m.\u001b[0m\u001b[0mmodulus\u001b[0m\u001b[1;33m:\u001b[0m\u001b[1;33m\u001b[0m\u001b[1;33m\u001b[0m\u001b[0m\n\u001b[0;32m     36\u001b[0m             \u001b[1;32mreturn\u001b[0m \u001b[0mother\u001b[0m\u001b[1;33m.\u001b[0m\u001b[0mresidue\u001b[0m\u001b[1;33m\u001b[0m\u001b[1;33m\u001b[0m\u001b[0m\n\u001b[1;32m---> 37\u001b[1;33m         \u001b[1;32mraise\u001b[0m \u001b[0mTypeError\u001b[0m\u001b[1;33m(\u001b[0m\u001b[1;34m\"Incompatible\"\u001b[0m\u001b[1;33m)\u001b[0m\u001b[1;33m\u001b[0m\u001b[1;33m\u001b[0m\u001b[0m\n\u001b[0m\u001b[0;32m     38\u001b[0m \u001b[1;33m\u001b[0m\u001b[0m\n\u001b[0;32m     39\u001b[0m \u001b[1;33m\u001b[0m\u001b[0m\n",
      "\u001b[1;31mTypeError\u001b[0m: Incompatible"
     ]
    }
   ],
   "source": [
    "Mod(3, 12)< Mod(2, 13)"
   ]
  },
  {
   "cell_type": "code",
   "execution_count": null,
   "metadata": {},
   "outputs": [],
   "source": []
  },
  {
   "cell_type": "code",
   "execution_count": null,
   "metadata": {},
   "outputs": [],
   "source": []
  },
  {
   "cell_type": "code",
   "execution_count": null,
   "metadata": {},
   "outputs": [],
   "source": []
  },
  {
   "cell_type": "code",
   "execution_count": 31,
   "metadata": {},
   "outputs": [],
   "source": [
    "@total_ordering\n",
    "class Mod:\n",
    "    def __init__(self, value, modulus):\n",
    "        if not isinstance(value, int):\n",
    "            raise TypeError('Value must be an integer.')\n",
    "        if not isinstance(modulus, int):\n",
    "            raise TypeError('Modulus must be an integer.')\n",
    "        if modulus < 0:\n",
    "            raise ValueError('Modulus must be positive.')\n",
    "        self._modulus = modulus\n",
    "        self._residue = value % self._modulus\n",
    "        \n",
    "    @property\n",
    "    def residue(self):\n",
    "        return self._residue\n",
    "    \n",
    "    @residue.setter \n",
    "    def residue(self, value):\n",
    "        self._residue = value\n",
    "    \n",
    "    @property\n",
    "    def modulus(self):\n",
    "        return self._modulus\n",
    "    \n",
    "    def __repr__(self):\n",
    "        return f\"Mod object with residue {self.residue} and modulus {self.modulus}\"\n",
    "    \n",
    "    def __int__(self):\n",
    "        return self.residue\n",
    "    \n",
    "        \n",
    "    def _get_value(self, other):\n",
    "        if isinstance(other, int):\n",
    "            return other % self.modulus\n",
    "        if isinstance(other, Mod) and self.modulus == other.modulus:\n",
    "            return other.residue\n",
    "        raise TypeError(\"Incompatible\")\n",
    "        \n",
    "    def _peform_operation(self, other, operation, *, in_place=False):\n",
    "        other_residue = self._get_value(other)\n",
    "        new_value = operation(self.residue, other_residue)\n",
    "        if in_place:\n",
    "            self.residue = new_value % self.modulus\n",
    "            return self\n",
    "        else:\n",
    "            return Mod(new_value, self.modulus)\n",
    "        \n",
    "    \n",
    "    \n",
    "    def __eq__(self, other):\n",
    "        print(\"__eq__ called...\")\n",
    "        other_residue = self._get_value(other)\n",
    "        return other_residue == self.residue\n",
    "    \n",
    "    def __hash__(self):\n",
    "        print(\"__hash__ called...\")\n",
    "        return hash((self.residue, self.modulus))\n",
    "    \n",
    "    def __neg__(self):\n",
    "        return Mod(-self.residue, self.modulus)\n",
    "    \n",
    "    \n",
    "    def __add__(self, other):\n",
    "        return self._peform_operation(other, operator.add)\n",
    "        \n",
    "\n",
    "       \n",
    "    def __sub__(self, other):\n",
    "        return self._peform_operation(other, operator.sub)\n",
    "        \n",
    "        \n",
    "        \n",
    "    def __mul__(self, other):\n",
    "        return self._peform_operation(other, operator.mul)\n",
    "        \n",
    "    def __pow__(self, other):\n",
    "        return self._peform_operation(other, operator.pow)\n",
    "        \n",
    "    \n",
    "    def __iadd__(self, other):\n",
    "        return self._peform_operation(other, operator.add, in_place=True)\n",
    "       \n",
    "        \n",
    "    def __isub__(self, other):\n",
    "        return self._peform_operation(other, operator.sub, in_place=True)\n",
    "        \n",
    "\n",
    "    \n",
    "    def __imul__(self, other):\n",
    "        return self._peform_operation(other, operator.mul, in_place=True)\n",
    "        \n",
    "       \n",
    "    \n",
    "    def __ipow__(self, other):\n",
    "        return self._peform_operation(other, operator.pow, in_place=True)\n",
    "        \n",
    "        \n",
    "        \n",
    "    \n",
    "    def __lt__(self, other):\n",
    "        print('__lt__ called...')\n",
    "        other_residue = self._get_value(other)\n",
    "        return self.residue < other_residue "
   ]
  },
  {
   "cell_type": "code",
   "execution_count": 32,
   "metadata": {},
   "outputs": [
    {
     "data": {
      "text/plain": [
       "(4,\n",
       " 5,\n",
       " Mod object with residue 0 and modulus 5,\n",
       " Mod object with residue 2 and modulus 3)"
      ]
     },
     "execution_count": 32,
     "metadata": {},
     "output_type": "execute_result"
    }
   ],
   "source": [
    "a = Mod(19, 5)\n",
    "b = Mod(20, 5)\n",
    "c = Mod(8, 3)\n",
    "# d = Mod(-37, 3)\n",
    "a.residue, a.modulus,b, c"
   ]
  },
  {
   "cell_type": "code",
   "execution_count": 33,
   "metadata": {},
   "outputs": [
    {
     "name": "stdout",
     "output_type": "stream",
     "text": [
      "__lt__ called...\n"
     ]
    },
    {
     "data": {
      "text/plain": [
       "False"
      ]
     },
     "execution_count": 33,
     "metadata": {},
     "output_type": "execute_result"
    }
   ],
   "source": [
    "Mod(3, 12)< Mod(2, 12)"
   ]
  },
  {
   "cell_type": "code",
   "execution_count": 34,
   "metadata": {},
   "outputs": [
    {
     "data": {
      "text/plain": [
       "(Mod object with residue 5 and modulus 12,\n",
       " Mod object with residue 1 and modulus 12)"
      ]
     },
     "execution_count": 34,
     "metadata": {},
     "output_type": "execute_result"
    }
   ],
   "source": [
    "Mod(3, 12)+ Mod(2, 12), Mod(3, 12)- Mod(2, 12)"
   ]
  },
  {
   "cell_type": "code",
   "execution_count": 35,
   "metadata": {},
   "outputs": [
    {
     "data": {
      "text/plain": [
       "Mod object with residue 8 and modulus 12"
      ]
     },
     "execution_count": 35,
     "metadata": {},
     "output_type": "execute_result"
    }
   ],
   "source": [
    "Mod(3, 12)+5"
   ]
  },
  {
   "cell_type": "code",
   "execution_count": null,
   "metadata": {},
   "outputs": [],
   "source": []
  }
 ],
 "metadata": {
  "kernelspec": {
   "display_name": "Python 3",
   "language": "python",
   "name": "python3"
  },
  "language_info": {
   "codemirror_mode": {
    "name": "ipython",
    "version": 3
   },
   "file_extension": ".py",
   "mimetype": "text/x-python",
   "name": "python",
   "nbconvert_exporter": "python",
   "pygments_lexer": "ipython3",
   "version": "3.7.4"
  }
 },
 "nbformat": 4,
 "nbformat_minor": 4
}
