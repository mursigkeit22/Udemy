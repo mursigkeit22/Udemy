{
 "cells": [
  {
   "cell_type": "code",
   "execution_count": 153,
   "metadata": {},
   "outputs": [],
   "source": [
    "from functools import total_ordering"
   ]
  },
  {
   "cell_type": "code",
   "execution_count": 155,
   "metadata": {},
   "outputs": [],
   "source": [
    "@total_ordering\n",
    "class Mod:\n",
    "    def __init__(self, value, modulus):\n",
    "        if not isinstance(value, int):\n",
    "            raise ValueError('Value must be an integer.')\n",
    "        if not isinstance(modulus, int):\n",
    "            raise ValueError('Modulus must be an integer.')\n",
    "        if modulus < 0:\n",
    "            raise ValueError('Modulus must be positive.')\n",
    "        self._modulus = modulus\n",
    "        self._residue = value % self._modulus\n",
    "        \n",
    "        \n",
    "    @property\n",
    "    def residue(self):\n",
    "        return self._residue\n",
    "    \n",
    "    @property\n",
    "    def modulus(self):\n",
    "        return self._modulus\n",
    "    \n",
    "    def modulus_check(self, other):\n",
    "        if self.modulus != other.modulus:\n",
    "            raise TypeError(\"Can only compare Mod objects with the same modulus.\")\n",
    "        \n",
    "    def __eq__(self, other):\n",
    "        print(\"__eq__ called...\")\n",
    "        if isinstance(other, int):\n",
    "            print(\"__eq__ in int\")\n",
    "            return self.residue == (other % self.modulus)\n",
    "        if isinstance(other, Mod):\n",
    "            print(\"__eq__ in Mod\")\n",
    "            self.modulus_check(other)\n",
    "            return self.residue == other.residue\n",
    "\n",
    "        return NotImplemented\n",
    "    \n",
    "    def __hash__(self):\n",
    "        print(\"__hash__ called...\")\n",
    "        return hash((self.residue, self.modulus))\n",
    "    \n",
    "    def __int__(self):\n",
    "        return self.residue\n",
    "    def __repr__(self):\n",
    "        return f\"Mod object with residue {self.residue} and modulus {self.modulus}\"\n",
    "    \n",
    "    def __add__(self, other):\n",
    "        if isinstance(other, int):\n",
    "            \n",
    "            return Mod(self.residue+other, self.modulus)\n",
    "        if isinstance(other, Mod):\n",
    "            self.modulus_check(other)\n",
    "            return Mod(self.residue + other.residue, self.modulus)\n",
    "        return NotImplemented\n",
    "       \n",
    "    def __sub__(self, other):\n",
    "        if isinstance(other, int):\n",
    "            \n",
    "            return Mod(self.residue-other, self.modulus)\n",
    "        if isinstance(other, Mod):\n",
    "            self.modulus_check(other)\n",
    "            return Mod(self.residue - other.residue, self.modulus)\n",
    "        return NotImplemented\n",
    "        \n",
    "        \n",
    "    def __mul__(self, other):\n",
    "        if isinstance(other, int):\n",
    "            \n",
    "            return Mod(self.residue*other, self.modulus)\n",
    "        if isinstance(other, Mod):\n",
    "            self.modulus_check(other)\n",
    "            return Mod(self.residue * other.residue, self.modulus)\n",
    "        return NotImplemented\n",
    "    def __pow__(self, other):\n",
    "        if isinstance(other, int):\n",
    "            \n",
    "            return Mod(self.residue**other, self.modulus)\n",
    "        if isinstance(other, Mod):\n",
    "            self.modulus_check(other)\n",
    "            return Mod(self.residue**other.residue, self.modulus)\n",
    "        return NotImplemented\n",
    "    def __iadd__(self, other):\n",
    "        if isinstance(other, int):\n",
    "            residue = (self.residue+other)%self.modulus\n",
    "        elif isinstance(other, Mod):\n",
    "            self.modulus_check(other)\n",
    "            residue = (self.residue+other.residue)%self.modulus\n",
    "        else:\n",
    "            return NotImplemented\n",
    "        self._residue = residue\n",
    "        return self\n",
    "    def __lt__(self, other):\n",
    "        print('__lt__ called...')\n",
    "        if isinstance(other, int):\n",
    "            residue = other % self.modulus\n",
    "            return self.residue < residue\n",
    "        elif isinstance(other, Mod):\n",
    "            self.modulus_check(other)\n",
    "            return self.residue < other.residue\n",
    "        return NotImplemented\n",
    "            \n",
    "        \n",
    "        \n",
    "    "
   ]
  },
  {
   "cell_type": "markdown",
   "metadata": {},
   "source": [
    "#### attributes, repr, int"
   ]
  },
  {
   "cell_type": "code",
   "execution_count": 156,
   "metadata": {},
   "outputs": [
    {
     "data": {
      "text/plain": [
       "(4,\n",
       " 5,\n",
       " Mod object with residue 0 and modulus 5,\n",
       " Mod object with residue 2 and modulus 3)"
      ]
     },
     "execution_count": 156,
     "metadata": {},
     "output_type": "execute_result"
    }
   ],
   "source": [
    "a = Mod(19, 5)\n",
    "b = Mod(20, 5)\n",
    "c = Mod(8, 3)\n",
    "d = Mod(-37, 3)\n",
    "a.residue, a.modulus, b, c"
   ]
  },
  {
   "cell_type": "code",
   "execution_count": 157,
   "metadata": {},
   "outputs": [
    {
     "data": {
      "text/plain": [
       "(4, 0, 2)"
      ]
     },
     "execution_count": 157,
     "metadata": {},
     "output_type": "execute_result"
    }
   ],
   "source": [
    "int(a), int(b), int(c)"
   ]
  },
  {
   "cell_type": "markdown",
   "metadata": {},
   "source": [
    "#### addition"
   ]
  },
  {
   "cell_type": "code",
   "execution_count": 158,
   "metadata": {},
   "outputs": [
    {
     "data": {
      "text/plain": [
       "(Mod object with residue 4 and modulus 5,\n",
       " Mod object with residue 3 and modulus 5,\n",
       " Mod object with residue 0 and modulus 3)"
      ]
     },
     "execution_count": 158,
     "metadata": {},
     "output_type": "execute_result"
    }
   ],
   "source": [
    "a + b, a + 89, c + (-2)"
   ]
  },
  {
   "cell_type": "code",
   "execution_count": 159,
   "metadata": {},
   "outputs": [
    {
     "name": "stdout",
     "output_type": "stream",
     "text": [
      "Can only compare Mod objects with the same modulus.\n"
     ]
    }
   ],
   "source": [
    "try:\n",
    "    a+c\n",
    "except TypeError as e:\n",
    "    print(e)"
   ]
  },
  {
   "cell_type": "code",
   "execution_count": 160,
   "metadata": {},
   "outputs": [],
   "source": [
    "#comparison"
   ]
  },
  {
   "cell_type": "code",
   "execution_count": 161,
   "metadata": {},
   "outputs": [
    {
     "name": "stdout",
     "output_type": "stream",
     "text": [
      "__eq__ called...\n",
      "__eq__ in Mod\n",
      "__eq__ called...\n",
      "__eq__ in int\n",
      "__eq__ called...\n",
      "__eq__ in int\n"
     ]
    },
    {
     "data": {
      "text/plain": [
       "(False, False, True)"
      ]
     },
     "execution_count": 161,
     "metadata": {},
     "output_type": "execute_result"
    }
   ],
   "source": [
    "a == b, a == 6, a == 19"
   ]
  },
  {
   "cell_type": "code",
   "execution_count": 162,
   "metadata": {},
   "outputs": [
    {
     "name": "stdout",
     "output_type": "stream",
     "text": [
      "__eq__ called...\n",
      "__eq__ in Mod\n",
      "Can only compare Mod objects with the same modulus.\n"
     ]
    }
   ],
   "source": [
    "try: a == c\n",
    "except TypeError as e: print(e)"
   ]
  },
  {
   "cell_type": "code",
   "execution_count": 163,
   "metadata": {},
   "outputs": [
    {
     "name": "stdout",
     "output_type": "stream",
     "text": [
      "__eq__ called...\n",
      "__eq__ called...\n"
     ]
    },
    {
     "data": {
      "text/plain": [
       "(False, False)"
      ]
     },
     "execution_count": 163,
     "metadata": {},
     "output_type": "execute_result"
    }
   ],
   "source": [
    "a == (3, 384), a == \"df\" "
   ]
  },
  {
   "cell_type": "markdown",
   "metadata": {},
   "source": [
    "#### in-place addition"
   ]
  },
  {
   "cell_type": "code",
   "execution_count": 164,
   "metadata": {},
   "outputs": [
    {
     "data": {
      "text/plain": [
       "Mod object with residue 4 and modulus 5"
      ]
     },
     "execution_count": 164,
     "metadata": {},
     "output_type": "execute_result"
    }
   ],
   "source": [
    "a+=b\n",
    "a"
   ]
  },
  {
   "cell_type": "code",
   "execution_count": 165,
   "metadata": {},
   "outputs": [
    {
     "data": {
      "text/plain": [
       "Mod object with residue 0 and modulus 5"
      ]
     },
     "execution_count": 165,
     "metadata": {},
     "output_type": "execute_result"
    }
   ],
   "source": [
    "a+=6\n",
    "a"
   ]
  },
  {
   "cell_type": "code",
   "execution_count": 166,
   "metadata": {},
   "outputs": [
    {
     "name": "stdout",
     "output_type": "stream",
     "text": [
      "Can only compare Mod objects with the same modulus.\n"
     ]
    }
   ],
   "source": [
    "try:\n",
    "    a+=c\n",
    "except TypeError as e:\n",
    "    print(e)"
   ]
  },
  {
   "cell_type": "markdown",
   "metadata": {},
   "source": [
    "#### ordering"
   ]
  },
  {
   "cell_type": "code",
   "execution_count": 171,
   "metadata": {},
   "outputs": [
    {
     "name": "stdout",
     "output_type": "stream",
     "text": [
      "4 0 2 2\n"
     ]
    }
   ],
   "source": [
    "a = Mod(19, 5)\n",
    "\n",
    "b = Mod(20, 5)\n",
    "c = Mod(8, 3)\n",
    "d = Mod(-37, 3)\n",
    "print(a.residue,b.residue,c.residue,d.residue )"
   ]
  },
  {
   "cell_type": "code",
   "execution_count": 173,
   "metadata": {},
   "outputs": [
    {
     "name": "stdout",
     "output_type": "stream",
     "text": [
      "__lt__ called...\n",
      "__lt__ called...\n",
      "__lt__ called...\n",
      "__lt__ called...\n",
      "__eq__ called...\n",
      "__eq__ in Mod\n"
     ]
    },
    {
     "data": {
      "text/plain": [
       "(False, True, False, True)"
      ]
     },
     "execution_count": 173,
     "metadata": {},
     "output_type": "execute_result"
    }
   ],
   "source": [
    "a<b, a >=b, c < d, c <=d, "
   ]
  },
  {
   "cell_type": "code",
   "execution_count": 174,
   "metadata": {},
   "outputs": [
    {
     "name": "stdout",
     "output_type": "stream",
     "text": [
      "__lt__ called...\n",
      "Can only compare Mod objects with the same modulus.\n"
     ]
    }
   ],
   "source": [
    "try:\n",
    "    a>c\n",
    "except TypeError as e:\n",
    "    print(e)"
   ]
  },
  {
   "cell_type": "code",
   "execution_count": null,
   "metadata": {},
   "outputs": [],
   "source": []
  }
 ],
 "metadata": {
  "kernelspec": {
   "display_name": "Python 3",
   "language": "python",
   "name": "python3"
  },
  "language_info": {
   "codemirror_mode": {
    "name": "ipython",
    "version": 3
   },
   "file_extension": ".py",
   "mimetype": "text/x-python",
   "name": "python",
   "nbconvert_exporter": "python",
   "pygments_lexer": "ipython3",
   "version": "3.7.4"
  }
 },
 "nbformat": 4,
 "nbformat_minor": 4
}
