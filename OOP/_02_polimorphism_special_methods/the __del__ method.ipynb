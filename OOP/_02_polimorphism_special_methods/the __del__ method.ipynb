{
 "cells": [
  {
   "cell_type": "code",
   "execution_count": 31,
   "metadata": {},
   "outputs": [],
   "source": [
    "import ctypes\n",
    "import sys"
   ]
  },
  {
   "cell_type": "code",
   "execution_count": 2,
   "metadata": {},
   "outputs": [],
   "source": [
    "def ref_count(address):\n",
    "    return ctypes.c_long.from_address(address).value"
   ]
  },
  {
   "cell_type": "code",
   "execution_count": 3,
   "metadata": {},
   "outputs": [],
   "source": [
    "class Person:\n",
    "    def __init__(self, name):\n",
    "        self.name = name\n",
    "    def __repr__(self):\n",
    "        return f\"Person({self.name})\"\n",
    "    def __del__(self): # always called when garbage collector is called\n",
    "        print(f\"__del__ called for {self}...\")"
   ]
  },
  {
   "cell_type": "code",
   "execution_count": 4,
   "metadata": {},
   "outputs": [
    {
     "data": {
      "text/plain": [
       "1"
      ]
     },
     "execution_count": 4,
     "metadata": {},
     "output_type": "execute_result"
    }
   ],
   "source": [
    "p = Person(\"Alex\")\n",
    "id_p = id(p)\n",
    "ref_count(id_p)"
   ]
  },
  {
   "cell_type": "code",
   "execution_count": 5,
   "metadata": {},
   "outputs": [
    {
     "name": "stdout",
     "output_type": "stream",
     "text": [
      "__del__ called for Person(Alex)...\n"
     ]
    }
   ],
   "source": [
    "p = None # garbage collector was called"
   ]
  },
  {
   "cell_type": "code",
   "execution_count": 6,
   "metadata": {},
   "outputs": [
    {
     "name": "stdout",
     "output_type": "stream",
     "text": [
      "__del__ called for Person(Alex)...\n"
     ]
    }
   ],
   "source": [
    "p = Person(\"Alex\")\n",
    "del p # garbage collector was called"
   ]
  },
  {
   "cell_type": "markdown",
   "metadata": {},
   "source": [
    "#### we don't know when the garbage collector will be called"
   ]
  },
  {
   "cell_type": "code",
   "execution_count": 8,
   "metadata": {},
   "outputs": [],
   "source": [
    "class Person:\n",
    "    def __init__(self, name):\n",
    "        self.name = name\n",
    "    def __repr__(self):\n",
    "        return f\"Person({self.name})\"\n",
    "    def __del__(self): # always called when garbage collector is called\n",
    "        print(f\"__del__ called for {self}...\")\n",
    "        \n",
    "    def gen_ex(self):\n",
    "        raise ValueError(\"Gen_ex called...\")"
   ]
  },
  {
   "cell_type": "code",
   "execution_count": 9,
   "metadata": {},
   "outputs": [
    {
     "data": {
      "text/plain": [
       "1"
      ]
     },
     "execution_count": 9,
     "metadata": {},
     "output_type": "execute_result"
    }
   ],
   "source": [
    "p = Person(\"eric\")\n",
    "id_p = id(p)\n",
    "ref_count(id_p)"
   ]
  },
  {
   "cell_type": "code",
   "execution_count": 10,
   "metadata": {},
   "outputs": [
    {
     "name": "stdout",
     "output_type": "stream",
     "text": [
      "Gen_ex called...\n"
     ]
    }
   ],
   "source": [
    "try:\n",
    "    p.gen_ex()\n",
    "except ValueError as ex:\n",
    "    print(ex)\n",
    "    "
   ]
  },
  {
   "cell_type": "code",
   "execution_count": 11,
   "metadata": {},
   "outputs": [
    {
     "ename": "NameError",
     "evalue": "name 'ex' is not defined",
     "output_type": "error",
     "traceback": [
      "\u001b[1;31m---------------------------------------------------------------------------\u001b[0m",
      "\u001b[1;31mNameError\u001b[0m                                 Traceback (most recent call last)",
      "\u001b[1;32m<ipython-input-11-8d9a7e549514>\u001b[0m in \u001b[0;36m<module>\u001b[1;34m\u001b[0m\n\u001b[1;32m----> 1\u001b[1;33m \u001b[0mex\u001b[0m\u001b[1;33m\u001b[0m\u001b[1;33m\u001b[0m\u001b[0m\n\u001b[0m",
      "\u001b[1;31mNameError\u001b[0m: name 'ex' is not defined"
     ]
    }
   ],
   "source": [
    "ex # we don't handle the exception after the exception has finished running"
   ]
  },
  {
   "cell_type": "markdown",
   "metadata": {},
   "source": [
    "a way to have the exception value after the exception run"
   ]
  },
  {
   "cell_type": "code",
   "execution_count": 12,
   "metadata": {},
   "outputs": [
    {
     "name": "stdout",
     "output_type": "stream",
     "text": [
      "Gen_ex called...\n"
     ]
    }
   ],
   "source": [
    "try:\n",
    "    p.gen_ex()\n",
    "except ValueError as ex:\n",
    "    error = ex \n",
    "    print(ex)\n",
    "    "
   ]
  },
  {
   "cell_type": "code",
   "execution_count": 13,
   "metadata": {},
   "outputs": [
    {
     "data": {
      "text/plain": [
       "ValueError('Gen_ex called...')"
      ]
     },
     "execution_count": 13,
     "metadata": {},
     "output_type": "execute_result"
    }
   ],
   "source": [
    "error"
   ]
  },
  {
   "cell_type": "markdown",
   "metadata": {},
   "source": [
    "there is another reference to p inside this error (exception object)"
   ]
  },
  {
   "cell_type": "code",
   "execution_count": 15,
   "metadata": {},
   "outputs": [
    {
     "data": {
      "text/plain": [
       "2"
      ]
     },
     "execution_count": 15,
     "metadata": {},
     "output_type": "execute_result"
    }
   ],
   "source": [
    "ref_count(id_p) "
   ]
  },
  {
   "cell_type": "markdown",
   "metadata": {},
   "source": [
    "what containes exception object:"
   ]
  },
  {
   "cell_type": "code",
   "execution_count": 16,
   "metadata": {},
   "outputs": [
    {
     "data": {
      "text/plain": [
       "['__cause__',\n",
       " '__class__',\n",
       " '__context__',\n",
       " '__delattr__',\n",
       " '__dict__',\n",
       " '__dir__',\n",
       " '__doc__',\n",
       " '__eq__',\n",
       " '__format__',\n",
       " '__ge__',\n",
       " '__getattribute__',\n",
       " '__gt__',\n",
       " '__hash__',\n",
       " '__init__',\n",
       " '__init_subclass__',\n",
       " '__le__',\n",
       " '__lt__',\n",
       " '__ne__',\n",
       " '__new__',\n",
       " '__reduce__',\n",
       " '__reduce_ex__',\n",
       " '__repr__',\n",
       " '__setattr__',\n",
       " '__setstate__',\n",
       " '__sizeof__',\n",
       " '__str__',\n",
       " '__subclasshook__',\n",
       " '__suppress_context__',\n",
       " '__traceback__',\n",
       " 'args',\n",
       " 'with_traceback']"
      ]
     },
     "execution_count": 16,
     "metadata": {},
     "output_type": "execute_result"
    }
   ],
   "source": [
    "dir(error)"
   ]
  },
  {
   "cell_type": "code",
   "execution_count": 17,
   "metadata": {},
   "outputs": [
    {
     "data": {
      "text/plain": [
       "['tb_frame', 'tb_lasti', 'tb_lineno', 'tb_next']"
      ]
     },
     "execution_count": 17,
     "metadata": {},
     "output_type": "execute_result"
    }
   ],
   "source": [
    "dir(error.__traceback__)"
   ]
  },
  {
   "cell_type": "code",
   "execution_count": 18,
   "metadata": {},
   "outputs": [
    {
     "data": {
      "text/plain": [
       "['__class__',\n",
       " '__delattr__',\n",
       " '__dir__',\n",
       " '__doc__',\n",
       " '__eq__',\n",
       " '__format__',\n",
       " '__ge__',\n",
       " '__getattribute__',\n",
       " '__gt__',\n",
       " '__hash__',\n",
       " '__init__',\n",
       " '__init_subclass__',\n",
       " '__le__',\n",
       " '__lt__',\n",
       " '__ne__',\n",
       " '__new__',\n",
       " '__reduce__',\n",
       " '__reduce_ex__',\n",
       " '__repr__',\n",
       " '__setattr__',\n",
       " '__sizeof__',\n",
       " '__str__',\n",
       " '__subclasshook__',\n",
       " 'clear',\n",
       " 'f_back',\n",
       " 'f_builtins',\n",
       " 'f_code',\n",
       " 'f_globals',\n",
       " 'f_lasti',\n",
       " 'f_lineno',\n",
       " 'f_locals',\n",
       " 'f_trace',\n",
       " 'f_trace_lines',\n",
       " 'f_trace_opcodes']"
      ]
     },
     "execution_count": 18,
     "metadata": {},
     "output_type": "execute_result"
    }
   ],
   "source": [
    "dir(error.__traceback__.tb_frame)"
   ]
  },
  {
   "cell_type": "code",
   "execution_count": 20,
   "metadata": {},
   "outputs": [
    {
     "data": {
      "text/plain": [
       "dict"
      ]
     },
     "execution_count": 20,
     "metadata": {},
     "output_type": "execute_result"
    }
   ],
   "source": [
    "type(error.__traceback__.tb_frame.f_locals)"
   ]
  },
  {
   "cell_type": "code",
   "execution_count": 21,
   "metadata": {},
   "outputs": [
    {
     "ename": "RuntimeError",
     "evalue": "dictionary changed size during iteration",
     "output_type": "error",
     "traceback": [
      "\u001b[1;31m---------------------------------------------------------------------------\u001b[0m",
      "\u001b[1;31mRuntimeError\u001b[0m                              Traceback (most recent call last)",
      "\u001b[1;32m<ipython-input-21-2d8e72cafe8d>\u001b[0m in \u001b[0;36m<module>\u001b[1;34m\u001b[0m\n\u001b[1;32m----> 1\u001b[1;33m \u001b[1;32mfor\u001b[0m \u001b[0mkey\u001b[0m\u001b[1;33m,\u001b[0m \u001b[0mvalue\u001b[0m \u001b[1;32min\u001b[0m \u001b[0merror\u001b[0m\u001b[1;33m.\u001b[0m\u001b[0m__traceback__\u001b[0m\u001b[1;33m.\u001b[0m\u001b[0mtb_frame\u001b[0m\u001b[1;33m.\u001b[0m\u001b[0mf_locals\u001b[0m\u001b[1;33m.\u001b[0m\u001b[0mitems\u001b[0m\u001b[1;33m(\u001b[0m\u001b[1;33m)\u001b[0m\u001b[1;33m:\u001b[0m\u001b[1;33m\u001b[0m\u001b[1;33m\u001b[0m\u001b[0m\n\u001b[0m\u001b[0;32m      2\u001b[0m     \u001b[1;32mpass\u001b[0m\u001b[1;33m\u001b[0m\u001b[1;33m\u001b[0m\u001b[0m\n",
      "\u001b[1;31mRuntimeError\u001b[0m: dictionary changed size during iteration"
     ]
    }
   ],
   "source": [
    "for key, value in error.__traceback__.tb_frame.f_locals.items():\n",
    "    pass"
   ]
  },
  {
   "cell_type": "markdown",
   "metadata": {},
   "source": [
    "make a copy to avoid this error"
   ]
  },
  {
   "cell_type": "code",
   "execution_count": 22,
   "metadata": {},
   "outputs": [
    {
     "name": "stdout",
     "output_type": "stream",
     "text": [
      "__name__ __main__\n",
      "__doc__ Automatically created module for IPython interactive environment\n",
      "__package__ None\n",
      "__loader__ None\n",
      "__spec__ None\n",
      "__builtin__ <module 'builtins' (built-in)>\n",
      "__builtins__ <module 'builtins' (built-in)>\n",
      "_ih ['', 'import ctypes', 'def ref_count(address):\\n    return ctypes.c_long.from_address(address).value', 'class Person:\\n    def __init__(self, name):\\n        self.name = name\\n    def __repr__(self):\\n        return f\"Person({self.name})\"\\n    def __del__(self):\\n        print(f\"__del__ called for {self}...\")', 'p = Person(\"Alex\")\\nid_p = id(p)\\nref_count(id_p)', 'p = None', 'p = Person(\"Alex\")\\ndel p # garbage collector was called', 'class Person:\\n    def __init__(self, name):\\n        self.name = name\\n    def __repr__(self):\\n        return f\"Person({self.name})\"\\n    def __del__(self): # always called when garbage collector is called\\n        print(f\"__del__ called for {self}...\")\\n        \\n    def gen_ex(self):\\n        raise ValueError(\"Gen_ex called...\")', 'class Person:\\n    def __init__(self, name):\\n        self.name = name\\n    def __repr__(self):\\n        return f\"Person({self.name})\"\\n    def __del__(self): # always called when garbage collector is called\\n        print(f\"__del__ called for {self}...\")\\n        \\n    def gen_ex(self):\\n        raise ValueError(\"Gen_ex called...\")', 'p = Person(\"eric\")\\nid_p = id(p)\\nref_count(id_p)', 'try:\\n    p.gen_ex()\\nexcept ValueError as ex:\\n    print(ex)\\n    ', 'ex', 'try:\\n    p.gen_ex()\\nexcept ValueError as ex:\\n    error = ex \\n    print(ex)\\n    ', 'error', 'ref_count(p_id)', 'ref_count(id_p)', 'dir(error)', 'dir(error.__traceback__)', 'dir(error.__traceback__.tb_frame)', 'dir(error.__traceback__.tb_frame.f_locals)', 'type(error.__traceback__.tb_frame.f_locals)', 'for key, value in error.__traceback__.tb_frame.f_locals.items():\\n    pass', 'for key, value in error.__traceback__.tb_frame.f_locals.copy().items():\\n    print(key, value)']\n",
      "_oh {4: 1, 9: 1, 13: ValueError('Gen_ex called...'), 15: 2, 16: ['__cause__', '__class__', '__context__', '__delattr__', '__dict__', '__dir__', '__doc__', '__eq__', '__format__', '__ge__', '__getattribute__', '__gt__', '__hash__', '__init__', '__init_subclass__', '__le__', '__lt__', '__ne__', '__new__', '__reduce__', '__reduce_ex__', '__repr__', '__setattr__', '__setstate__', '__sizeof__', '__str__', '__subclasshook__', '__suppress_context__', '__traceback__', 'args', 'with_traceback'], 17: ['tb_frame', 'tb_lasti', 'tb_lineno', 'tb_next'], 18: ['__class__', '__delattr__', '__dir__', '__doc__', '__eq__', '__format__', '__ge__', '__getattribute__', '__gt__', '__hash__', '__init__', '__init_subclass__', '__le__', '__lt__', '__ne__', '__new__', '__reduce__', '__reduce_ex__', '__repr__', '__setattr__', '__sizeof__', '__str__', '__subclasshook__', 'clear', 'f_back', 'f_builtins', 'f_code', 'f_globals', 'f_lasti', 'f_lineno', 'f_locals', 'f_trace', 'f_trace_lines', 'f_trace_opcodes'], 19: ['__class__', '__contains__', '__delattr__', '__delitem__', '__dir__', '__doc__', '__eq__', '__format__', '__ge__', '__getattribute__', '__getitem__', '__gt__', '__hash__', '__init__', '__init_subclass__', '__iter__', '__le__', '__len__', '__lt__', '__ne__', '__new__', '__reduce__', '__reduce_ex__', '__repr__', '__setattr__', '__setitem__', '__sizeof__', '__str__', '__subclasshook__', 'clear', 'copy', 'fromkeys', 'get', 'items', 'keys', 'pop', 'popitem', 'setdefault', 'update', 'values'], 20: <class 'dict'>}\n",
      "_dh ['C:\\\\Users\\\\Lera\\\\Desktop\\\\jupiter\\\\udemy\\\\OOP\\\\polimorphism_special_methods']\n",
      "In ['', 'import ctypes', 'def ref_count(address):\\n    return ctypes.c_long.from_address(address).value', 'class Person:\\n    def __init__(self, name):\\n        self.name = name\\n    def __repr__(self):\\n        return f\"Person({self.name})\"\\n    def __del__(self):\\n        print(f\"__del__ called for {self}...\")', 'p = Person(\"Alex\")\\nid_p = id(p)\\nref_count(id_p)', 'p = None', 'p = Person(\"Alex\")\\ndel p # garbage collector was called', 'class Person:\\n    def __init__(self, name):\\n        self.name = name\\n    def __repr__(self):\\n        return f\"Person({self.name})\"\\n    def __del__(self): # always called when garbage collector is called\\n        print(f\"__del__ called for {self}...\")\\n        \\n    def gen_ex(self):\\n        raise ValueError(\"Gen_ex called...\")', 'class Person:\\n    def __init__(self, name):\\n        self.name = name\\n    def __repr__(self):\\n        return f\"Person({self.name})\"\\n    def __del__(self): # always called when garbage collector is called\\n        print(f\"__del__ called for {self}...\")\\n        \\n    def gen_ex(self):\\n        raise ValueError(\"Gen_ex called...\")', 'p = Person(\"eric\")\\nid_p = id(p)\\nref_count(id_p)', 'try:\\n    p.gen_ex()\\nexcept ValueError as ex:\\n    print(ex)\\n    ', 'ex', 'try:\\n    p.gen_ex()\\nexcept ValueError as ex:\\n    error = ex \\n    print(ex)\\n    ', 'error', 'ref_count(p_id)', 'ref_count(id_p)', 'dir(error)', 'dir(error.__traceback__)', 'dir(error.__traceback__.tb_frame)', 'dir(error.__traceback__.tb_frame.f_locals)', 'type(error.__traceback__.tb_frame.f_locals)', 'for key, value in error.__traceback__.tb_frame.f_locals.items():\\n    pass', 'for key, value in error.__traceback__.tb_frame.f_locals.copy().items():\\n    print(key, value)']\n",
      "Out {4: 1, 9: 1, 13: ValueError('Gen_ex called...'), 15: 2, 16: ['__cause__', '__class__', '__context__', '__delattr__', '__dict__', '__dir__', '__doc__', '__eq__', '__format__', '__ge__', '__getattribute__', '__gt__', '__hash__', '__init__', '__init_subclass__', '__le__', '__lt__', '__ne__', '__new__', '__reduce__', '__reduce_ex__', '__repr__', '__setattr__', '__setstate__', '__sizeof__', '__str__', '__subclasshook__', '__suppress_context__', '__traceback__', 'args', 'with_traceback'], 17: ['tb_frame', 'tb_lasti', 'tb_lineno', 'tb_next'], 18: ['__class__', '__delattr__', '__dir__', '__doc__', '__eq__', '__format__', '__ge__', '__getattribute__', '__gt__', '__hash__', '__init__', '__init_subclass__', '__le__', '__lt__', '__ne__', '__new__', '__reduce__', '__reduce_ex__', '__repr__', '__setattr__', '__sizeof__', '__str__', '__subclasshook__', 'clear', 'f_back', 'f_builtins', 'f_code', 'f_globals', 'f_lasti', 'f_lineno', 'f_locals', 'f_trace', 'f_trace_lines', 'f_trace_opcodes'], 19: ['__class__', '__contains__', '__delattr__', '__delitem__', '__dir__', '__doc__', '__eq__', '__format__', '__ge__', '__getattribute__', '__getitem__', '__gt__', '__hash__', '__init__', '__init_subclass__', '__iter__', '__le__', '__len__', '__lt__', '__ne__', '__new__', '__reduce__', '__reduce_ex__', '__repr__', '__setattr__', '__setitem__', '__sizeof__', '__str__', '__subclasshook__', 'clear', 'copy', 'fromkeys', 'get', 'items', 'keys', 'pop', 'popitem', 'setdefault', 'update', 'values'], 20: <class 'dict'>}\n",
      "get_ipython <bound method InteractiveShell.get_ipython of <ipykernel.zmqshell.ZMQInteractiveShell object at 0x000001594D6BFC88>>\n",
      "exit <IPython.core.autocall.ZMQExitAutocall object at 0x000001594D719948>\n",
      "quit <IPython.core.autocall.ZMQExitAutocall object at 0x000001594D719948>\n",
      "_ <class 'dict'>\n",
      "__ ['__class__', '__contains__', '__delattr__', '__delitem__', '__dir__', '__doc__', '__eq__', '__format__', '__ge__', '__getattribute__', '__getitem__', '__gt__', '__hash__', '__init__', '__init_subclass__', '__iter__', '__le__', '__len__', '__lt__', '__ne__', '__new__', '__reduce__', '__reduce_ex__', '__repr__', '__setattr__', '__setitem__', '__sizeof__', '__str__', '__subclasshook__', 'clear', 'copy', 'fromkeys', 'get', 'items', 'keys', 'pop', 'popitem', 'setdefault', 'update', 'values']\n",
      "___ ['__class__', '__delattr__', '__dir__', '__doc__', '__eq__', '__format__', '__ge__', '__getattribute__', '__gt__', '__hash__', '__init__', '__init_subclass__', '__le__', '__lt__', '__ne__', '__new__', '__reduce__', '__reduce_ex__', '__repr__', '__setattr__', '__sizeof__', '__str__', '__subclasshook__', 'clear', 'f_back', 'f_builtins', 'f_code', 'f_globals', 'f_lasti', 'f_lineno', 'f_locals', 'f_trace', 'f_trace_lines', 'f_trace_opcodes']\n",
      "pd <module 'pandas' from 'C:\\\\Users\\\\Lera\\\\Anaconda3\\\\lib\\\\site-packages\\\\pandas\\\\__init__.py'>\n",
      "np <module 'numpy' from 'C:\\\\Users\\\\Lera\\\\Anaconda3\\\\lib\\\\site-packages\\\\numpy\\\\__init__.py'>\n",
      "_i for key, value in error.__traceback__.tb_frame.f_locals.items():\n",
      "    pass\n",
      "_ii type(error.__traceback__.tb_frame.f_locals)\n",
      "_iii dir(error.__traceback__.tb_frame.f_locals)\n",
      "_i1 import ctypes\n",
      "ctypes <module 'ctypes' from 'C:\\\\Users\\\\Lera\\\\Anaconda3\\\\lib\\\\ctypes\\\\__init__.py'>\n",
      "_i2 def ref_count(address):\n",
      "    return ctypes.c_long.from_address(address).value\n",
      "ref_count <function ref_count at 0x000001594D76EAF8>\n",
      "_i3 class Person:\n",
      "    def __init__(self, name):\n",
      "        self.name = name\n",
      "    def __repr__(self):\n",
      "        return f\"Person({self.name})\"\n",
      "    def __del__(self):\n",
      "        print(f\"__del__ called for {self}...\")\n",
      "Person <class '__main__.Person'>\n",
      "_i4 p = Person(\"Alex\")\n",
      "id_p = id(p)\n",
      "ref_count(id_p)\n",
      "id_p 1483097645000\n",
      "_4 1\n",
      "_i5 p = None\n",
      "_i6 p = Person(\"Alex\")\n",
      "del p # garbage collector was called\n",
      "_i7 class Person:\n",
      "    def __init__(self, name):\n",
      "        self.name = name\n",
      "    def __repr__(self):\n",
      "        return f\"Person({self.name})\"\n",
      "    def __del__(self): # always called when garbage collector is called\n",
      "        print(f\"__del__ called for {self}...\")\n",
      "        \n",
      "    def gen_ex(self):\n",
      "        raise ValueError(\"Gen_ex called...\")\n",
      "_i8 class Person:\n",
      "    def __init__(self, name):\n",
      "        self.name = name\n",
      "    def __repr__(self):\n",
      "        return f\"Person({self.name})\"\n",
      "    def __del__(self): # always called when garbage collector is called\n",
      "        print(f\"__del__ called for {self}...\")\n",
      "        \n",
      "    def gen_ex(self):\n",
      "        raise ValueError(\"Gen_ex called...\")\n",
      "_i9 p = Person(\"eric\")\n",
      "id_p = id(p)\n",
      "ref_count(id_p)\n",
      "p Person(eric)\n",
      "_9 1\n",
      "_i10 try:\n",
      "    p.gen_ex()\n",
      "except ValueError as ex:\n",
      "    print(ex)\n",
      "    \n",
      "_i11 ex\n",
      "_i12 try:\n",
      "    p.gen_ex()\n",
      "except ValueError as ex:\n",
      "    error = ex \n",
      "    print(ex)\n",
      "    \n",
      "error Gen_ex called...\n",
      "_i13 error\n",
      "_13 Gen_ex called...\n",
      "_i14 ref_count(p_id)\n",
      "_i15 ref_count(id_p)\n",
      "_15 2\n",
      "_i16 dir(error)\n",
      "_16 ['__cause__', '__class__', '__context__', '__delattr__', '__dict__', '__dir__', '__doc__', '__eq__', '__format__', '__ge__', '__getattribute__', '__gt__', '__hash__', '__init__', '__init_subclass__', '__le__', '__lt__', '__ne__', '__new__', '__reduce__', '__reduce_ex__', '__repr__', '__setattr__', '__setstate__', '__sizeof__', '__str__', '__subclasshook__', '__suppress_context__', '__traceback__', 'args', 'with_traceback']\n",
      "_i17 dir(error.__traceback__)\n",
      "_17 ['tb_frame', 'tb_lasti', 'tb_lineno', 'tb_next']\n",
      "_i18 dir(error.__traceback__.tb_frame)\n",
      "_18 ['__class__', '__delattr__', '__dir__', '__doc__', '__eq__', '__format__', '__ge__', '__getattribute__', '__gt__', '__hash__', '__init__', '__init_subclass__', '__le__', '__lt__', '__ne__', '__new__', '__reduce__', '__reduce_ex__', '__repr__', '__setattr__', '__sizeof__', '__str__', '__subclasshook__', 'clear', 'f_back', 'f_builtins', 'f_code', 'f_globals', 'f_lasti', 'f_lineno', 'f_locals', 'f_trace', 'f_trace_lines', 'f_trace_opcodes']\n",
      "_i19 dir(error.__traceback__.tb_frame.f_locals)\n",
      "_19 ['__class__', '__contains__', '__delattr__', '__delitem__', '__dir__', '__doc__', '__eq__', '__format__', '__ge__', '__getattribute__', '__getitem__', '__gt__', '__hash__', '__init__', '__init_subclass__', '__iter__', '__le__', '__len__', '__lt__', '__ne__', '__new__', '__reduce__', '__reduce_ex__', '__repr__', '__setattr__', '__setitem__', '__sizeof__', '__str__', '__subclasshook__', 'clear', 'copy', 'fromkeys', 'get', 'items', 'keys', 'pop', 'popitem', 'setdefault', 'update', 'values']\n",
      "_i20 type(error.__traceback__.tb_frame.f_locals)\n",
      "_20 <class 'dict'>\n",
      "_i21 for key, value in error.__traceback__.tb_frame.f_locals.items():\n",
      "    pass\n",
      "key __name__\n",
      "value __main__\n",
      "_i22 for key, value in error.__traceback__.tb_frame.f_locals.copy().items():\n",
      "    print(key, value)\n"
     ]
    }
   ],
   "source": [
    "for key, value in error.__traceback__.tb_frame.f_locals.copy().items():\n",
    "    print(key, value)"
   ]
  },
  {
   "cell_type": "code",
   "execution_count": 23,
   "metadata": {},
   "outputs": [
    {
     "name": "stdout",
     "output_type": "stream",
     "text": [
      "p Person(eric) 1483097645000\n"
     ]
    }
   ],
   "source": [
    "for key, value in error.__traceback__.tb_frame.f_locals.copy().items():\n",
    "    if isinstance(value, Person):\n",
    "        print(key, value, id(value))"
   ]
  },
  {
   "cell_type": "code",
   "execution_count": 24,
   "metadata": {},
   "outputs": [],
   "source": [
    "del p\n",
    "del error"
   ]
  },
  {
   "cell_type": "code",
   "execution_count": 25,
   "metadata": {},
   "outputs": [
    {
     "data": {
      "text/plain": [
       "1"
      ]
     },
     "execution_count": 25,
     "metadata": {},
     "output_type": "execute_result"
    }
   ],
   "source": [
    "ref_count(id_p)"
   ]
  },
  {
   "cell_type": "markdown",
   "metadata": {},
   "source": [
    "#### all unhandled exception in the __del__ method are ignored by python"
   ]
  },
  {
   "cell_type": "code",
   "execution_count": 30,
   "metadata": {},
   "outputs": [
    {
     "name": "stdout",
     "output_type": "stream",
     "text": [
      "nothing interrupted our code\n"
     ]
    },
    {
     "name": "stderr",
     "output_type": "stream",
     "text": [
      "Exception ignored in: <function Person.__del__ at 0x000001594F8D0798>\n",
      "Traceback (most recent call last):\n",
      "  File \"<ipython-input-30-d73b6a46811c>\", line 3, in __del__\n",
      "ValueError: Exception in the __del__ method...\n"
     ]
    }
   ],
   "source": [
    "class Person:\n",
    "    def __del__(self):\n",
    "        raise ValueError(\"Exception in the __del__ method...\")\n",
    "p = Person()\n",
    "del p\n",
    "print(\"nothing interrupted our code\")"
   ]
  },
  {
   "cell_type": "markdown",
   "metadata": {},
   "source": [
    "#### redirecting standart output"
   ]
  },
  {
   "cell_type": "code",
   "execution_count": 32,
   "metadata": {},
   "outputs": [
    {
     "data": {
      "text/plain": [
       "(<ipykernel.iostream.OutStream at 0x1594d6a5448>,\n",
       " <ipykernel.iostream.OutStream at 0x1594d687dc8>)"
      ]
     },
     "execution_count": 32,
     "metadata": {},
     "output_type": "execute_result"
    }
   ],
   "source": [
    "sys.stderr, sys.stdout"
   ]
  },
  {
   "cell_type": "markdown",
   "metadata": {},
   "source": [
    "let's redirect to a file by creating a context manager"
   ]
  },
  {
   "cell_type": "code",
   "execution_count": 44,
   "metadata": {},
   "outputs": [],
   "source": [
    "class ErrToFile:\n",
    "    def __init__(self, fname):\n",
    "        self._fname = fname\n",
    "        self._current_stderr = sys.stderr\n",
    "        \n",
    "    def __enter__(self):\n",
    "        self._file = open(self._fname, \"w\")\n",
    "        sys.stderr = self._file\n",
    "        \n",
    "    def __exit__(self, exc_type, exc_value, exc_tb):\n",
    "        sys.stderr = self._current_stderr\n",
    "        if self._file:\n",
    "            self._file.close()\n",
    "        return False"
   ]
  },
  {
   "cell_type": "code",
   "execution_count": 45,
   "metadata": {},
   "outputs": [
    {
     "name": "stdout",
     "output_type": "stream",
     "text": [
      "100\n",
      "200\n"
     ]
    }
   ],
   "source": [
    "p = Person()\n",
    "with ErrToFile('err.txt'):\n",
    "    del p\n",
    "    print(100)\n",
    "print(200)"
   ]
  },
  {
   "cell_type": "code",
   "execution_count": null,
   "metadata": {},
   "outputs": [],
   "source": []
  }
 ],
 "metadata": {
  "kernelspec": {
   "display_name": "Python 3",
   "language": "python",
   "name": "python3"
  },
  "language_info": {
   "codemirror_mode": {
    "name": "ipython",
    "version": 3
   },
   "file_extension": ".py",
   "mimetype": "text/x-python",
   "name": "python",
   "nbconvert_exporter": "python",
   "pygments_lexer": "ipython3",
   "version": "3.7.4"
  }
 },
 "nbformat": 4,
 "nbformat_minor": 4
}
