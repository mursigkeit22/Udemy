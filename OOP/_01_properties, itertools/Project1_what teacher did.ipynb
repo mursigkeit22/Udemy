{
 "cells": [
  {
   "cell_type": "code",
   "execution_count": 117,
   "metadata": {},
   "outputs": [],
   "source": [
    "import numbers\n",
    "from datetime import timedelta, datetime\n",
    "import itertools\n",
    "from collections import namedtuple"
   ]
  },
  {
   "cell_type": "markdown",
   "metadata": {},
   "source": [
    "конечный вариант внизу"
   ]
  },
  {
   "cell_type": "code",
   "execution_count": 145,
   "metadata": {},
   "outputs": [],
   "source": [
    "\n",
    "class TimeZone:\n",
    "    \"\"\"a TimeZone class used to store the time zone name and offset \n",
    "    definition (in hours and minutes)\"\"\"\n",
    "    def __init__(self, name, offset_hours, offset_minutes, ):\n",
    "        if name is None or len(str(name).strip())==0:\n",
    "            raise ValueError('Timezone name cannot be empty.')\n",
    "        \n",
    "        self._name = str(name).strip()\n",
    "        \n",
    "        if not isinstance(offset_hours, int):\n",
    "            raise ValueError('Hour offset must be an integer.')\n",
    "        if not isinstance(offset_minutes, int):\n",
    "            raise ValueError('Minute offset must be an integer.')\n",
    "            \n",
    "        if abs(offset_minutes) > 59:\n",
    "            raise ValueError ('Minute offset must be between -59 and 59 (inclusive)')\n",
    "        \n",
    "        offset = timedelta(hours=offset_hours, minutes = offset_minutes)\n",
    "        if offset < timedelta(hours=-12, minutes=0) or offset > timedelta(hours=14, minutes=0):\n",
    "            raise ValueError('Offset must be between -12:00 and +14:00.')\n",
    "        \n",
    "        self._offset_hours = offset_hours\n",
    "        self._offset_minutes = offset_minutes\n",
    "        self._offset = offset\n",
    "\n",
    "    @property\n",
    "    def offset(self):\n",
    "        return self._offset    \n",
    "   \n",
    "    @property\n",
    "    def name(self):\n",
    "        return self._name\n",
    "    \n",
    "    def __eq__(self, other):\n",
    "        return (isinstance(other, TimeZone) and \n",
    "                self.name == other.name and \n",
    "                self._offset == other.offset)\n",
    "    \n",
    "    def __repr__(self):\n",
    "        return f\"TimeZone(name={self.name},  offset_hours={self._offset_hours}, offset_minutes={self._offset_minutes}.\"\n",
    "        \n",
    "      "
   ]
  },
  {
   "cell_type": "code",
   "execution_count": 40,
   "metadata": {},
   "outputs": [],
   "source": [
    "tz1=TimeZone(\"ABC\", -2, -15)"
   ]
  },
  {
   "cell_type": "code",
   "execution_count": 41,
   "metadata": {},
   "outputs": [
    {
     "data": {
      "text/plain": [
       "'ABC'"
      ]
     },
     "execution_count": 41,
     "metadata": {},
     "output_type": "execute_result"
    }
   ],
   "source": [
    "tz1.name"
   ]
  },
  {
   "cell_type": "code",
   "execution_count": 42,
   "metadata": {},
   "outputs": [
    {
     "name": "stdout",
     "output_type": "stream",
     "text": [
      "-1 day, 21:45:00\n"
     ]
    }
   ],
   "source": [
    "print(tz1.offset)"
   ]
  },
  {
   "cell_type": "code",
   "execution_count": 43,
   "metadata": {},
   "outputs": [],
   "source": [
    "dt = datetime.utcnow()"
   ]
  },
  {
   "cell_type": "code",
   "execution_count": 44,
   "metadata": {},
   "outputs": [
    {
     "name": "stdout",
     "output_type": "stream",
     "text": [
      "2021-03-05 14:06:08.393314\n"
     ]
    }
   ],
   "source": [
    "print(dt)"
   ]
  },
  {
   "cell_type": "code",
   "execution_count": 45,
   "metadata": {},
   "outputs": [
    {
     "name": "stdout",
     "output_type": "stream",
     "text": [
      "2021-03-05 11:51:08.393314\n"
     ]
    }
   ],
   "source": [
    "print(dt+tz1.offset)"
   ]
  },
  {
   "cell_type": "code",
   "execution_count": 46,
   "metadata": {},
   "outputs": [
    {
     "data": {
      "text/plain": [
       "<generator object transaction_ids at 0x000002F49D6A2248>"
      ]
     },
     "execution_count": 46,
     "metadata": {},
     "output_type": "execute_result"
    }
   ],
   "source": [
    "# вместо итертулс можно написать свой генератор\n",
    "def transaction_ids(start_id):\n",
    "    while True:\n",
    "        start_id += 1\n",
    "        yield start_id\n",
    "temp = transaction_ids(0)\n",
    "temp"
   ]
  },
  {
   "cell_type": "code",
   "execution_count": 47,
   "metadata": {},
   "outputs": [
    {
     "name": "stdout",
     "output_type": "stream",
     "text": [
      "1\n",
      "2\n",
      "3\n"
     ]
    }
   ],
   "source": [
    "print(next(temp))\n",
    "print(next(temp))\n",
    "print(next(temp))"
   ]
  },
  {
   "cell_type": "code",
   "execution_count": 82,
   "metadata": {},
   "outputs": [],
   "source": [
    "class Account:\n",
    "    interest_rate = 0.5\n",
    "    transaction_counter = itertools.count(0)\n",
    "    \n",
    "    def __init__(self, account_number, first_name, last_name,\n",
    "                 timezone = None, initial_balance = 0):\n",
    "        self._account_number = account_number\n",
    "        self.first_name = first_name\n",
    "        self.last_name = last_name\n",
    "        self._balance = float(initial_balance)\n",
    "        if not timezone:\n",
    "            timezone = TimeZone('UTC', 0,0)\n",
    "        self.timezone=timezone\n",
    "        \n",
    "        \n",
    "        \n",
    "    @property\n",
    "    def balance(self):\n",
    "        return self._balance\n",
    "        \n",
    "        \n",
    "    @property\n",
    "    def timezone(self):\n",
    "        return self._timezone\n",
    "    \n",
    "    @timezone.setter\n",
    "    def timezone(self, value):\n",
    "        print(\"timezone setter...\")\n",
    "        if not isinstance(value, TimeZone):\n",
    "            raise ValueError(\"Time zone must be a valid TimeZone object\")\n",
    "        self._timezone = value\n",
    "        \n",
    "    @property\n",
    "    def account_number(self):\n",
    "        return self._account_number\n",
    "        \n",
    "    @property\n",
    "    def first_name(self):\n",
    "        print('call first name property')\n",
    "        return self._first_name\n",
    "    \n",
    "    @first_name.setter\n",
    "    def first_name(self, value):\n",
    "        self.validate_and_set_name('_first_name', value, \"first_name\")\n",
    "        \n",
    "    @property\n",
    "    def last_name(self):\n",
    "        return self._last_name\n",
    "    \n",
    "    @last_name.setter\n",
    "    def last_name(self, value):\n",
    "        self.validate_and_set_name('_last_name', value, \"last_name\")\n",
    "        \n",
    "    @property\n",
    "    def full_name(self):\n",
    "        return f'{self.first_name} {self.last_name}'\n",
    "    \n",
    "    \n",
    "    def validate_and_set_name(self, attr_name, value, field_title):\n",
    "        if not value or len(str(value).strip()) == 0:\n",
    "            raise ValueError(f'{field_title} name cannot be empty')\n",
    "        setattr(self, attr_name, value)\n",
    "    "
   ]
  },
  {
   "cell_type": "code",
   "execution_count": 83,
   "metadata": {},
   "outputs": [
    {
     "name": "stdout",
     "output_type": "stream",
     "text": [
      "timezone setter...\n",
      "timezone setter...\n"
     ]
    }
   ],
   "source": [
    "a1 = Account(12345, 'John', \"Hope\")\n",
    "a2 = Account('12', 'Jo', \"Hops\", initial_balance = 100)"
   ]
  },
  {
   "cell_type": "code",
   "execution_count": 85,
   "metadata": {},
   "outputs": [
    {
     "name": "stdout",
     "output_type": "stream",
     "text": [
      "2 10 10\n",
      "2 3 3\n",
      "2 3 3\n",
      "2 10 10\n",
      "{'_account_number': 12345, '_first_name': 'John', '_last_name': 'Hope', '_balance': 0.0, '_timezone': TimeZone(name=UTC,  offset_hours=0, offset_minutes=0., 'interest_rate': 2} {'_account_number': '12', '_first_name': 'Jo', '_last_name': 'Hops', '_balance': 100.0, '_timezone': TimeZone(name=UTC,  offset_hours=0, offset_minutes=0.}\n"
     ]
    }
   ],
   "source": [
    "print(a1.interest_rate, a2.interest_rate, Account.interest_rate, )\n",
    "Account.interest_rate = 3\n",
    "print(a1.interest_rate, a2.interest_rate, Account.interest_rate, )\n",
    "a1.interest_rate = 2\n",
    "print(a1.interest_rate, a2.interest_rate, Account.interest_rate, )\n",
    "Account.interest_rate = 10\n",
    "print(a1.interest_rate, a2.interest_rate, Account.interest_rate, )\n",
    "print(a1.__dict__, a2.__dict__) #a1 has interest rate, a2 has not. \n",
    "# we have overwritten interest_rate attribute on the instance level\n",
    "# and we don't want to do it, so we'll write classmethods to read and set interest_rate below"
   ]
  },
  {
   "cell_type": "code",
   "execution_count": null,
   "metadata": {},
   "outputs": [],
   "source": [
    "a1."
   ]
  },
  {
   "cell_type": "code",
   "execution_count": 60,
   "metadata": {},
   "outputs": [
    {
     "data": {
      "text/plain": [
       "'John'"
      ]
     },
     "execution_count": 60,
     "metadata": {},
     "output_type": "execute_result"
    }
   ],
   "source": [
    "a1._first_name"
   ]
  },
  {
   "cell_type": "code",
   "execution_count": 61,
   "metadata": {},
   "outputs": [
    {
     "data": {
      "text/plain": [
       "'Hope'"
      ]
     },
     "execution_count": 61,
     "metadata": {},
     "output_type": "execute_result"
    }
   ],
   "source": [
    "a1._last_name"
   ]
  },
  {
   "cell_type": "code",
   "execution_count": 62,
   "metadata": {},
   "outputs": [],
   "source": [
    "a1.first_name = 'Seed'"
   ]
  },
  {
   "cell_type": "code",
   "execution_count": 63,
   "metadata": {},
   "outputs": [
    {
     "name": "stdout",
     "output_type": "stream",
     "text": [
      "call first name property\n"
     ]
    },
    {
     "data": {
      "text/plain": [
       "'Seed'"
      ]
     },
     "execution_count": 63,
     "metadata": {},
     "output_type": "execute_result"
    }
   ],
   "source": [
    "a1.first_name"
   ]
  },
  {
   "cell_type": "code",
   "execution_count": 64,
   "metadata": {},
   "outputs": [
    {
     "data": {
      "text/plain": [
       "'Seed'"
      ]
     },
     "execution_count": 64,
     "metadata": {},
     "output_type": "execute_result"
    }
   ],
   "source": [
    "a1._first_name"
   ]
  },
  {
   "cell_type": "code",
   "execution_count": 65,
   "metadata": {},
   "outputs": [
    {
     "data": {
      "text/plain": [
       "{'_account_number': '12345',\n",
       " '_first_name': 'Seed',\n",
       " '_last_name': 'Hope',\n",
       " '_timezone': TimeZone(name=UTC,  offset_hours=0, offset_minutes=0.,\n",
       " '_balance': 0.0}"
      ]
     },
     "execution_count": 65,
     "metadata": {},
     "output_type": "execute_result"
    }
   ],
   "source": [
    "a1.__dict__"
   ]
  },
  {
   "cell_type": "code",
   "execution_count": 66,
   "metadata": {},
   "outputs": [
    {
     "name": "stdout",
     "output_type": "stream",
     "text": [
      "timezone setter...\n"
     ]
    }
   ],
   "source": [
    "a1.timezone = tz1"
   ]
  },
  {
   "cell_type": "code",
   "execution_count": 67,
   "metadata": {},
   "outputs": [
    {
     "data": {
      "text/plain": [
       "TimeZone(name=ABC,  offset_hours=-2, offset_minutes=-15."
      ]
     },
     "execution_count": 67,
     "metadata": {},
     "output_type": "execute_result"
    }
   ],
   "source": [
    "a1.timezone"
   ]
  },
  {
   "cell_type": "code",
   "execution_count": null,
   "metadata": {},
   "outputs": [],
   "source": []
  },
  {
   "cell_type": "code",
   "execution_count": null,
   "metadata": {},
   "outputs": [],
   "source": []
  },
  {
   "cell_type": "code",
   "execution_count": null,
   "metadata": {},
   "outputs": [],
   "source": []
  },
  {
   "cell_type": "code",
   "execution_count": 104,
   "metadata": {},
   "outputs": [],
   "source": [
    "class TimeZone:\n",
    "    \"\"\"a TimeZone class used to store the time zone name and offset \n",
    "    definition (in hours and minutes)\"\"\"\n",
    "    def __init__(self, name, offset_hours, offset_minutes, ):\n",
    "        if name is None or len(str(name).strip())==0:\n",
    "            raise ValueError('Timezone name cannot be empty.')\n",
    "        \n",
    "        self._name = str(name).strip()\n",
    "        \n",
    "        if not isinstance(offset_hours, int):\n",
    "            raise ValueError('Hour offset must be an integer.')\n",
    "        if not isinstance(offset_minutes, int):\n",
    "            raise ValueError('Minute offset must be an integer.')\n",
    "            \n",
    "        if abs(offset_minutes) > 59:\n",
    "            raise ValueError ('Minute offset must be between -59 and 59 (inclusive)')\n",
    "        \n",
    "        offset = timedelta(hours=offset_hours, minutes = offset_minutes)\n",
    "        if offset < timedelta(hours=-12, minutes=0) or offset > timedelta(hours=14, minutes=0):\n",
    "            raise ValueError('Offset must be between -12:00 and +14:00.')\n",
    "        \n",
    "        self._offset_hours = offset_hours\n",
    "        self._offset_minutes = offset_minutes\n",
    "        self._offset = offset\n",
    "\n",
    "    @property\n",
    "    def offset(self):\n",
    "        return self._offset    \n",
    "   \n",
    "    @property\n",
    "    def name(self):\n",
    "        return self._name\n",
    "    \n",
    "    def __eq__(self, other):\n",
    "        return (isinstance(other, TimeZone) and \n",
    "                self.name == other.name and \n",
    "                self._offset == other.offset)\n",
    "    \n",
    "    def __repr__(self):\n",
    "        return f\"TimeZone(name={self.name},  offset_hours={self._offset_hours}, offset_minutes={self._offset_minutes}.\"\n",
    "        \n",
    "      "
   ]
  },
  {
   "cell_type": "code",
   "execution_count": 118,
   "metadata": {},
   "outputs": [],
   "source": [
    "Confirmation = namedtuple(\"Confirmation\", \"account_number transaction_code transaction_id time_utc time\")   \n"
   ]
  },
  {
   "cell_type": "code",
   "execution_count": 165,
   "metadata": {},
   "outputs": [],
   "source": [
    "class Account:\n",
    "    _interest_rate = 0.5\n",
    "    transaction_counter = itertools.count(0)\n",
    "    _transaction_codes = {\"deposit\":\"D\", \"withdraw\":\"W\", \"interest\":\"I\", \"rejected\":\"X\"}\n",
    "    \n",
    "    def __init__(self, account_number, first_name, last_name,\n",
    "                 timezone = None, initial_balance = 0):\n",
    "        self._account_number = account_number\n",
    "        self.first_name = first_name\n",
    "        self.last_name = last_name\n",
    "        self._balance = float(initial_balance)\n",
    "        if not timezone:\n",
    "            timezone = TimeZone('UTC', 0,0)\n",
    "        self.timezone=timezone\n",
    "        \n",
    "    @staticmethod\n",
    "    def validate_real_number(value, min_value = None):\n",
    "        if not isinstance(value, numbers.Real):\n",
    "            raise ValueError('Value must be a real number.')\n",
    "            \n",
    "        if min_value is not None and value < min_value:\n",
    "             raise ValueError(f'Value must be at least {min_value}.')\n",
    "        return value\n",
    "        \n",
    "    @staticmethod\n",
    "    def parse_confirmation_code(confirmation_code, preferred_time_zone=None):\n",
    "        parts = confirmation_code.split('-')\n",
    "        if len(parts) != 4:\n",
    "            raise ValueError('Invalid confirmation code')\n",
    "        transaction_code, account_number, raw_dt_utc, transaction_id = parts\n",
    "        try:\n",
    "            dt_utc = datetime.strptime(raw_dt_utc,\"%Y%m%d%H%M%S\" )\n",
    "        except ValueError as ex:\n",
    "            raise ValueError('Invalid transaction datetime.') from ex\n",
    "        if not preferred_time_zone:\n",
    "            preferred_time_zone = TimeZone('UTC', 0,0)\n",
    "        if not isinstance(preferred_time_zone, TimeZone):\n",
    "            raise ValueError(\"Invalid TimeZone.\")\n",
    "            \n",
    "        df_preferred = dt_utc + preferred_time_zone.offset\n",
    "        df_preferred_str = f\"{df_preferred.strftime('%Y-%m-%d %H:%M:%S')} ({preferred_time_zone.name})\"\n",
    "        return Confirmation(account_number, transaction_code, transaction_id, dt_utc.isoformat(), df_preferred_str)\n",
    "            \n",
    "        \n",
    "    def generate_confirmation_code(self, transaction_code):\n",
    "        dt = datetime.utcnow().strftime(\"%Y%m%d%H%M%S\")\n",
    "        return f\"{transaction_code}-{self.account_number}-{dt}-{next(Account.transaction_counter)}\"\n",
    "    \n",
    "    \n",
    "    @classmethod\n",
    "    def get_interest_rate(cls):\n",
    "        return cls._interest_rate\n",
    "    \n",
    "    @classmethod\n",
    "    def set_interest_rate(cls, value):\n",
    "        if not isinstance(value, numbers.Real):\n",
    "            raise ValueError('Interest rate must be a real number.')\n",
    "        if value < 0:\n",
    "            raise ValueError('Interest rate cannot be negative.')\n",
    "        cls._interest_rate = value\n",
    "            \n",
    "    def deposit(self, value):\n",
    "        value = Account.validate_real_number(value, 0.01)\n",
    "        \n",
    "        transaction_code = Account._transaction_codes['deposit']\n",
    "        conf_code = self.generate_confirmation_code(transaction_code)\n",
    "        self._balance += value\n",
    "        return conf_code   \n",
    "    \n",
    "    def withdraw(self, value):\n",
    "        value = Account.validate_real_number(value, 0.01)\n",
    "        accepted = False    \n",
    "        if (self.balance - value) < 0:\n",
    "            transaction_code = Account._transaction_codes['rejected'] \n",
    "        else:\n",
    "            accepted = True\n",
    "            transaction_code = Account._transaction_codes['withdraw'] \n",
    "    \n",
    "        conf_code = self.generate_confirmation_code(transaction_code)\n",
    "        if accepted:\n",
    "            self._balance -= value\n",
    "        return conf_code   \n",
    "    \n",
    "    def pay_interest(self):\n",
    "        interest = self.balance * Account.get_interest_rate() / 100\n",
    "        conf_code = self.generate_confirmation_code(Account._transaction_codes['interest'])\n",
    "        self._balance += interest\n",
    "        return conf_code\n",
    "        \n",
    "        \n",
    "    @property\n",
    "    def balance(self):\n",
    "        return self._balance\n",
    "        \n",
    "        \n",
    "    @property\n",
    "    def timezone(self):\n",
    "        return self._timezone\n",
    "    \n",
    "    @timezone.setter\n",
    "    def timezone(self, value):\n",
    "        print(\"timezone setter...\")\n",
    "        if not isinstance(value, TimeZone):\n",
    "            raise ValueError(\"Time zone must be a valid TimeZone object\")\n",
    "        self._timezone = value\n",
    "        \n",
    "    @property\n",
    "    def account_number(self):\n",
    "        return self._account_number\n",
    "        \n",
    "    @property\n",
    "    def first_name(self):\n",
    "        print('call first name property')\n",
    "        return self._first_name\n",
    "    \n",
    "    @first_name.setter\n",
    "    def first_name(self, value):\n",
    "        self.validate_and_set_name('_first_name', value, \"first_name\")\n",
    "        \n",
    "    @property\n",
    "    def last_name(self):\n",
    "        return self._last_name\n",
    "    \n",
    "    @last_name.setter\n",
    "    def last_name(self, value):\n",
    "        self.validate_and_set_name('_last_name', value, \"last_name\")\n",
    "        \n",
    "    @property\n",
    "    def full_name(self):\n",
    "        return f'{self.first_name} {self.last_name}'\n",
    "    \n",
    "    \n",
    "    def validate_and_set_name(self, attr_name, value, field_title):\n",
    "        if not value or len(str(value).strip()) == 0:\n",
    "            raise ValueError(f'{field_title} name cannot be empty')\n",
    "        setattr(self, attr_name, value)\n",
    "    "
   ]
  },
  {
   "cell_type": "code",
   "execution_count": 167,
   "metadata": {},
   "outputs": [
    {
     "name": "stdout",
     "output_type": "stream",
     "text": [
      "timezone setter...\n",
      "timezone setter...\n"
     ]
    }
   ],
   "source": [
    "a1 = Account(12345, 'John', \"Hope\")\n",
    "a2 = Account('12', 'Jo', \"Hops\", initial_balance = 100)"
   ]
  },
  {
   "cell_type": "code",
   "execution_count": 153,
   "metadata": {},
   "outputs": [
    {
     "data": {
      "text/plain": [
       "'D-12345-20210306153544-1'"
      ]
     },
     "execution_count": 153,
     "metadata": {},
     "output_type": "execute_result"
    }
   ],
   "source": [
    "a1.deposit(5)"
   ]
  },
  {
   "cell_type": "code",
   "execution_count": 154,
   "metadata": {},
   "outputs": [
    {
     "data": {
      "text/plain": [
       "Confirmation(account_number='12345', transaction_code='D', transaction_id='2', time_utc='2021-03-06T15:35:47', time='2021-03-06 15:35:47 (UTC)')"
      ]
     },
     "execution_count": 154,
     "metadata": {},
     "output_type": "execute_result"
    }
   ],
   "source": [
    "a1.parse_confirmation_code(a1.deposit(5))"
   ]
  },
  {
   "cell_type": "code",
   "execution_count": 143,
   "metadata": {},
   "outputs": [
    {
     "data": {
      "text/plain": [
       "Confirmation(account_number='12345', transaction_code='D', transaction_id='2', time_utc='2021-03-06T13:35:28', time='2021-03-06 12:06:28 (test)')"
      ]
     },
     "execution_count": 143,
     "metadata": {},
     "output_type": "execute_result"
    }
   ],
   "source": [
    "a1.parse_confirmation_code(a1.deposit(5), TimeZone(\"test\", -1, -29))"
   ]
  },
  {
   "cell_type": "code",
   "execution_count": 144,
   "metadata": {},
   "outputs": [
    {
     "name": "stdout",
     "output_type": "stream",
     "text": [
      "Invalid transaction datetime.\n",
      "time data '2021030326' does not match format '%Y%m%d%H%M%S'\n"
     ]
    }
   ],
   "source": [
    "wrong_confirm_code = 'D-12345-2021030326-0'\n",
    "try:\n",
    "    Account.parse_confirmation_code(wrong_confirm_code)\n",
    "except ValueError as ex:\n",
    "    print(ex)\n",
    "    print(ex.__cause__) #works caose of \"from ex\" "
   ]
  },
  {
   "cell_type": "code",
   "execution_count": 121,
   "metadata": {},
   "outputs": [
    {
     "data": {
      "text/plain": [
       "0.5"
      ]
     },
     "execution_count": 121,
     "metadata": {},
     "output_type": "execute_result"
    }
   ],
   "source": [
    "Account.get_interest_rate()"
   ]
  },
  {
   "cell_type": "code",
   "execution_count": 122,
   "metadata": {},
   "outputs": [
    {
     "data": {
      "text/plain": [
       "0.1"
      ]
     },
     "execution_count": 122,
     "metadata": {},
     "output_type": "execute_result"
    }
   ],
   "source": [
    "Account.set_interest_rate(0.1)\n",
    "Account.get_interest_rate()"
   ]
  },
  {
   "cell_type": "code",
   "execution_count": 123,
   "metadata": {},
   "outputs": [
    {
     "ename": "ValueError",
     "evalue": "Interest rate must be a real number.",
     "output_type": "error",
     "traceback": [
      "\u001b[1;31m---------------------------------------------------------------------------\u001b[0m",
      "\u001b[1;31mValueError\u001b[0m                                Traceback (most recent call last)",
      "\u001b[1;32m<ipython-input-123-a8bcacb87ea2>\u001b[0m in \u001b[0;36m<module>\u001b[1;34m\u001b[0m\n\u001b[1;32m----> 1\u001b[1;33m \u001b[0mAccount\u001b[0m\u001b[1;33m.\u001b[0m\u001b[0mset_interest_rate\u001b[0m\u001b[1;33m(\u001b[0m\u001b[1;36m1\u001b[0m\u001b[1;33m+\u001b[0m\u001b[1;36m1j\u001b[0m\u001b[1;33m)\u001b[0m\u001b[1;33m\u001b[0m\u001b[1;33m\u001b[0m\u001b[0m\n\u001b[0m",
      "\u001b[1;32m<ipython-input-119-e63389d04150>\u001b[0m in \u001b[0;36mset_interest_rate\u001b[1;34m(cls, value)\u001b[0m\n\u001b[0;32m     46\u001b[0m     \u001b[1;32mdef\u001b[0m \u001b[0mset_interest_rate\u001b[0m\u001b[1;33m(\u001b[0m\u001b[0mcls\u001b[0m\u001b[1;33m,\u001b[0m \u001b[0mvalue\u001b[0m\u001b[1;33m)\u001b[0m\u001b[1;33m:\u001b[0m\u001b[1;33m\u001b[0m\u001b[1;33m\u001b[0m\u001b[0m\n\u001b[0;32m     47\u001b[0m         \u001b[1;32mif\u001b[0m \u001b[1;32mnot\u001b[0m \u001b[0misinstance\u001b[0m\u001b[1;33m(\u001b[0m\u001b[0mvalue\u001b[0m\u001b[1;33m,\u001b[0m \u001b[0mnumbers\u001b[0m\u001b[1;33m.\u001b[0m\u001b[0mReal\u001b[0m\u001b[1;33m)\u001b[0m\u001b[1;33m:\u001b[0m\u001b[1;33m\u001b[0m\u001b[1;33m\u001b[0m\u001b[0m\n\u001b[1;32m---> 48\u001b[1;33m             \u001b[1;32mraise\u001b[0m \u001b[0mValueError\u001b[0m\u001b[1;33m(\u001b[0m\u001b[1;34m'Interest rate must be a real number.'\u001b[0m\u001b[1;33m)\u001b[0m\u001b[1;33m\u001b[0m\u001b[1;33m\u001b[0m\u001b[0m\n\u001b[0m\u001b[0;32m     49\u001b[0m         \u001b[1;32mif\u001b[0m \u001b[0mvalue\u001b[0m \u001b[1;33m<\u001b[0m \u001b[1;36m0\u001b[0m\u001b[1;33m:\u001b[0m\u001b[1;33m\u001b[0m\u001b[1;33m\u001b[0m\u001b[0m\n\u001b[0;32m     50\u001b[0m             \u001b[1;32mraise\u001b[0m \u001b[0mValueError\u001b[0m\u001b[1;33m(\u001b[0m\u001b[1;34m'Interest rate cannot be negative.'\u001b[0m\u001b[1;33m)\u001b[0m\u001b[1;33m\u001b[0m\u001b[1;33m\u001b[0m\u001b[0m\n",
      "\u001b[1;31mValueError\u001b[0m: Interest rate must be a real number."
     ]
    }
   ],
   "source": [
    "Account.set_interest_rate(1+1j)"
   ]
  },
  {
   "cell_type": "code",
   "execution_count": 124,
   "metadata": {},
   "outputs": [
    {
     "ename": "ValueError",
     "evalue": "Interest rate cannot be negative.",
     "output_type": "error",
     "traceback": [
      "\u001b[1;31m---------------------------------------------------------------------------\u001b[0m",
      "\u001b[1;31mValueError\u001b[0m                                Traceback (most recent call last)",
      "\u001b[1;32m<ipython-input-124-4977faad34fb>\u001b[0m in \u001b[0;36m<module>\u001b[1;34m\u001b[0m\n\u001b[1;32m----> 1\u001b[1;33m \u001b[0mAccount\u001b[0m\u001b[1;33m.\u001b[0m\u001b[0mset_interest_rate\u001b[0m\u001b[1;33m(\u001b[0m\u001b[1;33m-\u001b[0m\u001b[1;36m1\u001b[0m\u001b[1;33m)\u001b[0m\u001b[1;33m\u001b[0m\u001b[1;33m\u001b[0m\u001b[0m\n\u001b[0m",
      "\u001b[1;32m<ipython-input-119-e63389d04150>\u001b[0m in \u001b[0;36mset_interest_rate\u001b[1;34m(cls, value)\u001b[0m\n\u001b[0;32m     48\u001b[0m             \u001b[1;32mraise\u001b[0m \u001b[0mValueError\u001b[0m\u001b[1;33m(\u001b[0m\u001b[1;34m'Interest rate must be a real number.'\u001b[0m\u001b[1;33m)\u001b[0m\u001b[1;33m\u001b[0m\u001b[1;33m\u001b[0m\u001b[0m\n\u001b[0;32m     49\u001b[0m         \u001b[1;32mif\u001b[0m \u001b[0mvalue\u001b[0m \u001b[1;33m<\u001b[0m \u001b[1;36m0\u001b[0m\u001b[1;33m:\u001b[0m\u001b[1;33m\u001b[0m\u001b[1;33m\u001b[0m\u001b[0m\n\u001b[1;32m---> 50\u001b[1;33m             \u001b[1;32mraise\u001b[0m \u001b[0mValueError\u001b[0m\u001b[1;33m(\u001b[0m\u001b[1;34m'Interest rate cannot be negative.'\u001b[0m\u001b[1;33m)\u001b[0m\u001b[1;33m\u001b[0m\u001b[1;33m\u001b[0m\u001b[0m\n\u001b[0m\u001b[0;32m     51\u001b[0m         \u001b[0mcls\u001b[0m\u001b[1;33m.\u001b[0m\u001b[0m_interest_rate\u001b[0m \u001b[1;33m=\u001b[0m \u001b[0mvalue\u001b[0m\u001b[1;33m\u001b[0m\u001b[1;33m\u001b[0m\u001b[0m\n\u001b[0;32m     52\u001b[0m \u001b[1;33m\u001b[0m\u001b[0m\n",
      "\u001b[1;31mValueError\u001b[0m: Interest rate cannot be negative."
     ]
    }
   ],
   "source": [
    "Account.set_interest_rate(-1)"
   ]
  },
  {
   "cell_type": "code",
   "execution_count": 170,
   "metadata": {},
   "outputs": [
    {
     "data": {
      "text/plain": [
       "100.0"
      ]
     },
     "execution_count": 170,
     "metadata": {},
     "output_type": "execute_result"
    }
   ],
   "source": [
    "a2.balance"
   ]
  },
  {
   "cell_type": "code",
   "execution_count": 171,
   "metadata": {},
   "outputs": [
    {
     "name": "stdout",
     "output_type": "stream",
     "text": [
      "Value must be at least 0.01.\n"
     ]
    }
   ],
   "source": [
    "try:\n",
    "    a2.deposit(-100)\n",
    "except ValueError as ex:\n",
    "    print(ex)"
   ]
  },
  {
   "cell_type": "code",
   "execution_count": 172,
   "metadata": {},
   "outputs": [
    {
     "data": {
      "text/plain": [
       "'D-12-20210306154657-0'"
      ]
     },
     "execution_count": 172,
     "metadata": {},
     "output_type": "execute_result"
    }
   ],
   "source": [
    "a2.deposit(100)"
   ]
  },
  {
   "cell_type": "code",
   "execution_count": 173,
   "metadata": {},
   "outputs": [
    {
     "data": {
      "text/plain": [
       "'W-12-20210306154659-1'"
      ]
     },
     "execution_count": 173,
     "metadata": {},
     "output_type": "execute_result"
    }
   ],
   "source": [
    "a2.withdraw(150)"
   ]
  },
  {
   "cell_type": "code",
   "execution_count": 174,
   "metadata": {},
   "outputs": [
    {
     "data": {
      "text/plain": [
       "50.0"
      ]
     },
     "execution_count": 174,
     "metadata": {},
     "output_type": "execute_result"
    }
   ],
   "source": [
    "a2.balance"
   ]
  },
  {
   "cell_type": "code",
   "execution_count": 175,
   "metadata": {},
   "outputs": [
    {
     "data": {
      "text/plain": [
       "'X-12-20210306154701-2'"
      ]
     },
     "execution_count": 175,
     "metadata": {},
     "output_type": "execute_result"
    }
   ],
   "source": [
    "a2.withdraw(60)"
   ]
  },
  {
   "cell_type": "code",
   "execution_count": null,
   "metadata": {},
   "outputs": [],
   "source": []
  }
 ],
 "metadata": {
  "kernelspec": {
   "display_name": "Python 3",
   "language": "python",
   "name": "python3"
  },
  "language_info": {
   "codemirror_mode": {
    "name": "ipython",
    "version": 3
   },
   "file_extension": ".py",
   "mimetype": "text/x-python",
   "name": "python",
   "nbconvert_exporter": "python",
   "pygments_lexer": "ipython3",
   "version": "3.7.4"
  }
 },
 "nbformat": 4,
 "nbformat_minor": 4
}
