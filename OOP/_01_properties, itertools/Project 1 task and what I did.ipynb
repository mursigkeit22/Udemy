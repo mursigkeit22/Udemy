{
 "cells": [
  {
   "cell_type": "markdown",
   "metadata": {},
   "source": [
    "### Project 1"
   ]
  },
  {
   "cell_type": "markdown",
   "metadata": {},
   "source": [
    "We need to design and implement a class that will be used to represent bank accounts.\n",
    "\n",
    "We want the following functionality and characteristics:\n",
    "- accounts are uniquely identified by an **account number** (assume it will just be passed in the initializer)\n",
    "- account holders have a **first** and **last** name\n",
    "- accounts have an associated **preferred time zone offset** (e.g. -7 for MST)\n",
    "- **balances** need to be zero or higher, and should not be directly settable.\n",
    "- but, **deposits** and **withdrawals** can be made (given sufficient funds)\n",
    "    - if a withdrawal is attempted that would result in nagative funds, the transaction should be declined.\n",
    "- a **monthly interest rate** exists and is applicable to all accounts **uniformly**. There should be a method that can be called to calculate the interest on the current balance using the current interest rate, and **add it** to the balance.\n",
    "- each deposit and withdrawal must generate a **confirmation number** composed of:\n",
    "    - the transaction type: `D` for deposit, and `W` for withdrawal, `I` for interest deposit, and `X` for declined (in which case the balance remains unaffected)\n",
    "    - the account number\n",
    "    - the time the transaction was made, using UTC\n",
    "    - an incrementing number (that increments across all accounts and transactions)\n",
    "    - for (extreme!) simplicity assume that the transaction id starts at zero (or whatever number you choose) whenever the program starts\n",
    "    - the confirmation number should be returned from any of the transaction methods (deposit, withdraw, etc)\n",
    "- create a **method** that, given a confirmation number, returns:\n",
    "    - the account number, transaction code (D, W, etc), datetime (UTC format), date time (in whatever timezone is specified in te argument, but more human readable), the transaction ID\n",
    "    - make it so it is a nicely structured object (so can use dotted notation to access these three attributes)\n",
    "    - I purposefully made it so the desired timezone is passed as an argument. Can you figure out why? (hint: does this method require any information from any instance?)"
   ]
  },
  {
   "cell_type": "markdown",
   "metadata": {},
   "source": [
    "For example, we may have an account with:\n",
    "- account number `140568` \n",
    "- preferred time zone offset of -7 (MST) \n",
    "- an existing balance of `100.00`\n",
    "\n",
    "Suppose the last transaction ID in the system was `123`, and a deposit is made for `50.00` on `2019-03-15T14:59:00` (UTC) on that account (or `2019-03-15T07:59:00` in account's preferred time zone offset)\n",
    "\n",
    "The new balance should reflect `150.00` and the confirmation number returned should look something like this:\n",
    "\n",
    "```D-140568-20190315145900-124```\n",
    "\n",
    "We also want a method that given the confirmation number returns an object with attributes:\n",
    "- `result.account_number` --> `140568`\n",
    "- `result.transaction_code` --> `D`\n",
    "- `result.transaction_id` --> `124`\n",
    "- `result.time` --> `2019-03-15 07:59:00 (MST)`\n",
    "- `result.time_utc` --> `2019-03-15T14:59:00`"
   ]
  },
  {
   "cell_type": "markdown",
   "metadata": {},
   "source": [
    "Furthermore, if current interest rate is `0.5%`, and the account's balance is `1000.00`, then the result of calling the `deposit_interest` (or whatever name you choose) method, should result in a new transaction and a new balance of `1050.00`. Calling this method should also return a confirmation number.\n",
    "\n",
    "For simplicty, just use floats, but be aware that for these types of situations you'll probably want to use `Decimal` objects instead of floats."
   ]
  },
  {
   "cell_type": "markdown",
   "metadata": {},
   "source": [
    "There are going to be many ways to design something like this, especially since I have not nailed down all the specific requirements, so you'll have to fill the gaps yourself and decide what other things you may want to implement (like is the account number going to be a mutable property, or \"read-only\" and so on).\n",
    "\n",
    "See how many different ideas you can use from what we covered in the last section. "
   ]
  },
  {
   "cell_type": "markdown",
   "metadata": {},
   "source": [
    "My approach will end up creating two classes: a `TimeZone` class used to store the time zone name and offset definition (in hours and minutes), and a main class called `Account` that will have the following \"public\" interface:\n",
    "- initializer with account number, first name, last name, optional preferred time zone, starting balance (defaults to 0)\n",
    "- a first name property (read/write)\n",
    "- a last name property (read/write)\n",
    "- a full name property (computed, read-only)\n",
    "- a balance property (read-only)\n",
    "- an interest rate property (class level property)\n",
    "- deposit, withdraw, pay_interest methods\n",
    "- parse confirmation code\n",
    "\n",
    "Class will have additional state and methods, but those will be used for implementation."
   ]
  },
  {
   "cell_type": "markdown",
   "metadata": {},
   "source": [
    "You should also remember to test your code! In the solutions I will introduce you to Python's `unittest` package. Even if you skip this project, at least review that video and/or notebook if you are unfamiliar with `unittest`."
   ]
  },
  {
   "cell_type": "code",
   "execution_count": 66,
   "metadata": {},
   "outputs": [],
   "source": [
    "from datetime import timezone, timedelta, datetime\n",
    "import pytz"
   ]
  },
  {
   "cell_type": "code",
   "execution_count": 137,
   "metadata": {},
   "outputs": [],
   "source": [
    "\n",
    "class Account:\n",
    "    monthly_interest_rate = 0.1\n",
    "    transaction_id = 0\n",
    "    \"\"\"a main class called Account that will have the following \"public\" interface:\n",
    "\n",
    "initializer with account number, first name, last name, optional preferred time zone, starting balance (defaults to 0)\n",
    "a first name property (read/write)\n",
    "a last name property (read/write)\n",
    "a full name property (computed, read-only)\n",
    "a balance property (read-only)\n",
    "an interest rate property (class level property)\n",
    "deposit, withdraw, pay_interest methods\n",
    "parse confirmation code\"\"\"\n",
    "    def __init__(self, num, first_name, last_name, time_zone=None, balance=0):\n",
    "        self._account_number = num\n",
    "        self._first_name = first_name\n",
    "        self._last_name = last_name\n",
    "        self._time_zone = time_zone\n",
    "        self._balance = balance\n",
    "        \n",
    "    @classmethod\n",
    "    def increment_transaction_number(cls):\n",
    "        cls.transaction_id +=1\n",
    "    \n",
    "        \n",
    "    @staticmethod\n",
    "    def current_utc_time():\n",
    "        return datetime.utcnow().strftime(\"%Y-%m-%d %H:%M:%S\")\n",
    "    \n",
    "    @staticmethod\n",
    "    def current_utc_time_just_numbers():\n",
    "        return datetime.utcnow().strftime(\"%Y%m%d%H%M%S\")\n",
    "        \n",
    "    @property\n",
    "    def time_zone(self):\n",
    "        return self._time_zone\n",
    "    \n",
    "    @time_zone.setter\n",
    "    def time_zone(self, value):\n",
    "        self._time_zone = value\n",
    "        \n",
    "        \n",
    "    @property\n",
    "    def account_number(self):\n",
    "        return self._account_number\n",
    "        \n",
    "    @property\n",
    "    def first_name(self):\n",
    "        return self._first_name\n",
    "    \n",
    "    @first_name.setter\n",
    "    def first_name(self, value):\n",
    "        self._first_name = value\n",
    "        \n",
    "    @property\n",
    "    def last_name(self):\n",
    "        return self._last_name\n",
    "    \n",
    "    @last_name.setter\n",
    "    def last_name(self, value):\n",
    "        self._last_name = value\n",
    "        \n",
    "    @property\n",
    "    def full_name(self):\n",
    "        return self._first_name + ' ' + self._last_name\n",
    "    \n",
    "    @property\n",
    "    def balance(self):\n",
    "        return self._balance\n",
    "    \n",
    "    def generate_confirmation_number(self, transaction_type):\n",
    "        confirmation_number = transaction_type + \"-\"+ str(self._account_number) + \"-\" +  str(self.current_utc_time_just_numbers()) + \"-\"+  str(self.transaction_id) \n",
    "        return confirmation_number\n",
    "    \n",
    "    \n",
    "    def deposit(self, amount):\n",
    "        self.increment_transaction_number()\n",
    "        if amount < 0:\n",
    "            return self.generate_confirmation_number(\"X\")\n",
    "        self._balance += amount\n",
    "        return self.generate_confirmation_number(\"D\")\n",
    "    \n",
    "    def withdraw(self, amount):\n",
    "        self.increment_transaction_number()\n",
    "        if (amount < 0) or (self._balance - amount < 0):\n",
    "            return self.generate_confirmation_number(\"X\")\n",
    "        self._balance -= amount\n",
    "        return self.generate_confirmation_number(\"W\")\n",
    "        \n",
    "    \n",
    "    def deposit_interest(self):\n",
    "        self.increment_transaction_number()\n",
    "        plus = self._balance * self.monthly_interest_rate\n",
    "        self._balance += plus\n",
    "        self.generate_confirmation_number(\"I\")\n",
    "        \n",
    "    @staticmethod\n",
    "    def parse_confirmation_code(code, timezone):\n",
    "        split_list = code.split('-')\n",
    "        timesplit = split_list[2]\n",
    "        time_utc = datetime.strptime(timesplit, \"%Y%m%d%H%M%S\")\n",
    "        time = timezone.utc_to_tz(time_utc)\n",
    "\n",
    "        result_dict = {'account_number':split_list[1],\n",
    "                      'transaction_type':split_list[0],\n",
    "                      'transaction_id':split_list[3],\n",
    "                      'time':time.strftime(\"%b %d %Y %H:%M:%S\"),\n",
    "                      'time_utc': time_utc.strftime(\"%b %d %Y %H:%M:%S\"),}\n",
    "        return result_dict\n",
    "        \n",
    "        "
   ]
  },
  {
   "cell_type": "code",
   "execution_count": 138,
   "metadata": {},
   "outputs": [],
   "source": [
    "\n",
    "class Timezone:\n",
    "    \"\"\"a TimeZone class used to store the time zone name and offset \n",
    "    definition (in hours and minutes)\"\"\"\n",
    "    def __init__(self, offset_hours, name):\n",
    "        self._name = name\n",
    "        self._offset = offset_hours\n",
    "        self._tz = timezone(timedelta(hours = offset_hours), name)\n",
    "    @property\n",
    "    def name(self):\n",
    "        return self._name\n",
    "    \n",
    "    @property\n",
    "    def offset_hours(self):\n",
    "        return self._offset\n",
    "    \n",
    "    @property\n",
    "    def offset_minutes(self):\n",
    "        return self._offset*60\n",
    "    \n",
    "    def current_time(self):\n",
    "        time = datetime.now(self._tz)\n",
    "        return time.strftime(\"%b %d %Y %H:%M:%S\")\n",
    "    \n",
    "    @staticmethod\n",
    "    def current_utc_time():\n",
    "        return datetime.utcnow().strftime(\"%Y-%m-%d %H:%M:%S\")\n",
    "    \n",
    "    def utc_to_tz(self, time):\n",
    "        newtime = time + timedelta(hours=self._offset)\n",
    "        return newtime\n",
    "        \n",
    "        \n",
    "        \n",
    "    \n",
    "    def __repr__(self):\n",
    "        return str(self._offset) + ' '+ str(self._tz)\n",
    "    "
   ]
  },
  {
   "cell_type": "code",
   "execution_count": 139,
   "metadata": {},
   "outputs": [],
   "source": [
    "my_tz = Timezone(-1, 'my')"
   ]
  },
  {
   "cell_type": "code",
   "execution_count": 140,
   "metadata": {},
   "outputs": [
    {
     "data": {
      "text/plain": [
       "'2021-03-04 07:48:56'"
      ]
     },
     "execution_count": 140,
     "metadata": {},
     "output_type": "execute_result"
    }
   ],
   "source": [
    "my_tz.current_utc_time()"
   ]
  },
  {
   "cell_type": "code",
   "execution_count": 141,
   "metadata": {},
   "outputs": [
    {
     "data": {
      "text/plain": [
       "'Mar 04 2021 06:48:56'"
      ]
     },
     "execution_count": 141,
     "metadata": {},
     "output_type": "execute_result"
    }
   ],
   "source": [
    "my_tz.current_time()"
   ]
  },
  {
   "cell_type": "code",
   "execution_count": null,
   "metadata": {},
   "outputs": [],
   "source": []
  },
  {
   "cell_type": "code",
   "execution_count": null,
   "metadata": {},
   "outputs": [],
   "source": []
  },
  {
   "cell_type": "code",
   "execution_count": 142,
   "metadata": {},
   "outputs": [],
   "source": [
    "a = Account(1, \"lera\", \"shel\", my_tz)"
   ]
  },
  {
   "cell_type": "code",
   "execution_count": 143,
   "metadata": {},
   "outputs": [
    {
     "data": {
      "text/plain": [
       "0"
      ]
     },
     "execution_count": 143,
     "metadata": {},
     "output_type": "execute_result"
    }
   ],
   "source": [
    "a.balance\n"
   ]
  },
  {
   "cell_type": "code",
   "execution_count": 144,
   "metadata": {},
   "outputs": [
    {
     "data": {
      "text/plain": [
       "'D-1-20210304074858-1'"
      ]
     },
     "execution_count": 144,
     "metadata": {},
     "output_type": "execute_result"
    }
   ],
   "source": [
    "a.deposit(10)"
   ]
  },
  {
   "cell_type": "code",
   "execution_count": 145,
   "metadata": {},
   "outputs": [
    {
     "data": {
      "text/plain": [
       "-1 my"
      ]
     },
     "execution_count": 145,
     "metadata": {},
     "output_type": "execute_result"
    }
   ],
   "source": [
    "a.time_zone"
   ]
  },
  {
   "cell_type": "code",
   "execution_count": 147,
   "metadata": {},
   "outputs": [
    {
     "data": {
      "text/plain": [
       "{'account_number': '1',\n",
       " 'transaction_type': 'D',\n",
       " 'transaction_id': '1',\n",
       " 'time': 'Mar 04 2021 06:39:37',\n",
       " 'time_utc': 'Mar 04 2021 07:39:37'}"
      ]
     },
     "execution_count": 147,
     "metadata": {},
     "output_type": "execute_result"
    }
   ],
   "source": [
    "a.parse_confirmation_code('D-1-20210304073937-1', a.time_zone)"
   ]
  },
  {
   "cell_type": "code",
   "execution_count": null,
   "metadata": {},
   "outputs": [],
   "source": []
  }
 ],
 "metadata": {
  "kernelspec": {
   "display_name": "Python 3",
   "language": "python",
   "name": "python3"
  },
  "language_info": {
   "codemirror_mode": {
    "name": "ipython",
    "version": 3
   },
   "file_extension": ".py",
   "mimetype": "text/x-python",
   "name": "python",
   "nbconvert_exporter": "python",
   "pygments_lexer": "ipython3",
   "version": "3.7.4"
  }
 },
 "nbformat": 4,
 "nbformat_minor": 2
}
