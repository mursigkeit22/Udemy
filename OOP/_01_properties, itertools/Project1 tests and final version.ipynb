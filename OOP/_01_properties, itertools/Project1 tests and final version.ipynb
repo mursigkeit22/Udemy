{
 "cells": [
  {
   "cell_type": "code",
   "execution_count": 6,
   "metadata": {},
   "outputs": [],
   "source": [
    "import numbers\n",
    "from datetime import timedelta, datetime\n",
    "import itertools\n",
    "from collections import namedtuple\n",
    "import unittest\n",
    "from time import sleep"
   ]
  },
  {
   "cell_type": "code",
   "execution_count": 7,
   "metadata": {},
   "outputs": [],
   "source": [
    "class TimeZone:\n",
    "    \"\"\"a TimeZone class used to store the time zone name and offset \n",
    "    definition (in hours and minutes)\"\"\"\n",
    "    def __init__(self, name, offset_hours, offset_minutes, ):\n",
    "        if name is None or len(str(name).strip())==0:\n",
    "            raise ValueError('Timezone name cannot be empty.')\n",
    "        \n",
    "        self._name = str(name).strip()\n",
    "        \n",
    "        if not isinstance(offset_hours, int):\n",
    "            raise ValueError('Hour offset must be an integer.')\n",
    "        if not isinstance(offset_minutes, int):\n",
    "            raise ValueError('Minute offset must be an integer.')\n",
    "            \n",
    "        if abs(offset_minutes) > 59:\n",
    "            raise ValueError ('Minute offset must be between -59 and 59 (inclusive)')\n",
    "        \n",
    "        offset = timedelta(hours=offset_hours, minutes = offset_minutes)\n",
    "        if offset < timedelta(hours=-12, minutes=0) or offset > timedelta(hours=14, minutes=0):\n",
    "            raise ValueError('Offset must be between -12:00 and +14:00.')\n",
    "        \n",
    "        self._offset_hours = offset_hours\n",
    "        self._offset_minutes = offset_minutes\n",
    "        self._offset = offset\n",
    "\n",
    "    @property\n",
    "    def offset(self):\n",
    "        return self._offset    \n",
    "   \n",
    "    @property\n",
    "    def name(self):\n",
    "        return self._name\n",
    "    \n",
    "    def __eq__(self, other):\n",
    "        return (isinstance(other, TimeZone) and \n",
    "                self.name == other.name and \n",
    "                self._offset == other.offset)\n",
    "    \n",
    "    def __repr__(self):\n",
    "        return f\"TimeZone(name={self.name},  offset_hours={self._offset_hours}, offset_minutes={self._offset_minutes}.\"\n",
    "        \n",
    "      "
   ]
  },
  {
   "cell_type": "code",
   "execution_count": 22,
   "metadata": {},
   "outputs": [],
   "source": [
    "class Account:\n",
    "    _interest_rate = 0.5\n",
    "    transaction_counter = itertools.count(0)\n",
    "    _transaction_codes = {\"deposit\":\"D\", \n",
    "                          \"withdraw\":\"W\",\n",
    "                          \"interest\":\"I\",\n",
    "                          \"rejected\":\"X\"}\n",
    "    \n",
    "    def __init__(self, account_number, first_name, last_name,\n",
    "                 timezone = None, initial_balance = 0):\n",
    "        self._account_number = account_number\n",
    "        self.first_name = first_name\n",
    "        self.last_name = last_name\n",
    "        self._balance = Account.validate_real_number(initial_balance, min_value=0)\n",
    "        if not timezone:\n",
    "            timezone = TimeZone('UTC', 0,0)\n",
    "        self.timezone=timezone\n",
    "        \n",
    "    @staticmethod\n",
    "    def validate_real_number(value, min_value = None):\n",
    "        if not isinstance(value, numbers.Real):\n",
    "            raise ValueError('Value must be a real number.')\n",
    "            \n",
    "        if min_value is not None and value < min_value:\n",
    "             raise ValueError(f'Value must be at least {min_value}.')\n",
    "        return value\n",
    "        \n",
    "    @staticmethod\n",
    "    def parse_confirmation_code(confirmation_code, preferred_time_zone=None):\n",
    "        parts = confirmation_code.split('-')\n",
    "        if len(parts) != 4:\n",
    "            raise ValueError('Invalid confirmation code')\n",
    "        transaction_code, account_number, raw_dt_utc, transaction_id = parts\n",
    "        try:\n",
    "            dt_utc = datetime.strptime(raw_dt_utc,\"%Y%m%d%H%M%S\" )\n",
    "        except ValueError as ex:\n",
    "            raise ValueError('Invalid transaction datetime.') from ex\n",
    "        if not preferred_time_zone:\n",
    "            preferred_time_zone = TimeZone('UTC', 0,0)\n",
    "        if not isinstance(preferred_time_zone, TimeZone):\n",
    "            raise ValueError(\"Invalid TimeZone.\")\n",
    "            \n",
    "        df_preferred = dt_utc + preferred_time_zone.offset\n",
    "        df_preferred_str = f\"{df_preferred.strftime('%Y-%m-%d %H:%M:%S')} ({preferred_time_zone.name})\"\n",
    "        return Confirmation(account_number, transaction_code, transaction_id, dt_utc.isoformat(), df_preferred_str)\n",
    "            \n",
    "        \n",
    "    def generate_confirmation_code(self, transaction_code):\n",
    "        dt = datetime.utcnow().strftime(\"%Y%m%d%H%M%S\")\n",
    "        return f\"{transaction_code}-{self.account_number}-{dt}-{next(Account.transaction_counter)}\"\n",
    "    \n",
    "    \n",
    "    @classmethod\n",
    "    def get_interest_rate(cls):\n",
    "        return cls._interest_rate\n",
    "    \n",
    "    @classmethod\n",
    "    def set_interest_rate(cls, value):\n",
    "        if not isinstance(value, numbers.Real):\n",
    "            raise ValueError('Interest rate must be a real number.')\n",
    "        if value < 0:\n",
    "            raise ValueError('Interest rate cannot be negative.')\n",
    "        cls._interest_rate = value\n",
    "            \n",
    "    def deposit(self, value):\n",
    "        value = Account.validate_real_number(value, 0.01)\n",
    "        \n",
    "        transaction_code = Account._transaction_codes['deposit']\n",
    "        conf_code = self.generate_confirmation_code(transaction_code)\n",
    "        self._balance += value\n",
    "        return conf_code   \n",
    "    \n",
    "    def withdraw(self, value):\n",
    "        value = Account.validate_real_number(value, 0.01)\n",
    "        accepted = False    \n",
    "        if (self.balance - value) < 0:\n",
    "            transaction_code = Account._transaction_codes['rejected'] \n",
    "        else:\n",
    "            accepted = True\n",
    "            transaction_code = Account._transaction_codes['withdraw'] \n",
    "    \n",
    "        conf_code = self.generate_confirmation_code(transaction_code)\n",
    "        if accepted:\n",
    "            self._balance -= value\n",
    "        return conf_code   \n",
    "    \n",
    "    def pay_interest(self):\n",
    "        interest = self.balance * Account.get_interest_rate() / 100\n",
    "        conf_code = self.generate_confirmation_code(Account._transaction_codes['interest'])\n",
    "        self._balance += interest\n",
    "        return conf_code\n",
    "        \n",
    "        \n",
    "    @property\n",
    "    def balance(self):\n",
    "        return self._balance\n",
    "        \n",
    "        \n",
    "    @property\n",
    "    def timezone(self):\n",
    "        return self._timezone\n",
    "    \n",
    "    @timezone.setter\n",
    "    def timezone(self, value):\n",
    "        print(\"timezone setter...\")\n",
    "        if not isinstance(value, TimeZone):\n",
    "            raise ValueError(\"Time zone must be a valid TimeZone object\")\n",
    "        self._timezone = value\n",
    "        \n",
    "    @property\n",
    "    def account_number(self):\n",
    "        return self._account_number\n",
    "        \n",
    "    @property\n",
    "    def first_name(self):\n",
    "        print('call first name property')\n",
    "        return self._first_name\n",
    "    \n",
    "    @first_name.setter\n",
    "    def first_name(self, value):\n",
    "        self.validate_and_set_name('_first_name', value, \"first_name\")\n",
    "        \n",
    "    @property\n",
    "    def last_name(self):\n",
    "        return self._last_name\n",
    "    \n",
    "    @last_name.setter\n",
    "    def last_name(self, value):\n",
    "        self.validate_and_set_name('_last_name', value, \"last_name\")\n",
    "        \n",
    "    @property\n",
    "    def full_name(self):\n",
    "        return f'{self.first_name} {self.last_name}'\n",
    "    \n",
    "    \n",
    "    def validate_and_set_name(self, attr_name, value, field_title):\n",
    "        if not value or len(str(value).strip()) == 0:\n",
    "            raise ValueError(f'{field_title} name cannot be empty')\n",
    "        setattr(self, attr_name, value)"
   ]
  },
  {
   "cell_type": "code",
   "execution_count": null,
   "metadata": {},
   "outputs": [],
   "source": []
  },
  {
   "cell_type": "markdown",
   "metadata": {},
   "source": [
    "test suite"
   ]
  },
  {
   "cell_type": "code",
   "execution_count": 9,
   "metadata": {},
   "outputs": [],
   "source": [
    "def run_tests(test_class):\n",
    "    suite = unittest.TestLoader().loadTestsFromTestCase(test_class)\n",
    "    runner = unittest.TextTestRunner(verbosity=2)\n",
    "    runner.run(suite)"
   ]
  },
  {
   "cell_type": "markdown",
   "metadata": {},
   "source": [
    "разница между assert и assertEqual"
   ]
  },
  {
   "cell_type": "code",
   "execution_count": 10,
   "metadata": {},
   "outputs": [],
   "source": [
    "class TestAccountExample(unittest.TestCase):\n",
    "    def test_ok(self):\n",
    "        assert 1==1\n",
    "    def test_ok2(self):\n",
    "        self.assertEqual(1,1)\n",
    "    def test_not_ok(self):\n",
    "        assert 1==0\n",
    "    def test_not_ok2(self):\n",
    "        self.assertEqual(1,0)"
   ]
  },
  {
   "cell_type": "code",
   "execution_count": 11,
   "metadata": {},
   "outputs": [
    {
     "name": "stderr",
     "output_type": "stream",
     "text": [
      "test_not_ok (__main__.TestAccountExample) ... FAIL\n",
      "test_not_ok2 (__main__.TestAccountExample) ... FAIL\n",
      "test_ok (__main__.TestAccountExample) ... ok\n",
      "test_ok2 (__main__.TestAccountExample) ... ok\n",
      "\n",
      "======================================================================\n",
      "FAIL: test_not_ok (__main__.TestAccountExample)\n",
      "----------------------------------------------------------------------\n",
      "Traceback (most recent call last):\n",
      "  File \"<ipython-input-10-b41c0ab67ad3>\", line 7, in test_not_ok\n",
      "    assert 1==0\n",
      "AssertionError\n",
      "\n",
      "======================================================================\n",
      "FAIL: test_not_ok2 (__main__.TestAccountExample)\n",
      "----------------------------------------------------------------------\n",
      "Traceback (most recent call last):\n",
      "  File \"<ipython-input-10-b41c0ab67ad3>\", line 9, in test_not_ok2\n",
      "    self.assertEqual(1,0)\n",
      "AssertionError: 1 != 0\n",
      "\n",
      "----------------------------------------------------------------------\n",
      "Ran 4 tests in 0.012s\n",
      "\n",
      "FAILED (failures=2)\n"
     ]
    }
   ],
   "source": [
    "run_tests(TestAccountExample)"
   ]
  },
  {
   "cell_type": "markdown",
   "metadata": {},
   "source": [
    "setUp вызывается каждый раз"
   ]
  },
  {
   "cell_type": "code",
   "execution_count": 12,
   "metadata": {},
   "outputs": [],
   "source": [
    "class TestAccountExample1(unittest.TestCase):\n",
    "    def setUp(self):\n",
    "        print('running setup...')\n",
    "        self.x = 100\n",
    "        \n",
    "    def test1(self):\n",
    "        sleep(0.5)\n",
    "        print('running test1...')\n",
    "        self.x = 200\n",
    "        self.assertEqual(200, self.x)\n",
    "        \n",
    "    def test2(self):\n",
    "        sleep(0.5)\n",
    "        print('running test2...')\n",
    "        self.assertEqual(100, self.x)"
   ]
  },
  {
   "cell_type": "code",
   "execution_count": 13,
   "metadata": {},
   "outputs": [
    {
     "name": "stderr",
     "output_type": "stream",
     "text": [
      "test1 (__main__.TestAccountExample1) ... "
     ]
    },
    {
     "name": "stdout",
     "output_type": "stream",
     "text": [
      "running setup...\n"
     ]
    },
    {
     "name": "stderr",
     "output_type": "stream",
     "text": [
      "ok\n",
      "test2 (__main__.TestAccountExample1) ... "
     ]
    },
    {
     "name": "stdout",
     "output_type": "stream",
     "text": [
      "running test1...\n",
      "running setup...\n",
      "running test2...\n"
     ]
    },
    {
     "name": "stderr",
     "output_type": "stream",
     "text": [
      "ok\n",
      "\n",
      "----------------------------------------------------------------------\n",
      "Ran 2 tests in 1.019s\n",
      "\n",
      "OK\n"
     ]
    }
   ],
   "source": [
    "run_tests(TestAccountExample1)"
   ]
  },
  {
   "cell_type": "markdown",
   "metadata": {},
   "source": [
    "tearDown тоже вызывается каждый раз"
   ]
  },
  {
   "cell_type": "code",
   "execution_count": 14,
   "metadata": {},
   "outputs": [],
   "source": [
    "class TestAccountExample2(unittest.TestCase):\n",
    "    def setUp(self):\n",
    "        print('running setup...')\n",
    "        self.x = 100\n",
    "        \n",
    "    def tearDown(self):\n",
    "        print('running teardown...') \n",
    "        \n",
    "    def test1(self):\n",
    "        sleep(0.5)\n",
    "        print('running test1...')\n",
    "        self.x = 200\n",
    "        self.assertEqual(200, self.x)\n",
    "        \n",
    "    def test2(self):\n",
    "        sleep(0.5)\n",
    "        print('running test2...')\n",
    "        self.assertEqual(100, self.x)"
   ]
  },
  {
   "cell_type": "code",
   "execution_count": 15,
   "metadata": {},
   "outputs": [
    {
     "name": "stderr",
     "output_type": "stream",
     "text": [
      "test1 (__main__.TestAccountExample2) ... "
     ]
    },
    {
     "name": "stdout",
     "output_type": "stream",
     "text": [
      "running setup...\n"
     ]
    },
    {
     "name": "stderr",
     "output_type": "stream",
     "text": [
      "ok\n",
      "test2 (__main__.TestAccountExample2) ... "
     ]
    },
    {
     "name": "stdout",
     "output_type": "stream",
     "text": [
      "running test1...\n",
      "running teardown...\n",
      "running setup...\n",
      "running test2...\n",
      "running teardown...\n"
     ]
    },
    {
     "name": "stderr",
     "output_type": "stream",
     "text": [
      "ok\n",
      "\n",
      "----------------------------------------------------------------------\n",
      "Ran 2 tests in 1.019s\n",
      "\n",
      "OK\n"
     ]
    }
   ],
   "source": [
    "run_tests(TestAccountExample2)"
   ]
  },
  {
   "cell_type": "markdown",
   "metadata": {},
   "source": [
    "self.subTest;\n",
    "\n",
    "change self in every test"
   ]
  },
  {
   "cell_type": "code",
   "execution_count": 20,
   "metadata": {},
   "outputs": [],
   "source": [
    "class TestAccount(unittest.TestCase):\n",
    "    def setUp(self):\n",
    "        self.account_number = 'A100'\n",
    "        self.first_name = 'FIRST'\n",
    "        self.last_name = 'LAST'\n",
    "        self.tz = TimeZone('ABC', -1, -30)\n",
    "        self.balance = 100.00\n",
    "        \n",
    "    def create_account(self):\n",
    "        return Account(self.account_number, self.first_name,\n",
    "                       self.last_name, self.tz, self.balance)\n",
    "            \n",
    "    def test_timezones_not_equal(self):\n",
    "        \n",
    "        test_timezones = (\n",
    "            TimeZone('DEF', -1, -30),\n",
    "            TimeZone('ABC', -1, 0),\n",
    "            TimeZone('ABC', 1, -30)\n",
    "        )\n",
    "        for i, test_tz in enumerate(test_timezones):\n",
    "            with self.subTest(test_number=i):\n",
    "                self.assertNotEqual(self.tz, test_tz)\n",
    "        \n",
    "    \n",
    "    def test_create_account(self):\n",
    "        \n",
    "        \n",
    "        a = self.create_account()\n",
    "        self.assertEqual(self.account_number, a.account_number)\n",
    "        self.assertEqual(self.first_name, a.first_name)\n",
    "        self.assertEqual(self.last_name, a.last_name)\n",
    "        self.assertEqual(self.first_name + ' ' + self.last_name, a.full_name)\n",
    "        self.assertEqual(self.tz, a.timezone)\n",
    "        self.assertEqual(self.balance, a.balance)\n",
    "        \n",
    "    def test_create_account_blank_first_name(self):\n",
    "        \n",
    "        self.first_name = ''\n",
    "        with self.assertRaises(ValueError):\n",
    "            self.create_account()\n",
    "            \n",
    "    def test_create_account_negative_balance(self):\n",
    "        \n",
    "        self.balance = -100.00\n",
    "        \n",
    "        with self.assertRaises(ValueError):\n",
    "            self.create_account()\n",
    "            \n",
    "        "
   ]
  },
  {
   "cell_type": "code",
   "execution_count": 23,
   "metadata": {},
   "outputs": [
    {
     "name": "stderr",
     "output_type": "stream",
     "text": [
      "test_create_account (__main__.TestAccount) ... ok\n",
      "test_create_account_blank_first_name (__main__.TestAccount) ... ok\n",
      "test_create_account_negative_balance (__main__.TestAccount) ... ok\n",
      "test_timezones_not_equal (__main__.TestAccount) ... "
     ]
    },
    {
     "name": "stdout",
     "output_type": "stream",
     "text": [
      "timezone setter...\n",
      "call first name property\n",
      "call first name property\n"
     ]
    },
    {
     "name": "stderr",
     "output_type": "stream",
     "text": [
      "ok\n",
      "\n",
      "----------------------------------------------------------------------\n",
      "Ran 4 tests in 0.005s\n",
      "\n",
      "OK\n"
     ]
    }
   ],
   "source": [
    "run_tests(TestAccount)"
   ]
  },
  {
   "cell_type": "code",
   "execution_count": null,
   "metadata": {},
   "outputs": [],
   "source": []
  }
 ],
 "metadata": {
  "kernelspec": {
   "display_name": "Python 3",
   "language": "python",
   "name": "python3"
  },
  "language_info": {
   "codemirror_mode": {
    "name": "ipython",
    "version": 3
   },
   "file_extension": ".py",
   "mimetype": "text/x-python",
   "name": "python",
   "nbconvert_exporter": "python",
   "pygments_lexer": "ipython3",
   "version": "3.7.4"
  }
 },
 "nbformat": 4,
 "nbformat_minor": 4
}
