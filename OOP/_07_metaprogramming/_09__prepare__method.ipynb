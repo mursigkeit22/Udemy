{
 "cells": [
  {
   "cell_type": "code",
   "execution_count": 23,
   "metadata": {},
   "outputs": [],
   "source": [
    "from collections import UserDict"
   ]
  },
  {
   "cell_type": "code",
   "execution_count": 12,
   "metadata": {},
   "outputs": [],
   "source": [
    "class MyMeta(type):\n",
    "    def __new__(mcls, name, bases, cls_dict, **kwargs):\n",
    "        print(\"mcls\", mcls, type(mcls))\n",
    "        print(\"name\", name, type(name))\n",
    "        print(\"bases\", bases, type(bases))\n",
    "        print(\"cls_dict\", cls_dict, type(cls_dict))\n",
    "        print(\"kwargs\", kwargs, type(kwargs))\n",
    "        return super().__new__(mcls, name, bases, cls_dict,)"
   ]
  },
  {
   "cell_type": "code",
   "execution_count": 13,
   "metadata": {},
   "outputs": [
    {
     "name": "stdout",
     "output_type": "stream",
     "text": [
      "mcls <class '__main__.MyMeta'> <class 'type'>\n",
      "name MyClass <class 'str'>\n",
      "bases () <class 'tuple'>\n",
      "cls_dict {'__module__': '__main__', '__qualname__': 'MyClass'} <class 'dict'>\n",
      "kwargs {} <class 'dict'>\n"
     ]
    }
   ],
   "source": [
    "class MyClass(metaclass = MyMeta):\n",
    "    pass"
   ]
  },
  {
   "cell_type": "markdown",
   "metadata": {},
   "source": [
    "where and how is that cls_dict get created?"
   ]
  },
  {
   "cell_type": "markdown",
   "metadata": {},
   "source": [
    "the is method `__prepare__` for this. the default implementation returns empty dict. we can override it"
   ]
  },
  {
   "cell_type": "code",
   "execution_count": 14,
   "metadata": {},
   "outputs": [],
   "source": [
    "class MyMeta(type):\n",
    "    def __prepare__(name, bases, **kwargs): #static method\n",
    "        print(\"MyMeta,__prepare__ was called..\")\n",
    "        print(\"name\", name, type(name))\n",
    "        print(\"kwargs\", kwargs, type(kwargs))\n",
    "        return {\"a\":100, \"b\":200}\n",
    "    \n",
    "    def __new__(mcls, name, bases, cls_dict, **kwargs): #static method\n",
    "        print(\"MyMeta.__new__ was called..\")\n",
    "        print(\"mcls\", mcls, type(mcls))\n",
    "        print(\"name\", name, type(name))\n",
    "        print(\"bases\", bases, type(bases))\n",
    "        print(\"cls_dict\", cls_dict, type(cls_dict))\n",
    "        print(\"kwargs\", kwargs, type(kwargs))\n",
    "        return super().__new__(mcls, name, bases, cls_dict, )"
   ]
  },
  {
   "cell_type": "code",
   "execution_count": 15,
   "metadata": {},
   "outputs": [
    {
     "name": "stdout",
     "output_type": "stream",
     "text": [
      "MyMeta,__prepare__ was called..\n",
      "name MyClass <class 'str'>\n",
      "kwargs {'kw': 1, 'kw2': 2} <class 'dict'>\n",
      "MyMeta.__new__ was called..\n",
      "mcls <class '__main__.MyMeta'> <class 'type'>\n",
      "name MyClass <class 'str'>\n",
      "bases () <class 'tuple'>\n",
      "cls_dict {'a': 100, 'b': 200, '__module__': '__main__', '__qualname__': 'MyClass'} <class 'dict'>\n",
      "kwargs {'kw': 1, 'kw2': 2} <class 'dict'>\n"
     ]
    }
   ],
   "source": [
    "class MyClass(metaclass = MyMeta, kw = 1, kw2 = 2):\n",
    "    pass"
   ]
  },
  {
   "cell_type": "markdown",
   "metadata": {},
   "source": [
    "before the new method is called, python calls the prepare method to get base dictionary to use for the class dictionary. than it injects whatever it needs to and pass it to the new method"
   ]
  },
  {
   "cell_type": "code",
   "execution_count": 17,
   "metadata": {},
   "outputs": [
    {
     "data": {
      "text/plain": [
       "{}"
      ]
     },
     "execution_count": 17,
     "metadata": {},
     "output_type": "execute_result"
    }
   ],
   "source": [
    "type.__prepare__()"
   ]
  },
  {
   "cell_type": "code",
   "execution_count": 18,
   "metadata": {},
   "outputs": [],
   "source": [
    "class MyMeta(type):\n",
    "      \n",
    "    def __new__(mcls, name, bases, cls_dict, **kwargs): \n",
    "        cls_dict.update(kwargs)\n",
    "        return super().__new__(mcls, name, bases, cls_dict, )"
   ]
  },
  {
   "cell_type": "code",
   "execution_count": 19,
   "metadata": {},
   "outputs": [],
   "source": [
    "class MyClass(metaclass = MyMeta, kw = 1, kw2 = 2):\n",
    "    pass"
   ]
  },
  {
   "cell_type": "code",
   "execution_count": 20,
   "metadata": {},
   "outputs": [
    {
     "data": {
      "text/plain": [
       "mappingproxy({'__module__': '__main__',\n",
       "              'kw': 1,\n",
       "              'kw2': 2,\n",
       "              '__dict__': <attribute '__dict__' of 'MyClass' objects>,\n",
       "              '__weakref__': <attribute '__weakref__' of 'MyClass' objects>,\n",
       "              '__doc__': None})"
      ]
     },
     "execution_count": 20,
     "metadata": {},
     "output_type": "execute_result"
    }
   ],
   "source": [
    "vars(MyClass)"
   ]
  },
  {
   "cell_type": "code",
   "execution_count": 21,
   "metadata": {},
   "outputs": [],
   "source": [
    "class MyMeta(type):\n",
    "    def __prepare__(name, bases, **kwargs): \n",
    "        return kwargs\n",
    "    \n",
    "    def __new__(mcls, name, bases, cls_dict): # we do need to implement new, if we do __prepare__ and have kwargs\n",
    "        return super().__new__(mcls, name, bases, cls_dict, )"
   ]
  },
  {
   "cell_type": "markdown",
   "metadata": {},
   "source": [
    "`__prepare__` needs to return an object, which is an instance of dict, but it doesn't have to be a dictionary (OrderedDict, for example). UserDict won't do:"
   ]
  },
  {
   "cell_type": "code",
   "execution_count": 27,
   "metadata": {},
   "outputs": [],
   "source": [
    "class CustomDict(UserDict):\n",
    "    def __setitem__(self, key, value):\n",
    "        print(f\"Setting {key} = {value} in custom dictionary\")\n",
    "        super().__setitem__(key, value)\n",
    "    \n",
    "    def __getitem__(self, key):\n",
    "        print(f\"Getting {key} from custom dictionary\")\n",
    "        return int(super().__getitem__(key))"
   ]
  },
  {
   "cell_type": "code",
   "execution_count": 28,
   "metadata": {},
   "outputs": [],
   "source": [
    " class MyMeta(type):\n",
    "    def __prepare__(name, bases):\n",
    "        return CustomDict()"
   ]
  },
  {
   "cell_type": "code",
   "execution_count": 29,
   "metadata": {},
   "outputs": [
    {
     "name": "stdout",
     "output_type": "stream",
     "text": [
      "Getting __name__ from custom dictionary\n",
      "Setting __module__ = __main__ in custom dictionary\n",
      "Setting __qualname__ = MyClass in custom dictionary\n"
     ]
    },
    {
     "ename": "TypeError",
     "evalue": "type.__new__() argument 3 must be dict, not CustomDict",
     "output_type": "error",
     "traceback": [
      "\u001b[1;31m---------------------------------------------------------------------------\u001b[0m",
      "\u001b[1;31mTypeError\u001b[0m                                 Traceback (most recent call last)",
      "\u001b[1;32m<ipython-input-29-36dee63ef6f1>\u001b[0m in \u001b[0;36m<module>\u001b[1;34m\u001b[0m\n\u001b[1;32m----> 1\u001b[1;33m \u001b[1;32mclass\u001b[0m \u001b[0mMyClass\u001b[0m\u001b[1;33m(\u001b[0m\u001b[0mmetaclass\u001b[0m \u001b[1;33m=\u001b[0m \u001b[0mMyMeta\u001b[0m\u001b[1;33m,\u001b[0m \u001b[1;33m)\u001b[0m\u001b[1;33m:\u001b[0m\u001b[1;33m\u001b[0m\u001b[1;33m\u001b[0m\u001b[0m\n\u001b[0m\u001b[0;32m      2\u001b[0m     \u001b[1;32mpass\u001b[0m\u001b[1;33m\u001b[0m\u001b[1;33m\u001b[0m\u001b[0m\n",
      "\u001b[1;31mTypeError\u001b[0m: type.__new__() argument 3 must be dict, not CustomDict"
     ]
    }
   ],
   "source": [
    "class MyClass(metaclass = MyMeta, ):\n",
    "    pass"
   ]
  },
  {
   "cell_type": "code",
   "execution_count": 30,
   "metadata": {},
   "outputs": [
    {
     "data": {
      "text/plain": [
       "False"
      ]
     },
     "execution_count": 30,
     "metadata": {},
     "output_type": "execute_result"
    }
   ],
   "source": [
    "issubclass(UserDict, dict)"
   ]
  },
  {
   "cell_type": "code",
   "execution_count": 31,
   "metadata": {},
   "outputs": [],
   "source": [
    "class CustomDict(dict):\n",
    "    def __setitem__(self, key, value):\n",
    "        print(f\"Setting {key} = {value} in custom dictionary\")\n",
    "        super().__setitem__(key, value)\n",
    "    \n",
    "    def __getitem__(self, key):\n",
    "        print(f\"Getting {key} from custom dictionary\")\n",
    "        return int(super().__getitem__(key))"
   ]
  },
  {
   "cell_type": "code",
   "execution_count": 32,
   "metadata": {},
   "outputs": [],
   "source": [
    " class MyMeta(type):\n",
    "    def __prepare__(name, bases):\n",
    "        return CustomDict()"
   ]
  },
  {
   "cell_type": "code",
   "execution_count": 33,
   "metadata": {},
   "outputs": [
    {
     "name": "stdout",
     "output_type": "stream",
     "text": [
      "Getting __name__ from custom dictionary\n",
      "Setting __module__ = __main__ in custom dictionary\n",
      "Setting __qualname__ = MyClass in custom dictionary\n"
     ]
    }
   ],
   "source": [
    "class MyClass(metaclass = MyMeta, ):\n",
    "    pass"
   ]
  },
  {
   "cell_type": "code",
   "execution_count": null,
   "metadata": {},
   "outputs": [],
   "source": []
  }
 ],
 "metadata": {
  "kernelspec": {
   "display_name": "Python 3",
   "language": "python",
   "name": "python3"
  },
  "language_info": {
   "codemirror_mode": {
    "name": "ipython",
    "version": 3
   },
   "file_extension": ".py",
   "mimetype": "text/x-python",
   "name": "python",
   "nbconvert_exporter": "python",
   "pygments_lexer": "ipython3",
   "version": "3.7.4"
  }
 },
 "nbformat": 4,
 "nbformat_minor": 4
}
