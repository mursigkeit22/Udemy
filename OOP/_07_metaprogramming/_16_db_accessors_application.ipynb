{
 "cells": [
  {
   "cell_type": "code",
   "execution_count": 52,
   "metadata": {},
   "outputs": [],
   "source": [
    "from configparser import ConfigParser\n",
    "import psycopg2"
   ]
  },
  {
   "cell_type": "code",
   "execution_count": 53,
   "metadata": {},
   "outputs": [],
   "source": [
    "def config(filename='database.ini', section='postgresql'):\n",
    "    parser = ConfigParser()\n",
    "    parser.read(filename)\n",
    "\n",
    "    db_params = {}\n",
    "    if parser.has_section(section):\n",
    "        params = parser.items(section)\n",
    "        for param in params:\n",
    "            db_params[param[0]] = param[1]\n",
    "    else:\n",
    "        raise Exception('Section {0} not found in the {1} file'.format(section, filename))\n",
    "\n",
    "    return db_params"
   ]
  },
  {
   "cell_type": "code",
   "execution_count": 54,
   "metadata": {},
   "outputs": [],
   "source": [
    "def connect(function, *func_params):\n",
    "    \n",
    "    params = config()\n",
    "    connection = psycopg2.connect(**params)\n",
    "    global cur\n",
    "    cur = connection.cursor()\n",
    "        \n",
    "    function(*func_params)\n",
    "\n",
    "    cur.close()\n",
    "    connection.close()\n"
   ]
  },
  {
   "cell_type": "code",
   "execution_count": 144,
   "metadata": {},
   "outputs": [],
   "source": [
    "class DBTable:\n",
    "    def __init__(self,  table_name, schema_name=\"public\"): # db_conn?\n",
    "        if not self.check_if_table_exists(table_name, schema_name):\n",
    "            raise AttributeError(f\"The table {table_name} doesn't exist in schema '{schema_name}' or you don't have an access.\")\n",
    "        self._table_name = table_name\n",
    "        self._column_names = get_column_names(table_name)\n",
    "        self._unique_columns = get_unique_columns(table_name)\n",
    "        \n",
    "    def get_record(self, column_name, value):\n",
    "        s = f\"SELECT * FROM {self._table_name} where {column_name}='{value}'\"\n",
    "        cur.execute(s)\n",
    "        result = cur.fetchone()\n",
    "        return result\n",
    "    \n",
    "    def check_if_table_exists(self, table_name, schema_name):\n",
    "        s = f\"\"\" SELECT EXISTS (\n",
    "       SELECT FROM information_schema.tables \n",
    "       WHERE  table_schema = '{schema_name}'\n",
    "       AND    table_name   = '{table_name}'\n",
    "       ); \"\"\"\n",
    "        cur.execute(s)\n",
    "        result = cur.fetchone()[0]\n",
    "        return result\n",
    "    \n",
    "    def get_unique_columns(self):\n",
    "        s = f\"\"\"SELECT c.column_name \n",
    "            FROM information_schema.key_column_usage AS c\n",
    "            LEFT JOIN information_schema.table_constraints AS t\n",
    "            ON t.constraint_name = c.constraint_name\n",
    "            WHERE t.constraint_type in ('PRIMARY KEY', 'UNIQUE') \n",
    "            and t.table_name = '{self._table_name}';\n",
    "\n",
    "            \"\"\"\n",
    "        cur.execute(s)\n",
    "        result = tuple(i[0] for i in cur.fetchall())\n",
    "        return result\n",
    "    \n",
    "    def get_column_names(self):\n",
    "        s = f\"\"\"SELECT column_name FROM INFORMATION_SCHEMA.COLUMNS WHERE TABLE_NAME = '{self._table_name}';\"\"\"\n",
    "        cur.execute(s)\n",
    "        column_names = cur.fetchall()\n",
    "\n",
    "        return tuple(item[0] for item in column_names)\n",
    "      \n",
    "    \n",
    "    @property\n",
    "    def table_name(self):\n",
    "        return self._table_name\n",
    "    \n",
    "    @property\n",
    "    def column_names(self):\n",
    "        return self._column_names\n",
    "    \n",
    "    @property\n",
    "    def unique_columns(self):\n",
    "        return self._unique_columns\n",
    "    \n",
    "    def __call__(self, column_name, value):\n",
    "        if column_name in self.unique_columns:\n",
    "            record = self.get_record(column_name, value)\n",
    "            if not record: # если None из таблицы и если нет такого значения - проверить\n",
    "                raise AttributeError(f\"There is no '{value}' value in '{column_name}' column.\")\n",
    "            record_dict = dict(zip(self._column_names, record))\n",
    "           \n",
    "            \n",
    "            return DBRecord(record_dict)\n",
    "        if column_name in self.column_names:\n",
    "            raise AttributeError(f\"Column '{record_id}' doesn't have unique or primary constraint and cannot be used as identifier.\")\n",
    "        raise AttributeError(f\"Table {self._table_name} doesn't have column {column_name}\")    \n",
    "        \n",
    "        "
   ]
  },
  {
   "cell_type": "code",
   "execution_count": 145,
   "metadata": {},
   "outputs": [],
   "source": [
    "class DBRecord:\n",
    "    def __init__(self, db_record_dict):\n",
    "        super().__setattr__(\"_record\", db_record_dict)\n",
    "        \n",
    "    @property\n",
    "    def fields(self):\n",
    "        return tuple(self._record.keys())\n",
    "        \n",
    "    def __getattr__(self, name):\n",
    "        if name in super().__getattribute__(\"_record\"):\n",
    "            return self._record[name]\n",
    "        raise AttributeError(f\"Field name '{name}' doesn't exist.\")\n",
    "        \n",
    "    def __setattr__(self, name, value):\n",
    "        if name in super().__getattribute__(\"_record\"):\n",
    "            return NotImplemented\n",
    "            # connect to database\n",
    "        else:\n",
    "            raise AttributeError(f\"Field name '{name}' doesn't exist.\")\n",
    "            \n",
    "            \n",
    "        "
   ]
  },
  {
   "cell_type": "code",
   "execution_count": 146,
   "metadata": {},
   "outputs": [],
   "source": [
    "conn = None\n",
    "params = config()\n",
    "\n",
    "conn = psycopg2.connect(**params)\n",
    "\n",
    "global cur\n",
    "cur = conn.cursor()"
   ]
  },
  {
   "cell_type": "code",
   "execution_count": 147,
   "metadata": {},
   "outputs": [],
   "source": [
    "vk_chat = DBTable(\"vk_chat\")\n",
    "auth_users = DBTable(\"auth_user\")\n",
    "vk_chat_01 = vk_chat(\"chat_id\", 2_000_000_001)"
   ]
  },
  {
   "cell_type": "code",
   "execution_count": 148,
   "metadata": {},
   "outputs": [
    {
     "data": {
      "text/plain": [
       "1"
      ]
     },
     "execution_count": 148,
     "metadata": {},
     "output_type": "execute_result"
    }
   ],
   "source": [
    "vk_chat_01.local_id"
   ]
  },
  {
   "cell_type": "code",
   "execution_count": 149,
   "metadata": {},
   "outputs": [
    {
     "data": {
      "text/plain": [
       "'valerie'"
      ]
     },
     "execution_count": 149,
     "metadata": {},
     "output_type": "execute_result"
    }
   ],
   "source": [
    "user_01 = auth_users(\"id\", 1)\n",
    "user_01.username"
   ]
  },
  {
   "cell_type": "code",
   "execution_count": 150,
   "metadata": {},
   "outputs": [
    {
     "data": {
      "text/plain": [
       "{'_record': {'id': 1,\n",
       "  'password': 'pbkdf2_sha256$150000$5JTSYIra7A9S$3wZbCzrfrBDAtoUVyJfjVnHQp/S6qDEJ511ElBQ9uD0=',\n",
       "  'last_login': datetime.datetime(2020, 9, 21, 13, 31, 57, 649734, tzinfo=psycopg2.tz.FixedOffsetTimezone(offset=180, name=None)),\n",
       "  'is_superuser': True,\n",
       "  'username': 'valerie',\n",
       "  'first_name': '',\n",
       "  'last_name': '',\n",
       "  'email': 'lera_shel@mail.ru',\n",
       "  'is_staff': True,\n",
       "  'is_active': True,\n",
       "  'date_joined': datetime.datetime(2019, 11, 21, 13, 39, 57, 442258, tzinfo=psycopg2.tz.FixedOffsetTimezone(offset=180, name=None))}}"
      ]
     },
     "execution_count": 150,
     "metadata": {},
     "output_type": "execute_result"
    }
   ],
   "source": [
    "user_01.__dict__"
   ]
  },
  {
   "cell_type": "code",
   "execution_count": 151,
   "metadata": {},
   "outputs": [
    {
     "data": {
      "text/plain": [
       "1"
      ]
     },
     "execution_count": 151,
     "metadata": {},
     "output_type": "execute_result"
    }
   ],
   "source": [
    "user_01.id = 111\n",
    "user_01.id"
   ]
  },
  {
   "cell_type": "code",
   "execution_count": 152,
   "metadata": {},
   "outputs": [
    {
     "data": {
      "text/plain": [
       "('id',\n",
       " 'password',\n",
       " 'last_login',\n",
       " 'is_superuser',\n",
       " 'username',\n",
       " 'first_name',\n",
       " 'last_name',\n",
       " 'email',\n",
       " 'is_staff',\n",
       " 'is_active',\n",
       " 'date_joined')"
      ]
     },
     "execution_count": 152,
     "metadata": {},
     "output_type": "execute_result"
    }
   ],
   "source": [
    "user_01.fields"
   ]
  },
  {
   "cell_type": "code",
   "execution_count": 153,
   "metadata": {},
   "outputs": [
    {
     "name": "stdout",
     "output_type": "stream",
     "text": [
      "Database connection closed.\n"
     ]
    }
   ],
   "source": [
    "    \n",
    "cur.close()\n",
    "\n",
    "if conn is not None:\n",
    "    conn.close()\n",
    "    print('Database connection closed.')"
   ]
  },
  {
   "cell_type": "code",
   "execution_count": 91,
   "metadata": {},
   "outputs": [],
   "source": []
  }
 ],
 "metadata": {
  "kernelspec": {
   "display_name": "Python 3",
   "language": "python",
   "name": "python3"
  },
  "language_info": {
   "codemirror_mode": {
    "name": "ipython",
    "version": 3
   },
   "file_extension": ".py",
   "mimetype": "text/x-python",
   "name": "python",
   "nbconvert_exporter": "python",
   "pygments_lexer": "ipython3",
   "version": "3.7.4"
  }
 },
 "nbformat": 4,
 "nbformat_minor": 4
}
