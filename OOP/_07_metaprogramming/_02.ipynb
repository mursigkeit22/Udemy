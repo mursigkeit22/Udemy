{
 "cells": [
  {
   "cell_type": "code",
   "execution_count": 1,
   "metadata": {},
   "outputs": [],
   "source": [
    "import math"
   ]
  },
  {
   "cell_type": "markdown",
   "metadata": {},
   "source": [
    "#### How classes are created?"
   ]
  },
  {
   "cell_type": "code",
   "execution_count": 2,
   "metadata": {},
   "outputs": [],
   "source": [
    "class Circle(object):\n",
    "    def __init__(self, x, y, r):\n",
    "        self.x = x\n",
    "        self.y = y\n",
    "        self.r = r\n",
    "    \n",
    "    def area(self):\n",
    "        return math.pi * self.r ** 2"
   ]
  },
  {
   "cell_type": "code",
   "execution_count": 4,
   "metadata": {},
   "outputs": [
    {
     "data": {
      "text/plain": [
       "(True, type, __main__.Circle)"
      ]
     },
     "execution_count": 4,
     "metadata": {},
     "output_type": "execute_result"
    }
   ],
   "source": [
    "\"Circle\" in globals(), type(Circle), Circle"
   ]
  },
  {
   "cell_type": "markdown",
   "metadata": {},
   "source": [
    "type is a class itself, so Circle is an instance of type. But syntax is different. We are not calling type, creating an instance of type. Instead we use special keyword `class`"
   ]
  },
  {
   "cell_type": "markdown",
   "metadata": {},
   "source": [
    "Python extracts name of the class, what we are inhereting from, and blob of text with all the code in the class. And using all this python creates new instance of type"
   ]
  },
  {
   "cell_type": "markdown",
   "metadata": {},
   "source": [
    "#### let's do all those steps manually"
   ]
  },
  {
   "cell_type": "markdown",
   "metadata": {},
   "source": [
    "let's use exec"
   ]
  },
  {
   "cell_type": "markdown",
   "metadata": {},
   "source": [
    "example:"
   ]
  },
  {
   "cell_type": "code",
   "execution_count": 7,
   "metadata": {},
   "outputs": [],
   "source": [
    "namespace = {}\n",
    "exec(\"\"\"\n",
    "a = 10\n",
    "b = 20\n",
    "def __init__(self):\n",
    "    pass\n",
    "\"\"\", globals(), namespace)"
   ]
  },
  {
   "cell_type": "code",
   "execution_count": 8,
   "metadata": {},
   "outputs": [
    {
     "data": {
      "text/plain": [
       "{'a': 10, 'b': 20, '__init__': <function __main__.__init__(self)>}"
      ]
     },
     "execution_count": 8,
     "metadata": {},
     "output_type": "execute_result"
    }
   ],
   "source": [
    "namespace"
   ]
  },
  {
   "cell_type": "markdown",
   "metadata": {},
   "source": [
    "so exec uses the third argument as namespace"
   ]
  },
  {
   "cell_type": "markdown",
   "metadata": {},
   "source": [
    "and here it will be in globals:"
   ]
  },
  {
   "cell_type": "code",
   "execution_count": 10,
   "metadata": {
    "collapsed": true
   },
   "outputs": [
    {
     "data": {
      "text/plain": [
       "{'__name__': '__main__',\n",
       " '__doc__': 'Automatically created module for IPython interactive environment',\n",
       " '__package__': None,\n",
       " '__loader__': None,\n",
       " '__spec__': None,\n",
       " '__builtin__': <module 'builtins' (built-in)>,\n",
       " '__builtins__': <module 'builtins' (built-in)>,\n",
       " '_ih': ['',\n",
       "  'import math',\n",
       "  'class Circle(object):\\n    def __init__(self, x, y, r):\\n        self.x = x\\n        self.y = y\\n        self.r = r\\n    \\n    def area(self):\\n        return math.pi * self.r ** 2',\n",
       "  '\"Circle\" in globals(), type(Circle)',\n",
       "  '\"Circle\" in globals(), type(Circle), Circle',\n",
       "  'namespace = {}\\nexec(\"\"\"\\na = 10\\nb = 20\\n\"\"\", globals(), namespace)',\n",
       "  'namespace',\n",
       "  'namespace = {}\\nexec(\"\"\"\\na = 10\\nb = 20\\ndef __init__(self):\\n    pass\\n\"\"\", globals(), namespace)',\n",
       "  'namespace',\n",
       "  'a = 10\\nb = 20\\ndef __init__(self):\\n    pass\\nglobals()',\n",
       "  'a = 15\\nb = 67\\ndef __init__(self):\\n    pass\\nglobals()'],\n",
       " '_oh': {3: (True, type),\n",
       "  4: (True, type, __main__.Circle),\n",
       "  6: {'a': 10, 'b': 20},\n",
       "  8: {'a': 10, 'b': 20, '__init__': <function __main__.__init__(self)>},\n",
       "  9: {...}},\n",
       " '_dh': ['C:\\\\Users\\\\Lera\\\\Desktop\\\\jupiter\\\\udemy\\\\OOP\\\\metaprogramming'],\n",
       " 'In': ['',\n",
       "  'import math',\n",
       "  'class Circle(object):\\n    def __init__(self, x, y, r):\\n        self.x = x\\n        self.y = y\\n        self.r = r\\n    \\n    def area(self):\\n        return math.pi * self.r ** 2',\n",
       "  '\"Circle\" in globals(), type(Circle)',\n",
       "  '\"Circle\" in globals(), type(Circle), Circle',\n",
       "  'namespace = {}\\nexec(\"\"\"\\na = 10\\nb = 20\\n\"\"\", globals(), namespace)',\n",
       "  'namespace',\n",
       "  'namespace = {}\\nexec(\"\"\"\\na = 10\\nb = 20\\ndef __init__(self):\\n    pass\\n\"\"\", globals(), namespace)',\n",
       "  'namespace',\n",
       "  'a = 10\\nb = 20\\ndef __init__(self):\\n    pass\\nglobals()',\n",
       "  'a = 15\\nb = 67\\ndef __init__(self):\\n    pass\\nglobals()'],\n",
       " 'Out': {3: (True, type),\n",
       "  4: (True, type, __main__.Circle),\n",
       "  6: {'a': 10, 'b': 20},\n",
       "  8: {'a': 10, 'b': 20, '__init__': <function __main__.__init__(self)>},\n",
       "  9: {...}},\n",
       " 'get_ipython': <bound method InteractiveShell.get_ipython of <ipykernel.zmqshell.ZMQInteractiveShell object at 0x000001E6B7D1E888>>,\n",
       " 'exit': <IPython.core.autocall.ZMQExitAutocall at 0x1e6b7d9c548>,\n",
       " 'quit': <IPython.core.autocall.ZMQExitAutocall at 0x1e6b7d9c548>,\n",
       " '_': {...},\n",
       " '__': {'a': 10, 'b': 20, '__init__': <function __main__.__init__(self)>},\n",
       " '___': {'a': 10, 'b': 20},\n",
       " 'pd': <module 'pandas' from 'C:\\\\Users\\\\Lera\\\\Anaconda3\\\\lib\\\\site-packages\\\\pandas\\\\__init__.py'>,\n",
       " 'np': <module 'numpy' from 'C:\\\\Users\\\\Lera\\\\Anaconda3\\\\lib\\\\site-packages\\\\numpy\\\\__init__.py'>,\n",
       " '_i': 'a = 10\\nb = 20\\ndef __init__(self):\\n    pass\\nglobals()',\n",
       " '_ii': 'namespace',\n",
       " '_iii': 'namespace = {}\\nexec(\"\"\"\\na = 10\\nb = 20\\ndef __init__(self):\\n    pass\\n\"\"\", globals(), namespace)',\n",
       " '_i1': 'import math',\n",
       " 'math': <module 'math' (built-in)>,\n",
       " '_i2': 'class Circle(object):\\n    def __init__(self, x, y, r):\\n        self.x = x\\n        self.y = y\\n        self.r = r\\n    \\n    def area(self):\\n        return math.pi * self.r ** 2',\n",
       " 'Circle': __main__.Circle,\n",
       " '_i3': '\"Circle\" in globals(), type(Circle)',\n",
       " '_3': (True, type),\n",
       " '_i4': '\"Circle\" in globals(), type(Circle), Circle',\n",
       " '_4': (True, type, __main__.Circle),\n",
       " '_i5': 'namespace = {}\\nexec(\"\"\"\\na = 10\\nb = 20\\n\"\"\", globals(), namespace)',\n",
       " 'namespace': {'a': 10,\n",
       "  'b': 20,\n",
       "  '__init__': <function __main__.__init__(self)>},\n",
       " '_i6': 'namespace',\n",
       " '_6': {'a': 10, 'b': 20},\n",
       " '_i7': 'namespace = {}\\nexec(\"\"\"\\na = 10\\nb = 20\\ndef __init__(self):\\n    pass\\n\"\"\", globals(), namespace)',\n",
       " '_i8': 'namespace',\n",
       " '_8': {'a': 10, 'b': 20, '__init__': <function __main__.__init__(self)>},\n",
       " '_i9': 'a = 10\\nb = 20\\ndef __init__(self):\\n    pass\\nglobals()',\n",
       " 'a': 15,\n",
       " 'b': 67,\n",
       " '__init__': <function __main__.__init__(self)>,\n",
       " '_9': {...},\n",
       " '_i10': 'a = 15\\nb = 67\\ndef __init__(self):\\n    pass\\nglobals()'}"
      ]
     },
     "execution_count": 10,
     "metadata": {},
     "output_type": "execute_result"
    }
   ],
   "source": [
    "a = 15\n",
    "b = 67\n",
    "def __init__(self):\n",
    "    pass\n",
    "globals()"
   ]
  },
  {
   "cell_type": "markdown",
   "metadata": {},
   "source": [
    "another exec example:"
   ]
  },
  {
   "cell_type": "code",
   "execution_count": 11,
   "metadata": {},
   "outputs": [],
   "source": [
    "namespace = {}\n",
    "exec(\"\"\"\n",
    "def add(a, b):\n",
    "    return a+b\n",
    "def mul(a, b):\n",
    "    return a*b\n",
    "\n",
    "\"\"\", globals(), namespace)"
   ]
  },
  {
   "cell_type": "code",
   "execution_count": 12,
   "metadata": {},
   "outputs": [
    {
     "data": {
      "text/plain": [
       "{'add': <function __main__.add(a, b)>, 'mul': <function __main__.mul(a, b)>}"
      ]
     },
     "execution_count": 12,
     "metadata": {},
     "output_type": "execute_result"
    }
   ],
   "source": [
    "namespace"
   ]
  },
  {
   "cell_type": "code",
   "execution_count": 13,
   "metadata": {},
   "outputs": [
    {
     "data": {
      "text/plain": [
       "50"
      ]
     },
     "execution_count": 13,
     "metadata": {},
     "output_type": "execute_result"
    }
   ],
   "source": [
    "namespace['add'](10, 40)"
   ]
  },
  {
   "cell_type": "markdown",
   "metadata": {},
   "source": [
    "class body scope"
   ]
  },
  {
   "cell_type": "markdown",
   "metadata": {},
   "source": [
    "python runs code in the class using namespace dictionary, not globals. that's why class body scope is kind of separate from where it is sitting in terms of nested scopes. \n",
    "\n",
    "we can reproduce it using exec."
   ]
  },
  {
   "cell_type": "code",
   "execution_count": 15,
   "metadata": {},
   "outputs": [],
   "source": [
    "class_name = \"Circle\"\n",
    "class_body = \"\"\"\n",
    "def __init__(self, x, y, r):\n",
    "        self.x = x\n",
    "        self.y = y\n",
    "        self.r = r\n",
    "    \n",
    "def area(self):\n",
    "    return math.pi * self.r ** 2\n",
    "\"\"\"\n",
    "class_bases = () #inheritance\n",
    "class_dict = {}"
   ]
  },
  {
   "cell_type": "code",
   "execution_count": 16,
   "metadata": {},
   "outputs": [],
   "source": [
    "exec(class_body, globals(), class_dict)"
   ]
  },
  {
   "cell_type": "code",
   "execution_count": 17,
   "metadata": {},
   "outputs": [
    {
     "data": {
      "text/plain": [
       "{'__init__': <function __main__.__init__(self, x, y, r)>,\n",
       " 'area': <function __main__.area(self)>}"
      ]
     },
     "execution_count": 17,
     "metadata": {},
     "output_type": "execute_result"
    }
   ],
   "source": [
    "class_dict"
   ]
  },
  {
   "cell_type": "code",
   "execution_count": 18,
   "metadata": {},
   "outputs": [],
   "source": [
    "Circle = type(class_name,class_bases, class_dict)"
   ]
  },
  {
   "cell_type": "code",
   "execution_count": 19,
   "metadata": {},
   "outputs": [
    {
     "data": {
      "text/plain": [
       "(type,\n",
       " mappingproxy({'__init__': <function __main__.__init__(self, x, y, r)>,\n",
       "               'area': <function __main__.area(self)>,\n",
       "               '__module__': '__main__',\n",
       "               '__dict__': <attribute '__dict__' of 'Circle' objects>,\n",
       "               '__weakref__': <attribute '__weakref__' of 'Circle' objects>,\n",
       "               '__doc__': None}))"
      ]
     },
     "execution_count": 19,
     "metadata": {},
     "output_type": "execute_result"
    }
   ],
   "source": [
    "type(Circle), Circle.__dict__"
   ]
  },
  {
   "cell_type": "code",
   "execution_count": 20,
   "metadata": {},
   "outputs": [
    {
     "data": {
      "text/plain": [
       "'Circle'"
      ]
     },
     "execution_count": 20,
     "metadata": {},
     "output_type": "execute_result"
    }
   ],
   "source": [
    "Circle.__name__"
   ]
  },
  {
   "cell_type": "code",
   "execution_count": 21,
   "metadata": {},
   "outputs": [
    {
     "data": {
      "text/plain": [
       "(__main__.Circle, {'x': 0, 'y': 0, 'r': 1})"
      ]
     },
     "execution_count": 21,
     "metadata": {},
     "output_type": "execute_result"
    }
   ],
   "source": [
    "c = Circle(0, 0, 1)\n",
    "type(c), c.__dict__"
   ]
  },
  {
   "cell_type": "code",
   "execution_count": 22,
   "metadata": {},
   "outputs": [
    {
     "data": {
      "text/plain": [
       "<bound method area of <__main__.Circle object at 0x000001E6B9E95248>>"
      ]
     },
     "execution_count": 22,
     "metadata": {},
     "output_type": "execute_result"
    }
   ],
   "source": [
    "c.area"
   ]
  },
  {
   "cell_type": "markdown",
   "metadata": {},
   "source": [
    "type is a metaclass. it is used to construct other classes"
   ]
  },
  {
   "cell_type": "code",
   "execution_count": null,
   "metadata": {},
   "outputs": [],
   "source": []
  }
 ],
 "metadata": {
  "kernelspec": {
   "display_name": "Python 3",
   "language": "python",
   "name": "python3"
  },
  "language_info": {
   "codemirror_mode": {
    "name": "ipython",
    "version": 3
   },
   "file_extension": ".py",
   "mimetype": "text/x-python",
   "name": "python",
   "nbconvert_exporter": "python",
   "pygments_lexer": "ipython3",
   "version": "3.7.4"
  }
 },
 "nbformat": 4,
 "nbformat_minor": 4
}
