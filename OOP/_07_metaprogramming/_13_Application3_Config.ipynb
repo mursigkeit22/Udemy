{
 "cells": [
  {
   "cell_type": "code",
   "execution_count": 2,
   "metadata": {},
   "outputs": [],
   "source": [
    "import configparser"
   ]
  },
  {
   "cell_type": "markdown",
   "metadata": {},
   "source": [
    "these config files are hand-edited:"
   ]
  },
  {
   "cell_type": "code",
   "execution_count": 1,
   "metadata": {},
   "outputs": [],
   "source": [
    "with open(\"prod.ini\", \"w\") as prod, open(\"dev.ini\", \"w\") as dev:\n",
    "    prod.write(\"[Database]\\n\")\n",
    "    prod.write(\"db_host=prod.mynetwork.com\\n\")\n",
    "    prod.write(\"db_name=my_database\\n\")\n",
    "    prod.write(\"\\n[Server]\\n\")\n",
    "    prod.write(\"port=8080\\n\")\n",
    "    \n",
    "    dev.write(\"[Database]\\n\")\n",
    "    dev.write(\"db_host=dev.mynetwork.com\\n\")\n",
    "    dev.write(\"db_name=my_database\\n\")\n",
    "    dev.write(\"\\n[Server]\\n\")\n",
    "    dev.write(\"port=3000\\n\")"
   ]
  },
  {
   "cell_type": "code",
   "execution_count": 5,
   "metadata": {},
   "outputs": [],
   "source": [
    "class Config:\n",
    "    def __init__(self, env='dev'):\n",
    "        print(f\"Loading config from {env} file.\")\n",
    "        config = configparser.ConfigParser()\n",
    "        file_name = f\"{env}.ini\"\n",
    "        config.read(file_name)\n",
    "        self.db_host = config[\"Database\"][\"db_host\"]\n",
    "        self.db_name = config[\"Database\"][\"db_name\"]\n",
    "        self.port = config[\"Server\"][\"port\"]"
   ]
  },
  {
   "cell_type": "markdown",
   "metadata": {},
   "source": [
    "tipically the name of the environment is going to be a variable, for example, in could come from environment variables. Here we use just a string"
   ]
  },
  {
   "cell_type": "code",
   "execution_count": 7,
   "metadata": {},
   "outputs": [
    {
     "name": "stdout",
     "output_type": "stream",
     "text": [
      "Loading config from prod file.\n"
     ]
    }
   ],
   "source": [
    "config = Config(\"prod\")"
   ]
  },
  {
   "cell_type": "code",
   "execution_count": 10,
   "metadata": {},
   "outputs": [
    {
     "data": {
      "text/plain": [
       "{'db_host': 'prod.mynetwork.com', 'db_name': 'my_database', 'port': '8080'}"
      ]
     },
     "execution_count": 10,
     "metadata": {},
     "output_type": "execute_result"
    }
   ],
   "source": [
    "vars(config)"
   ]
  },
  {
   "cell_type": "markdown",
   "metadata": {},
   "source": [
    "we can have this module reloded wherever we need it and it will be compiled only once "
   ]
  },
  {
   "cell_type": "markdown",
   "metadata": {},
   "source": [
    "problems: \n",
    "    - inbuilt help doesn't show any useful info for Config\n",
    "    - we needed to know all the sections in the .ini file and write them by hand"
   ]
  },
  {
   "cell_type": "code",
   "execution_count": 12,
   "metadata": {},
   "outputs": [
    {
     "name": "stdout",
     "output_type": "stream",
     "text": [
      "Help on class Config in module __main__:\n",
      "\n",
      "class Config(builtins.object)\n",
      " |  Config(env='dev')\n",
      " |  \n",
      " |  Methods defined here:\n",
      " |  \n",
      " |  __init__(self, env='dev')\n",
      " |      Initialize self.  See help(type(self)) for accurate signature.\n",
      " |  \n",
      " |  ----------------------------------------------------------------------\n",
      " |  Data descriptors defined here:\n",
      " |  \n",
      " |  __dict__\n",
      " |      dictionary for instance variables (if defined)\n",
      " |  \n",
      " |  __weakref__\n",
      " |      list of weak references to the object (if defined)\n",
      "\n"
     ]
    }
   ],
   "source": [
    "help(Config)"
   ]
  },
  {
   "cell_type": "code",
   "execution_count": 13,
   "metadata": {},
   "outputs": [
    {
     "name": "stdout",
     "output_type": "stream",
     "text": [
      "Loading config from dev file.\n"
     ]
    }
   ],
   "source": [
    "class Config:\n",
    "    def __init__(self, env='dev'):\n",
    "        print(f\"Loading config from {env} file.\")\n",
    "        config = configparser.ConfigParser()\n",
    "        file_name = f\"{env}.ini\"\n",
    "        config.read(file_name)\n",
    "        for section_name in config.sections():\n",
    "            for key, value in config[section_name].items():\n",
    "                setattr(self, key, value)\n",
    "        \n",
    "config = Config()       "
   ]
  },
  {
   "cell_type": "code",
   "execution_count": 14,
   "metadata": {},
   "outputs": [
    {
     "data": {
      "text/plain": [
       "{'db_host': 'dev.mynetwork.com', 'db_name': 'my_database', 'port': '3000'}"
      ]
     },
     "execution_count": 14,
     "metadata": {},
     "output_type": "execute_result"
    }
   ],
   "source": [
    "vars(config)"
   ]
  },
  {
   "cell_type": "markdown",
   "metadata": {},
   "source": [
    "let's deal with sections, so we wouldn't have to flatten the structure"
   ]
  },
  {
   "cell_type": "code",
   "execution_count": 15,
   "metadata": {},
   "outputs": [],
   "source": [
    "class Section:\n",
    "    def __init__(self, name, item_dict):\n",
    "        \"\"\"\n",
    "        name: str\n",
    "            name of the section\n",
    "        item_dict: dict\n",
    "            dictionary of named (key) config values (value)\n",
    "        \"\"\"\n",
    "        self.name = name\n",
    "        for key, value in item_dict.items():\n",
    "                setattr(self, key, value)"
   ]
  },
  {
   "cell_type": "code",
   "execution_count": 16,
   "metadata": {},
   "outputs": [],
   "source": [
    "class Config:\n",
    "    def __init__(self, env='dev'):\n",
    "        print(f\"Loading config from {env} file.\")\n",
    "        config = configparser.ConfigParser()\n",
    "        file_name = f\"{env}.ini\"\n",
    "        config.read(file_name)\n",
    "        for section_name in config.sections():\n",
    "            section = Section(section_name, config[section_name])\n",
    "            setattr(self, section_name.casefold(), section)"
   ]
  },
  {
   "cell_type": "code",
   "execution_count": 17,
   "metadata": {},
   "outputs": [
    {
     "name": "stdout",
     "output_type": "stream",
     "text": [
      "Help on method_descriptor:\n",
      "\n",
      "casefold(self, /)\n",
      "    Return a version of the string suitable for caseless comparisons.\n",
      "\n"
     ]
    }
   ],
   "source": [
    "help(str.casefold)"
   ]
  },
  {
   "cell_type": "code",
   "execution_count": 18,
   "metadata": {},
   "outputs": [
    {
     "name": "stdout",
     "output_type": "stream",
     "text": [
      "Loading config from dev file.\n"
     ]
    }
   ],
   "source": [
    "config = Config()       "
   ]
  },
  {
   "cell_type": "code",
   "execution_count": 19,
   "metadata": {},
   "outputs": [
    {
     "data": {
      "text/plain": [
       "{'database': <__main__.Section at 0x237bd048ec8>,\n",
       " 'server': <__main__.Section at 0x237bd04c508>}"
      ]
     },
     "execution_count": 19,
     "metadata": {},
     "output_type": "execute_result"
    }
   ],
   "source": [
    "vars(config)"
   ]
  },
  {
   "cell_type": "code",
   "execution_count": 22,
   "metadata": {},
   "outputs": [
    {
     "data": {
      "text/plain": [
       "'dev.mynetwork.com'"
      ]
     },
     "execution_count": 22,
     "metadata": {},
     "output_type": "execute_result"
    }
   ],
   "source": [
    "config.database.db_host"
   ]
  },
  {
   "cell_type": "markdown",
   "metadata": {},
   "source": [
    "built-in help() still doesn't have any information about database and server in the class, because they are instance variables. We will use metaclasses to make them class variables "
   ]
  },
  {
   "cell_type": "code",
   "execution_count": 23,
   "metadata": {},
   "outputs": [],
   "source": [
    "class SectionType(type):\n",
    "    def __new__(cls, name, bases, cls_dict, section_name, items_dict):\n",
    "        cls_dict['__doc__'] = f\"Configs for {section_name} section.\"\n",
    "        cls_dict['section_name'] = section_name\n",
    "        for key, value in items_dict.items():\n",
    "            cls_dict[key] = value\n",
    "        return super().__new__(cls, name, bases, cls_dict)"
   ]
  },
  {
   "cell_type": "markdown",
   "metadata": {},
   "source": [
    "we can create classes declaratively, but it won't be of use to us:"
   ]
  },
  {
   "cell_type": "code",
   "execution_count": 25,
   "metadata": {},
   "outputs": [],
   "source": [
    "class DatabaseSection(metaclass=SectionType, section_name='database', \n",
    "                      items_dict={\"db_host\":\"db host\", \"db_name\":\"db name\"}):\n",
    "    pass"
   ]
  },
  {
   "cell_type": "code",
   "execution_count": 26,
   "metadata": {},
   "outputs": [
    {
     "data": {
      "text/plain": [
       "mappingproxy({'__module__': '__main__',\n",
       "              '__doc__': 'Configs for database section.',\n",
       "              'section_name': 'database',\n",
       "              'db_host': 'db host',\n",
       "              'db_name': 'db name',\n",
       "              '__dict__': <attribute '__dict__' of 'DatabaseSection' objects>,\n",
       "              '__weakref__': <attribute '__weakref__' of 'DatabaseSection' objects>})"
      ]
     },
     "execution_count": 26,
     "metadata": {},
     "output_type": "execute_result"
    }
   ],
   "source": [
    "vars(DatabaseSection)"
   ]
  },
  {
   "cell_type": "code",
   "execution_count": 27,
   "metadata": {},
   "outputs": [
    {
     "name": "stdout",
     "output_type": "stream",
     "text": [
      "Help on class DatabaseSection in module __main__:\n",
      "\n",
      "class DatabaseSection(builtins.object)\n",
      " |  Configs for database section.\n",
      " |  \n",
      " |  Data descriptors defined here:\n",
      " |  \n",
      " |  __dict__\n",
      " |      dictionary for instance variables (if defined)\n",
      " |  \n",
      " |  __weakref__\n",
      " |      list of weak references to the object (if defined)\n",
      " |  \n",
      " |  ----------------------------------------------------------------------\n",
      " |  Data and other attributes defined here:\n",
      " |  \n",
      " |  db_host = 'db host'\n",
      " |  \n",
      " |  db_name = 'db name'\n",
      " |  \n",
      " |  section_name = 'database'\n",
      "\n"
     ]
    }
   ],
   "source": [
    "help(DatabaseSection)"
   ]
  },
  {
   "cell_type": "markdown",
   "metadata": {},
   "source": [
    "we will use functional approach to create classes:"
   ]
  },
  {
   "cell_type": "code",
   "execution_count": 32,
   "metadata": {},
   "outputs": [],
   "source": [
    "MySection = SectionType(\"DBSection\", (), {},  section_name='database', \n",
    "                      items_dict={\"db_host\":\"db host\", \"db_name\":\"db name\"})"
   ]
  },
  {
   "cell_type": "code",
   "execution_count": 33,
   "metadata": {},
   "outputs": [
    {
     "data": {
      "text/plain": [
       "__main__.DBSection"
      ]
     },
     "execution_count": 33,
     "metadata": {},
     "output_type": "execute_result"
    }
   ],
   "source": [
    "MySection"
   ]
  },
  {
   "cell_type": "code",
   "execution_count": 34,
   "metadata": {},
   "outputs": [
    {
     "data": {
      "text/plain": [
       "mappingproxy({'__doc__': 'Configs for database section.',\n",
       "              'section_name': 'database',\n",
       "              'db_host': 'db host',\n",
       "              'db_name': 'db name',\n",
       "              '__module__': '__main__',\n",
       "              '__dict__': <attribute '__dict__' of 'DBSection' objects>,\n",
       "              '__weakref__': <attribute '__weakref__' of 'DBSection' objects>})"
      ]
     },
     "execution_count": 34,
     "metadata": {},
     "output_type": "execute_result"
    }
   ],
   "source": [
    "vars(MySection)"
   ]
  },
  {
   "cell_type": "code",
   "execution_count": 39,
   "metadata": {},
   "outputs": [
    {
     "name": "stdout",
     "output_type": "stream",
     "text": [
      "Help on class DBSection in module __main__:\n",
      "\n",
      "class DBSection(builtins.object)\n",
      " |  Configs for database section.\n",
      " |  \n",
      " |  Data descriptors defined here:\n",
      " |  \n",
      " |  __dict__\n",
      " |      dictionary for instance variables (if defined)\n",
      " |  \n",
      " |  __weakref__\n",
      " |      list of weak references to the object (if defined)\n",
      " |  \n",
      " |  ----------------------------------------------------------------------\n",
      " |  Data and other attributes defined here:\n",
      " |  \n",
      " |  db_host = 'db host'\n",
      " |  \n",
      " |  db_name = 'db name'\n",
      " |  \n",
      " |  section_name = 'database'\n",
      "\n"
     ]
    }
   ],
   "source": [
    "help(MySection)"
   ]
  },
  {
   "cell_type": "markdown",
   "metadata": {},
   "source": [
    "let's use it in our config metaclass. Attribute in config class will be the instances of Section class"
   ]
  },
  {
   "cell_type": "code",
   "execution_count": 40,
   "metadata": {},
   "outputs": [],
   "source": [
    "class Configtype(type):\n",
    "    def __new__(cls, name, bases, cls_dict, env):\n",
    "        \"\"\"\n",
    "        env: str\n",
    "           The environment we are loading for the config(e.g. prod, dev) \n",
    "        \"\"\"\n",
    "        cls_dict['__doc__'] = f\"Config for {env}\"\n",
    "        cls_dict['env'] = env\n",
    "        config = configparser.ConfigParser()\n",
    "        file_name = f\"{env}.ini\"\n",
    "        config.read(file_name)\n",
    "        for section_name in config.sections():\n",
    "            class_name = section_name.capitalize()\n",
    "            class_attribute_name = section_name.casefold()\n",
    "            section_items = config[section_name]\n",
    "            bases = ()\n",
    "            section_cls_dict = {}\n",
    "            Section = SectionType(\n",
    "                class_name, bases, section_cls_dict, section_name=section_name, items_dict = section_items\n",
    "            )\n",
    "            cls_dict[class_attribute_name] = Section\n",
    "        return super().__new__(cls, name, bases, cls_dict)"
   ]
  },
  {
   "cell_type": "code",
   "execution_count": 41,
   "metadata": {},
   "outputs": [],
   "source": [
    "class DevConfig(metaclass = Configtype, env='dev'):\n",
    "    pass\n",
    "class ProdConfig(metaclass = Configtype, env='prod'):\n",
    "    pass"
   ]
  },
  {
   "cell_type": "code",
   "execution_count": 42,
   "metadata": {},
   "outputs": [
    {
     "data": {
      "text/plain": [
       "mappingproxy({'__module__': '__main__',\n",
       "              '__doc__': 'Config for dev',\n",
       "              'env': 'dev',\n",
       "              'database': __main__.Database,\n",
       "              'server': __main__.Server,\n",
       "              '__dict__': <attribute '__dict__' of 'DevConfig' objects>,\n",
       "              '__weakref__': <attribute '__weakref__' of 'DevConfig' objects>})"
      ]
     },
     "execution_count": 42,
     "metadata": {},
     "output_type": "execute_result"
    }
   ],
   "source": [
    "vars(DevConfig)"
   ]
  },
  {
   "cell_type": "code",
   "execution_count": 44,
   "metadata": {},
   "outputs": [
    {
     "data": {
      "text/plain": [
       "mappingproxy({'__doc__': 'Configs for Database section.',\n",
       "              'section_name': 'Database',\n",
       "              'db_host': 'dev.mynetwork.com',\n",
       "              'db_name': 'my_database',\n",
       "              '__module__': '__main__',\n",
       "              '__dict__': <attribute '__dict__' of 'Database' objects>,\n",
       "              '__weakref__': <attribute '__weakref__' of 'Database' objects>})"
      ]
     },
     "execution_count": 44,
     "metadata": {},
     "output_type": "execute_result"
    }
   ],
   "source": [
    "vars(DevConfig.database)"
   ]
  },
  {
   "cell_type": "code",
   "execution_count": 46,
   "metadata": {},
   "outputs": [
    {
     "data": {
      "text/plain": [
       "'8080'"
      ]
     },
     "execution_count": 46,
     "metadata": {},
     "output_type": "execute_result"
    }
   ],
   "source": [
    "ProdConfig.server.port"
   ]
  },
  {
   "cell_type": "code",
   "execution_count": 47,
   "metadata": {},
   "outputs": [
    {
     "name": "stdout",
     "output_type": "stream",
     "text": [
      "Help on class DevConfig in module __main__:\n",
      "\n",
      "class DevConfig(builtins.object)\n",
      " |  Config for dev\n",
      " |  \n",
      " |  Data descriptors defined here:\n",
      " |  \n",
      " |  __dict__\n",
      " |      dictionary for instance variables (if defined)\n",
      " |  \n",
      " |  __weakref__\n",
      " |      list of weak references to the object (if defined)\n",
      " |  \n",
      " |  ----------------------------------------------------------------------\n",
      " |  Data and other attributes defined here:\n",
      " |  \n",
      " |  database = <class '__main__.Database'>\n",
      " |      Configs for Database section.\n",
      " |  \n",
      " |  env = 'dev'\n",
      " |  \n",
      " |  server = <class '__main__.Server'>\n",
      " |      Configs for Server section.\n",
      "\n"
     ]
    }
   ],
   "source": [
    "help(DevConfig)"
   ]
  },
  {
   "cell_type": "code",
   "execution_count": 48,
   "metadata": {},
   "outputs": [
    {
     "name": "stdout",
     "output_type": "stream",
     "text": [
      "Help on class Database in module __main__:\n",
      "\n",
      "class Database(builtins.object)\n",
      " |  Configs for Database section.\n",
      " |  \n",
      " |  Data descriptors defined here:\n",
      " |  \n",
      " |  __dict__\n",
      " |      dictionary for instance variables (if defined)\n",
      " |  \n",
      " |  __weakref__\n",
      " |      list of weak references to the object (if defined)\n",
      " |  \n",
      " |  ----------------------------------------------------------------------\n",
      " |  Data and other attributes defined here:\n",
      " |  \n",
      " |  db_host = 'dev.mynetwork.com'\n",
      " |  \n",
      " |  db_name = 'my_database'\n",
      " |  \n",
      " |  section_name = 'Database'\n",
      "\n"
     ]
    }
   ],
   "source": [
    "help(DevConfig.database )"
   ]
  },
  {
   "cell_type": "code",
   "execution_count": null,
   "metadata": {},
   "outputs": [],
   "source": []
  }
 ],
 "metadata": {
  "kernelspec": {
   "display_name": "Python 3",
   "language": "python",
   "name": "python3"
  },
  "language_info": {
   "codemirror_mode": {
    "name": "ipython",
    "version": 3
   },
   "file_extension": ".py",
   "mimetype": "text/x-python",
   "name": "python",
   "nbconvert_exporter": "python",
   "pygments_lexer": "ipython3",
   "version": "3.7.4"
  }
 },
 "nbformat": 4,
 "nbformat_minor": 4
}
