{
 "cells": [
  {
   "cell_type": "code",
   "execution_count": 1,
   "metadata": {},
   "outputs": [],
   "source": [
    "from configparser import ConfigParser\n",
    "import psycopg2"
   ]
  },
  {
   "cell_type": "code",
   "execution_count": 2,
   "metadata": {},
   "outputs": [],
   "source": [
    "def config(filename='database.ini', section='postgresql'):\n",
    "    parser = ConfigParser()\n",
    "    parser.read(filename)\n",
    "\n",
    "    db_params = {}\n",
    "    if parser.has_section(section):\n",
    "        params = parser.items(section)\n",
    "        for param in params:\n",
    "            db_params[param[0]] = param[1]\n",
    "    else:\n",
    "        raise Exception('Section {0} not found in the {1} file'.format(section, filename))\n",
    "\n",
    "    return db_params"
   ]
  },
  {
   "cell_type": "code",
   "execution_count": 3,
   "metadata": {},
   "outputs": [],
   "source": [
    "def connect(function, *func_params):\n",
    "    \n",
    "    params = config()\n",
    "    connection = psycopg2.connect(**params)\n",
    "    global cur\n",
    "    cur = connection.cursor()\n",
    "        \n",
    "    function(*func_params)\n",
    "\n",
    "    cur.close()\n",
    "    connection.close()\n"
   ]
  },
  {
   "cell_type": "code",
   "execution_count": 20,
   "metadata": {},
   "outputs": [],
   "source": [
    "def get_table_list(t_schema=\"public\"):\n",
    "    s = \"\"\n",
    "    s += \"SELECT\"\n",
    "    s += \" table_schema\"\n",
    "    s += \", table_name\"\n",
    "    s += \" FROM information_schema.tables\"\n",
    "    s += \" WHERE\"\n",
    "    s += \" (\"\n",
    "    s += \" table_schema = '\" + t_schema + \"'\"\n",
    "    s += \" )\"\n",
    "    s += \" ORDER BY table_schema, table_name;\"\n",
    "\n",
    "    cur.execute(s)\n",
    "    list_tables = cur.fetchall()\n",
    "\n",
    "    for t_name_table in list_tables:\n",
    "        print(t_name_table[1])"
   ]
  },
  {
   "cell_type": "code",
   "execution_count": 21,
   "metadata": {},
   "outputs": [
    {
     "name": "stdout",
     "output_type": "stream",
     "text": [
      "auth_group\n",
      "auth_group_permissions\n",
      "auth_permission\n",
      "auth_user\n",
      "auth_user_groups\n",
      "auth_user_user_permissions\n",
      "botsite_userprofile\n",
      "django_admin_log\n",
      "django_content_type\n",
      "django_migrations\n",
      "django_session\n",
      "vk_chat\n",
      "vk_chatmessage\n",
      "vk_intervalphrase\n",
      "vk_kicknonmemberssetting\n",
      "vk_newpostsetting\n",
      "vk_randompostsetting\n",
      "vk_smartreply\n",
      "vk_usermessage\n"
     ]
    }
   ],
   "source": [
    "connect(get_table_list)"
   ]
  },
  {
   "cell_type": "code",
   "execution_count": 28,
   "metadata": {},
   "outputs": [],
   "source": [
    "def get_data_from_table(table_name):\n",
    "    s = f\"SELECT * FROM {table_name}\"\n",
    "    cur.execute(s)\n",
    "    table_data = cur.fetchall()\n",
    "    print(table_data)\n",
    "    return table_data"
   ]
  },
  {
   "cell_type": "code",
   "execution_count": 31,
   "metadata": {},
   "outputs": [
    {
     "name": "stdout",
     "output_type": "stream",
     "text": [
      "[(2000000001, 1, None, 3, 21070693, False, False, None, None, datetime.datetime(2019, 11, 18, 16, 20, 37, tzinfo=psycopg2.tz.FixedOffsetTimezone(offset=180, name=None)), datetime.datetime(2020, 10, 4, 6, 16, 4, 551460, tzinfo=psycopg2.tz.FixedOffsetTimezone(offset=180, name=None)), False), (2000000004, 4, None, 4, 4003081, True, False, None, None, datetime.datetime(2019, 12, 6, 14, 36, 32, 324086, tzinfo=psycopg2.tz.FixedOffsetTimezone(offset=180, name=None)), datetime.datetime(2020, 1, 9, 8, 32, 17, 350115, tzinfo=psycopg2.tz.FixedOffsetTimezone(offset=180, name=None)), False), (2000000005, 5, None, 2, 21070693, True, False, None, None, datetime.datetime(2019, 12, 7, 17, 3, 3, 462937, tzinfo=psycopg2.tz.FixedOffsetTimezone(offset=180, name=None)), datetime.datetime(2020, 11, 21, 16, 17, 41, 973432, tzinfo=psycopg2.tz.FixedOffsetTimezone(offset=180, name=None)), False), (2000000003, 3, None, 7, 21070693, True, False, None, None, datetime.datetime(2019, 11, 27, 18, 3, 28, tzinfo=psycopg2.tz.FixedOffsetTimezone(offset=180, name=None)), datetime.datetime(2020, 12, 3, 22, 21, 15, 727273, tzinfo=psycopg2.tz.FixedOffsetTimezone(offset=180, name=None)), False), (2000000006, None, None, None, 21070693, False, False, None, None, datetime.datetime(2020, 10, 4, 5, 41, 52, 789618, tzinfo=psycopg2.tz.FixedOffsetTimezone(offset=180, name=None)), datetime.datetime(2020, 10, 4, 5, 42, 7, 188152, tzinfo=psycopg2.tz.FixedOffsetTimezone(offset=180, name=None)), False), (2000000002, 2, None, 3, 21070693, True, True, 3, 2, datetime.datetime(2019, 11, 22, 13, 44, 2, tzinfo=psycopg2.tz.FixedOffsetTimezone(offset=180, name=None)), datetime.datetime(2019, 12, 21, 13, 42, 15, 181707, tzinfo=psycopg2.tz.FixedOffsetTimezone(offset=180, name=None)), False), (2000000007, 7, None, 7, 87448687, True, True, 44, 18, datetime.datetime(2019, 12, 20, 8, 6, 38, tzinfo=psycopg2.tz.FixedOffsetTimezone(offset=180, name=None)), datetime.datetime(2020, 1, 27, 18, 37, 3, 864569, tzinfo=psycopg2.tz.FixedOffsetTimezone(offset=180, name=None)), False)]\n"
     ]
    }
   ],
   "source": [
    "connect(get_data_from_table, \"vk_chat\")"
   ]
  },
  {
   "cell_type": "code",
   "execution_count": 30,
   "metadata": {},
   "outputs": [
    {
     "ename": "UndefinedTable",
     "evalue": "ОШИБКА:  отношение \"v_chat\" не существует\nLINE 1: SELECT * FROM v_chat\n                      ^\n",
     "output_type": "error",
     "traceback": [
      "\u001b[1;31m---------------------------------------------------------------------------\u001b[0m",
      "\u001b[1;31mUndefinedTable\u001b[0m                            Traceback (most recent call last)",
      "\u001b[1;32m<ipython-input-30-90cdf1fc5569>\u001b[0m in \u001b[0;36m<module>\u001b[1;34m\u001b[0m\n\u001b[1;32m----> 1\u001b[1;33m \u001b[0mconnect\u001b[0m\u001b[1;33m(\u001b[0m\u001b[0mget_data_from_table\u001b[0m\u001b[1;33m,\u001b[0m \u001b[1;34m\"v_chat\"\u001b[0m\u001b[1;33m)\u001b[0m\u001b[1;33m\u001b[0m\u001b[1;33m\u001b[0m\u001b[0m\n\u001b[0m",
      "\u001b[1;32m<ipython-input-19-41c31b23b7fc>\u001b[0m in \u001b[0;36mconnect\u001b[1;34m(function, *func_params)\u001b[0m\n\u001b[0;32m      6\u001b[0m     \u001b[0mcur\u001b[0m \u001b[1;33m=\u001b[0m \u001b[0mconnection\u001b[0m\u001b[1;33m.\u001b[0m\u001b[0mcursor\u001b[0m\u001b[1;33m(\u001b[0m\u001b[1;33m)\u001b[0m\u001b[1;33m\u001b[0m\u001b[1;33m\u001b[0m\u001b[0m\n\u001b[0;32m      7\u001b[0m \u001b[1;33m\u001b[0m\u001b[0m\n\u001b[1;32m----> 8\u001b[1;33m     \u001b[0mfunction\u001b[0m\u001b[1;33m(\u001b[0m\u001b[1;33m*\u001b[0m\u001b[0mfunc_params\u001b[0m\u001b[1;33m)\u001b[0m\u001b[1;33m\u001b[0m\u001b[1;33m\u001b[0m\u001b[0m\n\u001b[0m\u001b[0;32m      9\u001b[0m \u001b[1;33m\u001b[0m\u001b[0m\n\u001b[0;32m     10\u001b[0m     \u001b[0mcur\u001b[0m\u001b[1;33m.\u001b[0m\u001b[0mclose\u001b[0m\u001b[1;33m(\u001b[0m\u001b[1;33m)\u001b[0m\u001b[1;33m\u001b[0m\u001b[1;33m\u001b[0m\u001b[0m\n",
      "\u001b[1;32m<ipython-input-28-985a246bc00d>\u001b[0m in \u001b[0;36mget_data_from_table\u001b[1;34m(table)\u001b[0m\n\u001b[0;32m      1\u001b[0m \u001b[1;32mdef\u001b[0m \u001b[0mget_data_from_table\u001b[0m\u001b[1;33m(\u001b[0m\u001b[0mtable\u001b[0m\u001b[1;33m)\u001b[0m\u001b[1;33m:\u001b[0m\u001b[1;33m\u001b[0m\u001b[1;33m\u001b[0m\u001b[0m\n\u001b[0;32m      2\u001b[0m     \u001b[0ms\u001b[0m \u001b[1;33m=\u001b[0m \u001b[1;34mf\"SELECT * FROM {table}\"\u001b[0m\u001b[1;33m\u001b[0m\u001b[1;33m\u001b[0m\u001b[0m\n\u001b[1;32m----> 3\u001b[1;33m     \u001b[0mcur\u001b[0m\u001b[1;33m.\u001b[0m\u001b[0mexecute\u001b[0m\u001b[1;33m(\u001b[0m\u001b[0ms\u001b[0m\u001b[1;33m)\u001b[0m\u001b[1;33m\u001b[0m\u001b[1;33m\u001b[0m\u001b[0m\n\u001b[0m\u001b[0;32m      4\u001b[0m     \u001b[0mtable_data\u001b[0m \u001b[1;33m=\u001b[0m \u001b[0mcur\u001b[0m\u001b[1;33m.\u001b[0m\u001b[0mfetchall\u001b[0m\u001b[1;33m(\u001b[0m\u001b[1;33m)\u001b[0m\u001b[1;33m\u001b[0m\u001b[1;33m\u001b[0m\u001b[0m\n\u001b[0;32m      5\u001b[0m     \u001b[0mprint\u001b[0m\u001b[1;33m(\u001b[0m\u001b[0mtable_data\u001b[0m\u001b[1;33m)\u001b[0m\u001b[1;33m\u001b[0m\u001b[1;33m\u001b[0m\u001b[0m\n",
      "\u001b[1;31mUndefinedTable\u001b[0m: ОШИБКА:  отношение \"v_chat\" не существует\nLINE 1: SELECT * FROM v_chat\n                      ^\n"
     ]
    }
   ],
   "source": [
    "connect(get_data_from_table, \"v_chat\")"
   ]
  },
  {
   "cell_type": "code",
   "execution_count": 35,
   "metadata": {},
   "outputs": [],
   "source": [
    "def get_record_from_table(table_name, column_name, column_value):\n",
    "    # есть ли такая таблица\n",
    "    # есть ли такая колонка\n",
    "    # есть ли такое валью\n",
    "    # является ли она юник\n",
    "    # если не юник, выводим предупреждение, что возьмется первая строка\n",
    "    s = f\"SELECT * FROM {table_name} where {column_name} = {column_value}\"\n",
    "    cur.execute(s)\n",
    "    table_data = cur.fetchall()\n",
    "    print(table_data)\n",
    "    return table_data"
   ]
  },
  {
   "cell_type": "code",
   "execution_count": 36,
   "metadata": {},
   "outputs": [
    {
     "name": "stdout",
     "output_type": "stream",
     "text": [
      "[(2000000001, 1, None, 3, 21070693, False, False, None, None, datetime.datetime(2019, 11, 18, 16, 20, 37, tzinfo=psycopg2.tz.FixedOffsetTimezone(offset=180, name=None)), datetime.datetime(2020, 10, 4, 6, 16, 4, 551460, tzinfo=psycopg2.tz.FixedOffsetTimezone(offset=180, name=None)), False)]\n"
     ]
    }
   ],
   "source": [
    "connect(get_record_from_table, \"vk_chat\", \"chat_id\", 2000000001)"
   ]
  },
  {
   "cell_type": "code",
   "execution_count": 42,
   "metadata": {},
   "outputs": [],
   "source": [
    "def check_if_column_unique_primary(table_name, column_name):\n",
    "        \n",
    "    s = f\"\"\"SELECT count(*) > 0 \n",
    "    FROM information_schema.key_column_usage AS c\n",
    "    LEFT JOIN information_schema.table_constraints AS t\n",
    "    ON t.constraint_name = c.constraint_name\n",
    "    WHERE t.constraint_type in ('PRIMARY KEY', 'UNIQUE') \n",
    "    and t.table_name = '{table_name}' and c.column_name = '{column_name}';\n",
    "\n",
    "    \"\"\"\n",
    "    cur.execute(s)\n",
    "    result = cur.fetchone()[0]\n",
    "    if result is False:\n",
    "        print(result)\n",
    "        print(type(result))\n",
    "        return result\n",
    "        "
   ]
  },
  {
   "cell_type": "code",
   "execution_count": 45,
   "metadata": {},
   "outputs": [
    {
     "name": "stdout",
     "output_type": "stream",
     "text": [
      "False\n",
      "<class 'bool'>\n"
     ]
    }
   ],
   "source": [
    "connect(check_if_column_unique_primary, \"vk_cha\", \"chat_id\")"
   ]
  },
  {
   "cell_type": "code",
   "execution_count": 47,
   "metadata": {},
   "outputs": [],
   "source": [
    "def get_unique_columns(table_name):\n",
    "    s = f\"\"\"SELECT c.column_name \n",
    "    FROM information_schema.key_column_usage AS c\n",
    "    LEFT JOIN information_schema.table_constraints AS t\n",
    "    ON t.constraint_name = c.constraint_name\n",
    "    WHERE t.constraint_type in ('PRIMARY KEY', 'UNIQUE') \n",
    "    and t.table_name = '{table_name}';\n",
    "\n",
    "    \"\"\"\n",
    "    cur.execute(s)\n",
    "    result = tuple(i[0] for i in cur.fetchall())\n",
    "    return result\n",
    "    "
   ]
  },
  {
   "cell_type": "code",
   "execution_count": 48,
   "metadata": {},
   "outputs": [
    {
     "name": "stdout",
     "output_type": "stream",
     "text": [
      "('username', 'id')\n"
     ]
    }
   ],
   "source": [
    "connect(get_unique_columns, \"auth_user\",)"
   ]
  },
  {
   "cell_type": "code",
   "execution_count": 46,
   "metadata": {},
   "outputs": [],
   "source": [
    "def connect(function, *func_params):\n",
    "    \"\"\" Connect to the PostgreSQL database server \"\"\"\n",
    "    conn = None\n",
    "    try:\n",
    "        params = config()\n",
    "\n",
    "        # connect to the PostgreSQL server\n",
    "        conn = psycopg2.connect(**params)\n",
    "\n",
    "        global cur\n",
    "        cur = conn.cursor()\n",
    "        \n",
    "        function(*func_params)\n",
    "\n",
    "        cur.close()\n",
    "    except (Exception, psycopg2.DatabaseError) as error:\n",
    "        print(error)\n",
    "    finally:\n",
    "        if conn is not None:\n",
    "            conn.close()\n"
   ]
  },
  {
   "cell_type": "code",
   "execution_count": 57,
   "metadata": {},
   "outputs": [
    {
     "name": "stdout",
     "output_type": "stream",
     "text": [
      "[(2000000001, 1, None, 3, 21070693, False, False, None, None, datetime.datetime(2019, 11, 18, 16, 20, 37, tzinfo=psycopg2.tz.FixedOffsetTimezone(offset=180, name=None)), datetime.datetime(2020, 10, 4, 6, 16, 4, 551460, tzinfo=psycopg2.tz.FixedOffsetTimezone(offset=180, name=None)), False)]\n"
     ]
    }
   ],
   "source": []
  },
  {
   "cell_type": "code",
   "execution_count": 61,
   "metadata": {},
   "outputs": [],
   "source": [
    "def get_record_from_table(table_name, column_name, value):\n",
    "    # есть ли такая таблица\n",
    "    # есть ли такая колонка\n",
    "    # есть ли такое валью\n",
    "    # является ли она юник\n",
    "    # если не юник, выводим предупреждение, что возьмется первая строка\n",
    "    s = f\"SELECT * FROM {table_name} where {column_name} = {value}\"\n",
    "    cur.execute(s)\n",
    "    table_data = cur.fetchall()\n",
    "    if not table_data:\n",
    "        raise ValueError(f\"ERROR: there is no value '{value}' in column '{column_name}'\")\n",
    "    if len(table_data) > 0:\n",
    "         raise ValueError(\"ERROR: there is more than one value for your request. Use columns with unique constraits.\")\n",
    "        \n",
    "    return table_data[0]"
   ]
  },
  {
   "cell_type": "code",
   "execution_count": 62,
   "metadata": {},
   "outputs": [
    {
     "name": "stdout",
     "output_type": "stream",
     "text": [
      "ERROR: there is more than one value for your request.\n"
     ]
    }
   ],
   "source": [
    "connect(get_record_from_table, \"vk_chatmessage\", \"chat_id_id\", 2000000001)"
   ]
  },
  {
   "cell_type": "code",
   "execution_count": 4,
   "metadata": {},
   "outputs": [],
   "source": [
    "def get_column_names(table_name):\n",
    "    s = f\"\"\"SELECT column_name FROM INFORMATION_SCHEMA.COLUMNS WHERE TABLE_NAME = '{table_name}';\"\"\"\n",
    "    cur.execute(s)\n",
    "    column_names = cur.fetchall()\n",
    "    \n",
    "    return tuple(item[0] for item in column_names)"
   ]
  },
  {
   "cell_type": "code",
   "execution_count": 5,
   "metadata": {},
   "outputs": [
    {
     "name": "stdout",
     "output_type": "stream",
     "text": [
      "[('chat_id',), ('local_id',), ('title',), ('members_count',), ('owner_id',), ('conversation_is_registered',), ('interval_mode',), ('interval',), ('messages_till_endpoint',), ('first_contact',), ('last_contact',), ('smart_mode',)]\n"
     ]
    }
   ],
   "source": [
    "connect(get_column_names, \"vk_chat\")"
   ]
  },
  {
   "cell_type": "markdown",
   "metadata": {},
   "source": [
    "[(2000000001, 1, None, 3, 21070693, False, False, None, None, datetime.datetime(2019, 11, 18, 16, 20, 37, tzinfo=psycopg2.tz.FixedOffsetTimezone(offset=180, name=None)), datetime.datetime(2020, 10, 4, 6, 16, 4, 551460, tzinfo=psycopg2.tz.FixedOffsetTimezone(offset=180, name=None)), False)]"
   ]
  },
  {
   "cell_type": "code",
   "execution_count": 21,
   "metadata": {},
   "outputs": [],
   "source": [
    "my_list = [('chat_id',), ('local_id',), ('title',), ('members_count',), ('owner_id',), ('conversation_is_registered',), ('interval_mode',), ('interval',), ('messages_till_endpoint',), ('first_contact',), ('last_contact',), ('smart_mode',)]\n",
    "list2 = tuple(item[0] for item in my_list)"
   ]
  },
  {
   "cell_type": "code",
   "execution_count": 22,
   "metadata": {},
   "outputs": [
    {
     "data": {
      "text/plain": [
       "(('chat_id',\n",
       "  'local_id',\n",
       "  'title',\n",
       "  'members_count',\n",
       "  'owner_id',\n",
       "  'conversation_is_registered',\n",
       "  'interval_mode',\n",
       "  'interval',\n",
       "  'messages_till_endpoint',\n",
       "  'first_contact',\n",
       "  'last_contact',\n",
       "  'smart_mode'),)"
      ]
     },
     "execution_count": 22,
     "metadata": {},
     "output_type": "execute_result"
    }
   ],
   "source": [
    "list1"
   ]
  },
  {
   "cell_type": "code",
   "execution_count": 26,
   "metadata": {},
   "outputs": [
    {
     "data": {
      "text/plain": [
       "('chat_id',\n",
       " 'local_id',\n",
       " 'title',\n",
       " 'members_count',\n",
       " 'owner_id',\n",
       " 'conversation_is_registered',\n",
       " 'interval_mode',\n",
       " 'interval',\n",
       " 'messages_till_endpoint',\n",
       " 'first_contact',\n",
       " 'last_contact',\n",
       " 'smart_mode')"
      ]
     },
     "execution_count": 26,
     "metadata": {},
     "output_type": "execute_result"
    }
   ],
   "source": [
    "list2"
   ]
  },
  {
   "cell_type": "code",
   "execution_count": null,
   "metadata": {},
   "outputs": [],
   "source": []
  }
 ],
 "metadata": {
  "kernelspec": {
   "display_name": "Python 3",
   "language": "python",
   "name": "python3"
  },
  "language_info": {
   "codemirror_mode": {
    "name": "ipython",
    "version": 3
   },
   "file_extension": ".py",
   "mimetype": "text/x-python",
   "name": "python",
   "nbconvert_exporter": "python",
   "pygments_lexer": "ipython3",
   "version": "3.7.4"
  }
 },
 "nbformat": 4,
 "nbformat_minor": 4
}
