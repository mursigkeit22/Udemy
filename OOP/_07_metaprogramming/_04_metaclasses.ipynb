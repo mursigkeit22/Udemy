{
 "cells": [
  {
   "cell_type": "code",
   "execution_count": 2,
   "metadata": {},
   "outputs": [],
   "source": [
    "import math"
   ]
  },
  {
   "cell_type": "code",
   "execution_count": 3,
   "metadata": {},
   "outputs": [],
   "source": [
    "class Person:\n",
    "    def __init__(self, name):\n",
    "        self.name = name\n",
    "        \n",
    "class Student(Person):\n",
    "    def __init__(self, name, major):\n",
    "        super().__init__(name)\n",
    "        self._major = major\n",
    "    \n",
    "    @property\n",
    "    def major(self):\n",
    "        return self._major\n",
    "    "
   ]
  },
  {
   "cell_type": "markdown",
   "metadata": {},
   "source": [
    "why did python call the type class to create the Student or Person class? this is the concept of metaclass. python uses type class by default"
   ]
  },
  {
   "cell_type": "code",
   "execution_count": 4,
   "metadata": {},
   "outputs": [],
   "source": [
    "class Circle(metaclass=type): #default metaclass\n",
    "    def __init__(self, x, y, r):\n",
    "        self.x = x\n",
    "        self.y = y\n",
    "        self.r = r\n",
    "    \n",
    "    def area(self):\n",
    "        return math.pi * self.r ** 2"
   ]
  },
  {
   "cell_type": "code",
   "execution_count": 5,
   "metadata": {},
   "outputs": [
    {
     "data": {
      "text/plain": [
       "(type, 'Circle')"
      ]
     },
     "execution_count": 5,
     "metadata": {},
     "output_type": "execute_result"
    }
   ],
   "source": [
    "type(Circle), Circle.__name__"
   ]
  },
  {
   "cell_type": "markdown",
   "metadata": {},
   "source": [
    "let's create metaclass"
   ]
  },
  {
   "cell_type": "code",
   "execution_count": 6,
   "metadata": {},
   "outputs": [],
   "source": [
    "class CustomType(type):\n",
    "    def __new__(mcls, name, bases, class_dict):\n",
    "        print(f\"using custom metaclass {mcls} to create class {name}...\")\n",
    "        cls_obj = super().__new__(mcls, name, bases, class_dict)\n",
    "        cls_obj.circ = lambda self: 2 * math.pi * self.r\n",
    "        return cls_obj"
   ]
  },
  {
   "cell_type": "markdown",
   "metadata": {},
   "source": [
    "when python compiles this code, it calles the `__new__` method of CustomType"
   ]
  },
  {
   "cell_type": "code",
   "execution_count": 7,
   "metadata": {},
   "outputs": [
    {
     "name": "stdout",
     "output_type": "stream",
     "text": [
      "using custom metaclass <class '__main__.CustomType'> to create class Circle...\n"
     ]
    }
   ],
   "source": [
    "class Circle(metaclass=CustomType): \n",
    "    def __init__(self, x, y, r):\n",
    "        self.x = x\n",
    "        self.y = y\n",
    "        self.r = r\n",
    "    \n",
    "    def area(self):\n",
    "        return math.pi * self.r ** 2"
   ]
  },
  {
   "cell_type": "code",
   "execution_count": null,
   "metadata": {},
   "outputs": [],
   "source": []
  },
  {
   "cell_type": "code",
   "execution_count": null,
   "metadata": {},
   "outputs": [],
   "source": []
  },
  {
   "cell_type": "code",
   "execution_count": null,
   "metadata": {},
   "outputs": [],
   "source": []
  },
  {
   "cell_type": "code",
   "execution_count": null,
   "metadata": {},
   "outputs": [],
   "source": []
  },
  {
   "cell_type": "code",
   "execution_count": null,
   "metadata": {},
   "outputs": [],
   "source": []
  },
  {
   "cell_type": "code",
   "execution_count": null,
   "metadata": {},
   "outputs": [],
   "source": []
  }
 ],
 "metadata": {
  "kernelspec": {
   "display_name": "Python 3",
   "language": "python",
   "name": "python3"
  },
  "language_info": {
   "codemirror_mode": {
    "name": "ipython",
    "version": 3
   },
   "file_extension": ".py",
   "mimetype": "text/x-python",
   "name": "python",
   "nbconvert_exporter": "python",
   "pygments_lexer": "ipython3",
   "version": "3.7.4"
  }
 },
 "nbformat": 4,
 "nbformat_minor": 4
}
