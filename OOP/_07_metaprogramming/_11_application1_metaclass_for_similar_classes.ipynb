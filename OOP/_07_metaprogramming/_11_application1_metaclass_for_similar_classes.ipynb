{
 "cells": [
  {
   "cell_type": "code",
   "execution_count": 1,
   "metadata": {},
   "outputs": [],
   "source": [
    "class Point2D:\n",
    "    __slots__ = ('_x', \"_y\")\n",
    "    \n",
    "    def __init__(self, x, y):\n",
    "        self._x = x\n",
    "        self._y = y\n",
    "        \n",
    "    @property\n",
    "    def x(self):\n",
    "        return self._x\n",
    "    @property\n",
    "    def y(self):\n",
    "        return self._y\n",
    "    \n",
    "    def __eq__(self, other):\n",
    "        return isinstance(other, Point) and (self.x, self.y) == (other.x, other.y)\n",
    "    \n",
    "    def __hash__(self):\n",
    "        return hash((self.x, self.y))\n",
    "    \n",
    "    def __repr__(self):\n",
    "        return f\"Point2D({self.x}, {self.y})\"\n",
    "    \n",
    "    def __str__(self):\n",
    "        return f\"({self.x}, {self.y})\""
   ]
  },
  {
   "cell_type": "code",
   "execution_count": 2,
   "metadata": {},
   "outputs": [],
   "source": [
    "class Point3D:\n",
    "    __slots__ = ('_x', \"_y\", \"_z\")\n",
    "    \n",
    "    def __init__(self, x, y, z):\n",
    "        self._x = x\n",
    "        self._y = y\n",
    "        self._z = z\n",
    "        \n",
    "    @property\n",
    "    def x(self):\n",
    "        return self._x\n",
    "    @property\n",
    "    def y(self):\n",
    "        return self._y\n",
    "    @property\n",
    "    def z(self):\n",
    "        return self._z\n",
    "    \n",
    "    def __eq__(self, other):\n",
    "        return isinstance(other, Point) and (self.x, self.y, self.z) == (other.x, other.y, other.z)\n",
    "    \n",
    "    def __hash__(self):\n",
    "        return hash((self.x, self.y, self.z))\n",
    "    \n",
    "    def __repr__(self):\n",
    "        return f\"Point2D({self.x}, {self.y}, {self.z})\"\n",
    "    \n",
    "    def __str__(self):\n",
    "        return f\"({self.x}, {self.y}, {self.z})\""
   ]
  },
  {
   "cell_type": "markdown",
   "metadata": {},
   "source": [
    "Point2D and Point3D have basically the same code. Let's use metaclass to write reusable code for such cases"
   ]
  },
  {
   "cell_type": "markdown",
   "metadata": {},
   "source": [
    "We will use metaclasses instead of decorators cause we care about inheritance"
   ]
  },
  {
   "cell_type": "markdown",
   "metadata": {},
   "source": [
    "we will use a field attribute to define the fields that are gonna be in the class"
   ]
  },
  {
   "cell_type": "code",
   "execution_count": 3,
   "metadata": {},
   "outputs": [],
   "source": [
    "class Point2D:\n",
    "    _fields = [\"x\", \"y\"]\n",
    "    \n",
    "    def __init__(self, x, y):\n",
    "        self._x = x\n",
    "        self._y = y\n",
    "        \n",
    "class Point3D:\n",
    "    _fields = [\"x\", \"y\", \"z\"]\n",
    "    \n",
    "    def __init__(self, x, y, z):\n",
    "        self._x = x\n",
    "        self._y = y\n",
    "        self._z = z"
   ]
  },
  {
   "cell_type": "markdown",
   "metadata": {},
   "source": [
    "let's create a metaclass, that will create properties and slots and implement eq, hash, repr and str"
   ]
  },
  {
   "cell_type": "code",
   "execution_count": 26,
   "metadata": {},
   "outputs": [],
   "source": [
    "class SlottedStruct(type):\n",
    "    def __new__(mcls, name, bases, class_dict):\n",
    "        cls_object = super().__new__(mcls, name, bases, class_dict)\n",
    "        \n",
    "        #__slots__\n",
    "        setattr(cls_object, \"__slots__\", [f\"_{field}\" for field in cls_object._fields])\n",
    "        \n",
    "        #read-only property for each field\n",
    "        for field in cls_object._fields:\n",
    "            slot = f\"_{field}\"\n",
    "            setattr(cls_object, field, property(fget=lambda self, attrib=slot: getattr(self, slot)))\n",
    "           \n",
    "            # this won't work\n",
    "            # setattr(cls_object, field, property(fget=lambda self: getattr(self, slot))\n",
    "        \n",
    "        return cls_object"
   ]
  },
  {
   "cell_type": "code",
   "execution_count": 27,
   "metadata": {},
   "outputs": [],
   "source": [
    "class Person(metaclass=SlottedStruct):\n",
    "    _fields= ['name', 'age']\n",
    "    \n",
    "    def __init__(self, name, age):\n",
    "        self._name = name\n",
    "        self._age = age\n",
    "    "
   ]
  },
  {
   "cell_type": "code",
   "execution_count": 28,
   "metadata": {},
   "outputs": [
    {
     "data": {
      "text/plain": [
       "mappingproxy({'__module__': '__main__',\n",
       "              '_fields': ['name', 'age'],\n",
       "              '__init__': <function __main__.Person.__init__(self, name, age)>,\n",
       "              '__dict__': <attribute '__dict__' of 'Person' objects>,\n",
       "              '__weakref__': <attribute '__weakref__' of 'Person' objects>,\n",
       "              '__doc__': None,\n",
       "              '__slots__': ['_name', '_age'],\n",
       "              'name': <property at 0x15e9ace9bd8>,\n",
       "              'age': <property at 0x15e9ace99a8>})"
      ]
     },
     "execution_count": 28,
     "metadata": {},
     "output_type": "execute_result"
    }
   ],
   "source": [
    "vars(Person)"
   ]
  },
  {
   "cell_type": "code",
   "execution_count": 29,
   "metadata": {},
   "outputs": [],
   "source": [
    "p = Person(\"Alex\", 19)"
   ]
  },
  {
   "cell_type": "code",
   "execution_count": 30,
   "metadata": {},
   "outputs": [
    {
     "data": {
      "text/plain": [
       "(19, 19)"
      ]
     },
     "execution_count": 30,
     "metadata": {},
     "output_type": "execute_result"
    }
   ],
   "source": [
    "p.name, p.age"
   ]
  },
  {
   "cell_type": "code",
   "execution_count": 31,
   "metadata": {},
   "outputs": [
    {
     "ename": "AttributeError",
     "evalue": "can't set attribute",
     "output_type": "error",
     "traceback": [
      "\u001b[1;31m---------------------------------------------------------------------------\u001b[0m",
      "\u001b[1;31mAttributeError\u001b[0m                            Traceback (most recent call last)",
      "\u001b[1;32m<ipython-input-31-9d2ae1b0e508>\u001b[0m in \u001b[0;36m<module>\u001b[1;34m\u001b[0m\n\u001b[1;32m----> 1\u001b[1;33m \u001b[0mp\u001b[0m\u001b[1;33m.\u001b[0m\u001b[0mname\u001b[0m \u001b[1;33m=\u001b[0m \u001b[1;34m\"Alexa\"\u001b[0m\u001b[1;33m\u001b[0m\u001b[1;33m\u001b[0m\u001b[0m\n\u001b[0m",
      "\u001b[1;31mAttributeError\u001b[0m: can't set attribute"
     ]
    }
   ],
   "source": [
    "p.name = \"Alexa\""
   ]
  },
  {
   "cell_type": "markdown",
   "metadata": {},
   "source": [
    "let's add some more"
   ]
  },
  {
   "cell_type": "code",
   "execution_count": 52,
   "metadata": {},
   "outputs": [],
   "source": [
    "class SlottedStruct(type):\n",
    "    def __new__(mcls, name, bases, class_dict):\n",
    "        cls_object = super().__new__(mcls, name, bases, class_dict)\n",
    "        \n",
    "        #__slots__\n",
    "        setattr(cls_object, \"__slots__\", [f\"_{field}\" for field in cls_object._fields])\n",
    "        \n",
    "        #read-only property for each field\n",
    "        for field in cls_object._fields:\n",
    "            slot = f\"_{field}\"\n",
    "            setattr(cls_object, field, property(fget=lambda self, attrib=slot: getattr(self, attrib)))\n",
    "        \n",
    "        #__eq__\n",
    "        def eq(self, other):\n",
    "            if isinstance(other, cls_object):\n",
    "                self_fields = [getattr(self, field) for field in cls_object._fields]\n",
    "                other_fields = [getattr(other, field) for field in cls_object._fields]\n",
    "                return self_fields == other_fields\n",
    "            return False\n",
    "        setattr(cls_object, \"__eq__\", eq)\n",
    "        \n",
    "        #__hash__ we make an assumption that all the field values are hashable\n",
    "        def hash_(self):\n",
    "            field_values = (getattr(self, field) for field in cls_object._fields)\n",
    "            return hash(tuple(field_values))\n",
    "        setattr(cls_object, \"__hash__\", hash_)\n",
    "        \n",
    "        #__str__\n",
    "        def str_(self):\n",
    "            field_values = (getattr(self, field) for field in cls_object._fields) \n",
    "            field_values_joined = ', '.join(map(str, field_values))\n",
    "            return f\"{cls_object.__name__}({field_values_joined})\"\n",
    "        setattr(cls_object, \"__str__\", str_)\n",
    "        \n",
    "        #__repr__\n",
    "#         def repr_(self): # works too\n",
    "#             field_values = (getattr(self, field) for field in cls_object._fields)\n",
    "#             field_key_values = (f'{key}={value}' for key, value in zip(cls_object._fields, field_values))\n",
    "#             field_key_values_str = ', '.join(field_key_values)\n",
    "#             return f\"{cls_object.__name__}({field_key_values_str})\"\n",
    "        def repr_(self):\n",
    "            field_values = (getattr(self, field) for field in self._fields)\n",
    "            field_key_values = (f'{key}={value}' for key, value in zip(cls_object._fields, field_values))\n",
    "            field_key_values_str = ', '.join(field_key_values)\n",
    "            return f\"{self.__class__.__name__}({field_key_values_str})\"\n",
    "        setattr(cls_object, \"__repr__\", repr_)\n",
    "        \n",
    "        return cls_object"
   ]
  },
  {
   "cell_type": "code",
   "execution_count": 53,
   "metadata": {},
   "outputs": [],
   "source": [
    "class Person(metaclass=SlottedStruct):\n",
    "    _fields= ['name', 'age']\n",
    "    \n",
    "    def __init__(self, name, age):\n",
    "        self._name = name\n",
    "        self._age = age\n",
    "    "
   ]
  },
  {
   "cell_type": "code",
   "execution_count": 54,
   "metadata": {},
   "outputs": [
    {
     "data": {
      "text/plain": [
       "__main__.SlottedStruct"
      ]
     },
     "execution_count": 54,
     "metadata": {},
     "output_type": "execute_result"
    }
   ],
   "source": [
    "type(Person)"
   ]
  },
  {
   "cell_type": "code",
   "execution_count": 55,
   "metadata": {},
   "outputs": [],
   "source": [
    "p1 = Person(\"Alex\", 19)\n",
    "p2 = Person(\"Alex\", 19)\n",
    "p3 = Person(\"Oleg\", 28)"
   ]
  },
  {
   "cell_type": "code",
   "execution_count": 56,
   "metadata": {},
   "outputs": [
    {
     "data": {
      "text/plain": [
       "(True, False)"
      ]
     },
     "execution_count": 56,
     "metadata": {},
     "output_type": "execute_result"
    }
   ],
   "source": [
    "p1 == p2, p1 == p3"
   ]
  },
  {
   "cell_type": "code",
   "execution_count": 57,
   "metadata": {},
   "outputs": [
    {
     "data": {
      "text/plain": [
       "(7806736872228484413, 7806736872228484413, -163906605747773004)"
      ]
     },
     "execution_count": 57,
     "metadata": {},
     "output_type": "execute_result"
    }
   ],
   "source": [
    "hash(p1), hash(p2), hash(p3),"
   ]
  },
  {
   "cell_type": "code",
   "execution_count": 59,
   "metadata": {},
   "outputs": [
    {
     "data": {
      "text/plain": [
       "('Person(Alex, 19)', 'Person(Alex, 19)', 'Person(Oleg, 28)')"
      ]
     },
     "execution_count": 59,
     "metadata": {},
     "output_type": "execute_result"
    }
   ],
   "source": [
    "str(p1), str(p2), str(p3),"
   ]
  },
  {
   "cell_type": "code",
   "execution_count": 60,
   "metadata": {},
   "outputs": [
    {
     "data": {
      "text/plain": [
       "('Person(name=Alex, age=19)',\n",
       " 'Person(name=Alex, age=19)',\n",
       " 'Person(name=Oleg, age=28)')"
      ]
     },
     "execution_count": 60,
     "metadata": {},
     "output_type": "execute_result"
    }
   ],
   "source": [
    "repr(p1), repr(p2), repr(p3),"
   ]
  },
  {
   "cell_type": "markdown",
   "metadata": {},
   "source": [
    "now we can make our Point classes"
   ]
  },
  {
   "cell_type": "code",
   "execution_count": 63,
   "metadata": {},
   "outputs": [],
   "source": [
    "class Point2D(metaclass=SlottedStruct):\n",
    "    _fields = (\"x\", \"y\")\n",
    "    \n",
    "    def __init__(self, x, y):\n",
    "        self._x = x\n",
    "        self._y = y\n",
    "        \n",
    "class Point3D(metaclass=SlottedStruct):\n",
    "    _fields = ('x', \"y\", \"z\")\n",
    "    \n",
    "    def __init__(self, x, y, z):\n",
    "        self._x = x\n",
    "        self._y = y\n",
    "        self._z = z"
   ]
  },
  {
   "cell_type": "code",
   "execution_count": 65,
   "metadata": {},
   "outputs": [],
   "source": [
    "p1 = Point2D(1, 2)\n",
    "p2 = Point2D(1, 2)\n",
    "p3 = Point2D(0, 0)"
   ]
  },
  {
   "cell_type": "code",
   "execution_count": 66,
   "metadata": {},
   "outputs": [
    {
     "data": {
      "text/plain": [
       "True"
      ]
     },
     "execution_count": 66,
     "metadata": {},
     "output_type": "execute_result"
    }
   ],
   "source": [
    "p1 == p2"
   ]
  },
  {
   "cell_type": "markdown",
   "metadata": {},
   "source": [
    "let's create a special class decorator so we won't have to write metaclass=SlottedStruct every time"
   ]
  },
  {
   "cell_type": "markdown",
   "metadata": {},
   "source": [
    "class have properties `__name__`, `__dict__`, `__bases__`,"
   ]
  },
  {
   "cell_type": "code",
   "execution_count": 68,
   "metadata": {},
   "outputs": [
    {
     "data": {
      "text/plain": [
       "(mappingproxy({'__module__': '__main__',\n",
       "               '_fields': ('x', 'y'),\n",
       "               '__init__': <function __main__.Point2D.__init__(self, x, y)>,\n",
       "               '__dict__': <attribute '__dict__' of 'Point2D' objects>,\n",
       "               '__weakref__': <attribute '__weakref__' of 'Point2D' objects>,\n",
       "               '__doc__': None,\n",
       "               '__slots__': ['_x', '_y'],\n",
       "               'x': <property at 0x15e9acf79a8>,\n",
       "               'y': <property at 0x15e9acf7d68>,\n",
       "               '__eq__': <function __main__.SlottedStruct.__new__.<locals>.eq(self, other)>,\n",
       "               '__hash__': <function __main__.SlottedStruct.__new__.<locals>.hash_(self)>,\n",
       "               '__str__': <function __main__.SlottedStruct.__new__.<locals>.str_(self)>,\n",
       "               '__repr__': <function __main__.SlottedStruct.__new__.<locals>.repr_(self)>}),)"
      ]
     },
     "execution_count": 68,
     "metadata": {},
     "output_type": "execute_result"
    }
   ],
   "source": [
    "Point2D.__dict__, "
   ]
  },
  {
   "cell_type": "code",
   "execution_count": 69,
   "metadata": {},
   "outputs": [
    {
     "data": {
      "text/plain": [
       "('Point2D', (object,))"
      ]
     },
     "execution_count": 69,
     "metadata": {},
     "output_type": "execute_result"
    }
   ],
   "source": [
    "Point2D.__name__,  Point2D.__bases__, "
   ]
  },
  {
   "cell_type": "code",
   "execution_count": 73,
   "metadata": {},
   "outputs": [],
   "source": [
    "def struct(cls):\n",
    "    return SlottedStruct(cls.__name__, cls.__bases__, dict(cls.__dict__))"
   ]
  },
  {
   "cell_type": "code",
   "execution_count": 74,
   "metadata": {},
   "outputs": [],
   "source": [
    "@struct\n",
    "class Point2D:\n",
    "    _fields = (\"x\", \"y\")\n",
    "    \n",
    "    def __init__(self, x, y):\n",
    "        self._x = x\n",
    "        self._y = y\n",
    "@struct        \n",
    "class Point3D:\n",
    "    _fields = ('x', \"y\", \"z\")\n",
    "    \n",
    "    def __init__(self, x, y, z):\n",
    "        self._x = x\n",
    "        self._y = y\n",
    "        self._z = z"
   ]
  },
  {
   "cell_type": "code",
   "execution_count": 75,
   "metadata": {},
   "outputs": [],
   "source": [
    "p1 = Point2D(1, 2)\n",
    "p2 = Point2D(1, 2)\n",
    "p3 = Point2D(0, 0)"
   ]
  },
  {
   "cell_type": "code",
   "execution_count": 76,
   "metadata": {},
   "outputs": [
    {
     "data": {
      "text/plain": [
       "__main__.SlottedStruct"
      ]
     },
     "execution_count": 76,
     "metadata": {},
     "output_type": "execute_result"
    }
   ],
   "source": [
    "type(Point2D)"
   ]
  },
  {
   "cell_type": "code",
   "execution_count": 78,
   "metadata": {},
   "outputs": [
    {
     "data": {
      "text/plain": [
       "('Point2D(1, 2)', 'Point2D(x=1, y=2)')"
      ]
     },
     "execution_count": 78,
     "metadata": {},
     "output_type": "execute_result"
    }
   ],
   "source": [
    "str(p1), repr(p1)"
   ]
  },
  {
   "cell_type": "markdown",
   "metadata": {},
   "source": [
    "in python 3.7 we have data classes and don't need to do all this stuff with metaclasses"
   ]
  },
  {
   "cell_type": "code",
   "execution_count": null,
   "metadata": {},
   "outputs": [],
   "source": []
  },
  {
   "cell_type": "code",
   "execution_count": null,
   "metadata": {},
   "outputs": [],
   "source": []
  },
  {
   "cell_type": "markdown",
   "metadata": {},
   "source": [
    "### why"
   ]
  },
  {
   "cell_type": "markdown",
   "metadata": {},
   "source": [
    "#### this won't work\n",
    "\n",
    "            setattr(cls_object, field, property(fget=lambda self: getattr(self, slot))"
   ]
  },
  {
   "cell_type": "code",
   "execution_count": 15,
   "metadata": {},
   "outputs": [],
   "source": [
    "class Obj:\n",
    "    _fields = [\"a\", \"b\", \"c\"]\n",
    "    def __init__(self, a, b, c):\n",
    "        self._a = a\n",
    "        self._b = b\n",
    "        self._c = c"
   ]
  },
  {
   "cell_type": "code",
   "execution_count": 16,
   "metadata": {},
   "outputs": [],
   "source": [
    "for field in Obj._fields:\n",
    "    slot = f\"_{field}\"\n",
    "    setattr(Obj, field, property(fget=lambda self: getattr(self, slot)))"
   ]
  },
  {
   "cell_type": "code",
   "execution_count": 17,
   "metadata": {},
   "outputs": [],
   "source": [
    "obj = Obj(1, 2, 3)"
   ]
  },
  {
   "cell_type": "code",
   "execution_count": 18,
   "metadata": {},
   "outputs": [
    {
     "data": {
      "text/plain": [
       "3"
      ]
     },
     "execution_count": 18,
     "metadata": {},
     "output_type": "execute_result"
    }
   ],
   "source": [
    "obj.a"
   ]
  },
  {
   "cell_type": "code",
   "execution_count": 19,
   "metadata": {},
   "outputs": [
    {
     "data": {
      "text/plain": [
       "3"
      ]
     },
     "execution_count": 19,
     "metadata": {},
     "output_type": "execute_result"
    }
   ],
   "source": [
    "obj.b"
   ]
  },
  {
   "cell_type": "code",
   "execution_count": 20,
   "metadata": {},
   "outputs": [
    {
     "data": {
      "text/plain": [
       "3"
      ]
     },
     "execution_count": 20,
     "metadata": {},
     "output_type": "execute_result"
    }
   ],
   "source": [
    "obj.c"
   ]
  },
  {
   "cell_type": "code",
   "execution_count": 21,
   "metadata": {},
   "outputs": [
    {
     "data": {
      "text/plain": [
       "mappingproxy({'__module__': '__main__',\n",
       "              '_fields': ['a', 'b', 'c'],\n",
       "              '__init__': <function __main__.Obj.__init__(self, a, b, c)>,\n",
       "              '__dict__': <attribute '__dict__' of 'Obj' objects>,\n",
       "              '__weakref__': <attribute '__weakref__' of 'Obj' objects>,\n",
       "              '__doc__': None,\n",
       "              'a': <property at 0x15e9acdbe08>,\n",
       "              'b': <property at 0x15e9ace7098>,\n",
       "              'c': <property at 0x15e9ace70e8>})"
      ]
     },
     "execution_count": 21,
     "metadata": {},
     "output_type": "execute_result"
    }
   ],
   "source": [
    "Obj.__dict__"
   ]
  },
  {
   "cell_type": "code",
   "execution_count": 22,
   "metadata": {},
   "outputs": [
    {
     "data": {
      "text/plain": [
       "{'_a': 1, '_b': 2, '_c': 3}"
      ]
     },
     "execution_count": 22,
     "metadata": {},
     "output_type": "execute_result"
    }
   ],
   "source": [
    "vars(obj)"
   ]
  },
  {
   "cell_type": "markdown",
   "metadata": {},
   "source": [
    "what's happening:"
   ]
  },
  {
   "cell_type": "markdown",
   "metadata": {},
   "source": [
    "property(fget=lambda self: getattr(self, slot)) is closure"
   ]
  },
  {
   "cell_type": "markdown",
   "metadata": {},
   "source": [
    "it's using `slot` that coming outside its scope inside function `__new__`"
   ]
  },
  {
   "cell_type": "markdown",
   "metadata": {},
   "source": [
    "what's happening with value for slot inside lambda:"
   ]
  },
  {
   "cell_type": "markdown",
   "metadata": {},
   "source": [
    "slot from getattr(self, slot) is pointing to slot = f\"_{field}\", but we are in a loop. So every lambda is pointing to the same slot, the last one in a loop"
   ]
  },
  {
   "cell_type": "code",
   "execution_count": null,
   "metadata": {},
   "outputs": [],
   "source": []
  }
 ],
 "metadata": {
  "kernelspec": {
   "display_name": "Python 3",
   "language": "python",
   "name": "python3"
  },
  "language_info": {
   "codemirror_mode": {
    "name": "ipython",
    "version": 3
   },
   "file_extension": ".py",
   "mimetype": "text/x-python",
   "name": "python",
   "nbconvert_exporter": "python",
   "pygments_lexer": "ipython3",
   "version": "3.7.4"
  }
 },
 "nbformat": 4,
 "nbformat_minor": 4
}
