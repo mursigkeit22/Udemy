{
 "cells": [
  {
   "cell_type": "code",
   "execution_count": 10,
   "metadata": {
    "scrolled": true
   },
   "outputs": [],
   "source": [
    "from configparser import ConfigParser\n",
    "import psycopg2"
   ]
  },
  {
   "cell_type": "code",
   "execution_count": 11,
   "metadata": {},
   "outputs": [],
   "source": [
    "def config(filename='database.ini', section='postgresql'):\n",
    "    # create a parser\n",
    "    parser = ConfigParser()\n",
    "    # read config file\n",
    "    parser.read(filename)\n",
    "\n",
    "    # get section, default to postgresql\n",
    "    db = {}\n",
    "    if parser.has_section(section):\n",
    "        params = parser.items(section)\n",
    "        for param in params:\n",
    "            db[param[0]] = param[1]\n",
    "    else:\n",
    "        raise Exception('Section {0} not found in the {1} file'.format(section, filename))\n",
    "\n",
    "    return db"
   ]
  },
  {
   "cell_type": "code",
   "execution_count": 34,
   "metadata": {},
   "outputs": [],
   "source": [
    "def connect():\n",
    "    \"\"\" Connect to the PostgreSQL database server \"\"\"\n",
    "    conn = None\n",
    "    try:\n",
    "        # read connection parameters\n",
    "        params = config()\n",
    "\n",
    "        # connect to the PostgreSQL server\n",
    "        print('Connecting to the PostgreSQL database...')\n",
    "        conn = psycopg2.connect(**params)\n",
    "\t\t\n",
    "        # create a cursor\n",
    "        global cur\n",
    "        cur = conn.cursor()\n",
    "        \n",
    "\t# execute a statement\n",
    "        get_table_list(cur)\n",
    "#         print('PostgreSQL database version:')\n",
    "#         cur.execute('SELECT version()')\n",
    "\n",
    "#         # display the PostgreSQL database server version\n",
    "#         db_version = cur.fetchone()\n",
    "#         print(db_version)\n",
    "       \n",
    "\t# close the communication with the PostgreSQL\n",
    "        cur.close()\n",
    "    except (Exception, psycopg2.DatabaseError) as error:\n",
    "        print(error)\n",
    "    finally:\n",
    "        if conn is not None:\n",
    "            conn.close()\n",
    "            print('Database connection closed.')\n"
   ]
  },
  {
   "cell_type": "code",
   "execution_count": 24,
   "metadata": {},
   "outputs": [
    {
     "name": "stdout",
     "output_type": "stream",
     "text": [
      "Connecting to the PostgreSQL database...\n",
      "can only concatenate tuple (not \"str\") to tuple\n",
      "Database connection closed.\n"
     ]
    }
   ],
   "source": [
    "connect()"
   ]
  },
  {
   "cell_type": "code",
   "execution_count": null,
   "metadata": {},
   "outputs": [],
   "source": []
  },
  {
   "cell_type": "code",
   "execution_count": null,
   "metadata": {},
   "outputs": [],
   "source": []
  },
  {
   "cell_type": "code",
   "execution_count": null,
   "metadata": {},
   "outputs": [],
   "source": []
  },
  {
   "cell_type": "code",
   "execution_count": null,
   "metadata": {},
   "outputs": [],
   "source": []
  },
  {
   "cell_type": "code",
   "execution_count": null,
   "metadata": {},
   "outputs": [],
   "source": []
  },
  {
   "cell_type": "code",
   "execution_count": null,
   "metadata": {},
   "outputs": [],
   "source": []
  },
  {
   "cell_type": "code",
   "execution_count": 51,
   "metadata": {},
   "outputs": [],
   "source": [
    "def get_table_list(t_schema=\"public\"):\n",
    "    # Retrieve the table list\n",
    "    s = \"\"\n",
    "    s += \"SELECT\"\n",
    "    s += \" table_schema\"\n",
    "    s += \", table_name\"\n",
    "    s += \" FROM information_schema.tables\"\n",
    "    s += \" WHERE\"\n",
    "    s += \" (\"\n",
    "    s += \" table_schema = '\" + t_schema + \"'\"\n",
    "    s += \" )\"\n",
    "    s += \" ORDER BY table_schema, table_name;\"\n",
    "\n",
    "    # Retrieve all the rows from the cursor\n",
    "    cur.execute(s)\n",
    "    list_tables = cur.fetchall()\n",
    "\n",
    "    # Print the names of the tables\n",
    "    for t_name_table in list_tables:\n",
    "        print(t_name_table[1])\n"
   ]
  },
  {
   "cell_type": "code",
   "execution_count": 52,
   "metadata": {},
   "outputs": [],
   "source": [
    "def connect():\n",
    "    \"\"\" Connect to the PostgreSQL database server \"\"\"\n",
    "    conn = None\n",
    "    # read connection parameters\n",
    "    params = config()\n",
    "\n",
    "    # connect to the PostgreSQL server\n",
    "    print('Connecting to the PostgreSQL database...')\n",
    "    conn = psycopg2.connect(**params)\n",
    "\n",
    "    # create a cursor\n",
    "    global cur\n",
    "    cur = conn.cursor()\n",
    "\n",
    "\n",
    "# execute a statement\n",
    "    get_table_list()\n",
    "\n",
    "# close the communication with the PostgreSQL\n",
    "    cur.close()\n",
    "    \n",
    "    if conn is not None:\n",
    "        conn.close()\n"
   ]
  },
  {
   "cell_type": "code",
   "execution_count": 54,
   "metadata": {},
   "outputs": [
    {
     "name": "stdout",
     "output_type": "stream",
     "text": [
      "Connecting to the PostgreSQL database...\n",
      "auth_group\n",
      "auth_group_permissions\n",
      "auth_permission\n",
      "auth_user\n",
      "auth_user_groups\n",
      "auth_user_user_permissions\n",
      "botsite_userprofile\n",
      "django_admin_log\n",
      "django_content_type\n",
      "django_migrations\n",
      "django_session\n",
      "vk_chat\n",
      "vk_chatmessage\n",
      "vk_intervalphrase\n",
      "vk_kicknonmemberssetting\n",
      "vk_newpostsetting\n",
      "vk_randompostsetting\n",
      "vk_smartreply\n",
      "vk_usermessage\n"
     ]
    }
   ],
   "source": [
    "connect()"
   ]
  },
  {
   "cell_type": "code",
   "execution_count": null,
   "metadata": {},
   "outputs": [],
   "source": []
  }
 ],
 "metadata": {
  "kernelspec": {
   "display_name": "Python 3",
   "language": "python",
   "name": "python3"
  },
  "language_info": {
   "codemirror_mode": {
    "name": "ipython",
    "version": 3
   },
   "file_extension": ".py",
   "mimetype": "text/x-python",
   "name": "python",
   "nbconvert_exporter": "python",
   "pygments_lexer": "ipython3",
   "version": "3.7.4"
  }
 },
 "nbformat": 4,
 "nbformat_minor": 4
}
