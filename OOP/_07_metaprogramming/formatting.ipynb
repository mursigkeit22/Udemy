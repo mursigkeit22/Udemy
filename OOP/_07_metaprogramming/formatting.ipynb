{
 "cells": [
  {
   "cell_type": "code",
   "execution_count": 16,
   "metadata": {},
   "outputs": [],
   "source": [
    "import inspect"
   ]
  },
  {
   "cell_type": "code",
   "execution_count": 19,
   "metadata": {},
   "outputs": [],
   "source": [
    "class MyClass:\n",
    "    @staticmethod\n",
    "    def static_method():\n",
    "        pass\n",
    "    \n",
    "    @classmethod\n",
    "    def cls_method(cls):\n",
    "        pass\n",
    "    \n",
    "    def inst_method(self):\n",
    "        pass\n",
    "    \n",
    "    @property\n",
    "    def name(self):\n",
    "        pass\n",
    "    \n",
    "    def __add__(self, other):\n",
    "        pass\n",
    "    \n",
    "    class Other:\n",
    "        def __call__(self):\n",
    "            pass\n",
    "        \n",
    "    other = Other()\n",
    "    "
   ]
  },
  {
   "cell_type": "code",
   "execution_count": 20,
   "metadata": {},
   "outputs": [],
   "source": [
    "keys = ('static_method', 'cls_method', 'inst_method', 'name', '__add__', 'Other', 'other')\n",
    "inspect_funcs = ('isroutine', 'ismethod', 'isfunction', 'isbuiltin', 'ismethoddescriptor')"
   ]
  },
  {
   "cell_type": "code",
   "execution_count": 21,
   "metadata": {},
   "outputs": [
    {
     "data": {
      "text/plain": [
       "13"
      ]
     },
     "execution_count": 21,
     "metadata": {},
     "output_type": "execute_result"
    }
   ],
   "source": [
    "max_header_length = max(len(key) for key in keys)\n",
    "max_header_length #'static_method'"
   ]
  },
  {
   "cell_type": "code",
   "execution_count": 22,
   "metadata": {},
   "outputs": [
    {
     "data": {
      "text/plain": [
       "18"
      ]
     },
     "execution_count": 22,
     "metadata": {},
     "output_type": "execute_result"
    }
   ],
   "source": [
    "max_fname_length = max(len(func) for func in inspect_funcs)\n",
    "max_fname_length #'ismethoddescriptor'"
   ]
  },
  {
   "cell_type": "code",
   "execution_count": 23,
   "metadata": {},
   "outputs": [
    {
     "name": "stdout",
     "output_type": "stream",
     "text": [
      "                   static_method\tcls_method   \tinst_method  \tname         \t__add__      \tOther        \tother        \n"
     ]
    }
   ],
   "source": [
    "print(format('', f'{max_fname_length}s'), '\\t'.join(format(key, f'{max_header_length}s') for key in keys))"
   ]
  },
  {
   "cell_type": "code",
   "execution_count": 24,
   "metadata": {},
   "outputs": [
    {
     "name": "stdout",
     "output_type": "stream",
     "text": [
      "                   hop\n"
     ]
    }
   ],
   "source": [
    "print(format('', f'{max_fname_length}s'), \"hop\")"
   ]
  },
  {
   "cell_type": "code",
   "execution_count": 25,
   "metadata": {},
   "outputs": [
    {
     "name": "stdout",
     "output_type": "stream",
     "text": [
      "static_method\tcls_method   \tinst_method  \tname         \t__add__      \tOther        \tother        \n"
     ]
    }
   ],
   "source": [
    "print( '\\t'.join(format(key, f'{max_header_length}s') for key in keys))"
   ]
  },
  {
   "cell_type": "code",
   "execution_count": null,
   "metadata": {},
   "outputs": [],
   "source": []
  },
  {
   "cell_type": "code",
   "execution_count": 26,
   "metadata": {},
   "outputs": [
    {
     "name": "stdout",
     "output_type": "stream",
     "text": [
      "isroutine          True         \tTrue         \tTrue         \tFalse        \tTrue         \tFalse        \tFalse        \n",
      "ismethod           False        \tFalse        \tFalse        \tFalse        \tFalse        \tFalse        \tFalse        \n",
      "isfunction         False        \tFalse        \tTrue         \tFalse        \tTrue         \tFalse        \tFalse        \n",
      "isbuiltin          False        \tFalse        \tFalse        \tFalse        \tFalse        \tFalse        \tFalse        \n",
      "ismethoddescriptor True         \tTrue         \tFalse        \tFalse        \tFalse        \tFalse        \tFalse        \n"
     ]
    }
   ],
   "source": [
    "for inspect_func in inspect_funcs:\n",
    "    fn = getattr(inspect, inspect_func)\n",
    "    inspect_results = (format(str(fn(MyClass.__dict__[key])), f'{max_header_length}s') for key in keys)\n",
    "    print(format(inspect_func, f'{max_fname_length}s'), '\\t'.join(inspect_results))"
   ]
  },
  {
   "cell_type": "code",
   "execution_count": null,
   "metadata": {},
   "outputs": [],
   "source": []
  }
 ],
 "metadata": {
  "kernelspec": {
   "display_name": "Python 3",
   "language": "python",
   "name": "python3"
  },
  "language_info": {
   "codemirror_mode": {
    "name": "ipython",
    "version": 3
   },
   "file_extension": ".py",
   "mimetype": "text/x-python",
   "name": "python",
   "nbconvert_exporter": "python",
   "pygments_lexer": "ipython3",
   "version": "3.7.4"
  }
 },
 "nbformat": 4,
 "nbformat_minor": 4
}
