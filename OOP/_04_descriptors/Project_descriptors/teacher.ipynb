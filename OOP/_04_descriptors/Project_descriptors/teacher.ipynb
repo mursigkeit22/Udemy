{
 "cells": [
  {
   "cell_type": "code",
   "execution_count": 3,
   "metadata": {},
   "outputs": [],
   "source": [
    "import numbers\n",
    "import unittest"
   ]
  },
  {
   "cell_type": "code",
   "execution_count": 10,
   "metadata": {},
   "outputs": [],
   "source": [
    "class IntegerField:\n",
    "    def __init__(self, min_, max_):\n",
    "        self._min = min_ \n",
    "        self._max = max_\n",
    "    \n",
    "    def __set_name__(self, owner_class, prop_name):\n",
    "        self.prop_name = prop_name\n",
    "        \n",
    "    def __set__(self, instance, value):\n",
    "        if not isinstance(value, numbers.Integral):\n",
    "            raise ValueError(f\"{self.prop_name} must be an integer value.\")\n",
    "        if value < self._min:\n",
    "             raise ValueError(f\"{self.prop_name} must be >= {self._min}.\")\n",
    "        if value > self._max:\n",
    "             raise ValueError(f\"{self.prop_name} must be <= {self._max}.\")\n",
    "        instance.__dict__[self.prop_name] = value\n",
    "        \n",
    "    def __get__(self, instance, owner_class):\n",
    "        if instance is None:\n",
    "            return self\n",
    "        else:\n",
    "            return instance.__dict__.get(self.prop_name, None)"
   ]
  },
  {
   "cell_type": "markdown",
   "metadata": {},
   "source": [
    "tests"
   ]
  },
  {
   "cell_type": "code",
   "execution_count": 11,
   "metadata": {},
   "outputs": [],
   "source": [
    "def run_tests(test_class):\n",
    "    suite = unittest.TestLoader().loadTestsFromTestCase(test_class)\n",
    "    runner = unittest.TextTestRunner(verbosity=2)\n",
    "    result = runner.run(suite)\n",
    "    "
   ]
  },
  {
   "cell_type": "code",
   "execution_count": 12,
   "metadata": {},
   "outputs": [],
   "source": [
    "class TestIntegerField(unittest.TestCase):\n",
    "    \n",
    "    class Person:\n",
    "        age = IntegerField(0,10)\n",
    "        \n",
    "    def test_set_age_ok(self):\n",
    "        p = self.Person()\n",
    "        p.age = 0\n",
    "        self.assertEqual(0, p.age)"
   ]
  },
  {
   "cell_type": "code",
   "execution_count": 13,
   "metadata": {},
   "outputs": [
    {
     "name": "stderr",
     "output_type": "stream",
     "text": [
      "test_set_age_ok (__main__.TestIntegerField) ... ok\n",
      "\n",
      "----------------------------------------------------------------------\n",
      "Ran 1 test in 0.002s\n",
      "\n",
      "OK\n"
     ]
    }
   ],
   "source": [
    "run_tests(TestIntegerField)"
   ]
  },
  {
   "cell_type": "markdown",
   "metadata": {},
   "source": [
    "let's try to override the discriptor attribute"
   ]
  },
  {
   "cell_type": "code",
   "execution_count": 16,
   "metadata": {},
   "outputs": [],
   "source": [
    "class TestIntegerField(unittest.TestCase):\n",
    "    \n",
    "    class Person:\n",
    "        age = IntegerField(0,10)\n",
    "        \n",
    "    def test_set_age_ok(self):\n",
    "        \n",
    "        self.Person.age = IntegerField(5, 10)\n",
    "        p = self.Person()\n",
    "        p.age = 5\n",
    "        self.assertEqual(5, p.age)\n",
    "# will get an error - __set_name__ will not get called, \n",
    "#because we have created instance of the descriptor outside Person class "
   ]
  },
  {
   "cell_type": "code",
   "execution_count": 17,
   "metadata": {},
   "outputs": [
    {
     "name": "stderr",
     "output_type": "stream",
     "text": [
      "test_set_age_ok (__main__.TestIntegerField) ... ERROR\n",
      "\n",
      "======================================================================\n",
      "ERROR: test_set_age_ok (__main__.TestIntegerField)\n",
      "----------------------------------------------------------------------\n",
      "Traceback (most recent call last):\n",
      "  File \"<ipython-input-16-533f86fad74b>\", line 10, in test_set_age_ok\n",
      "    p.age = 5\n",
      "  File \"<ipython-input-10-bf622fced744>\", line 16, in __set__\n",
      "    instance.__dict__[self.prop_name] = value\n",
      "AttributeError: 'IntegerField' object has no attribute 'prop_name'\n",
      "\n",
      "----------------------------------------------------------------------\n",
      "Ran 1 test in 0.002s\n",
      "\n",
      "FAILED (errors=1)\n"
     ]
    }
   ],
   "source": [
    "run_tests(TestIntegerField)"
   ]
  },
  {
   "cell_type": "markdown",
   "metadata": {},
   "source": [
    "we can patch to get rid of the error:"
   ]
  },
  {
   "cell_type": "code",
   "execution_count": 20,
   "metadata": {},
   "outputs": [],
   "source": [
    "class TestIntegerField(unittest.TestCase):\n",
    "    \n",
    "    class Person:\n",
    "        age = IntegerField(0,10)\n",
    "        \n",
    "    def test_set_age_ok(self):\n",
    "        \n",
    "        self.Person.age = IntegerField(5, 10)\n",
    "        self.Person.age.__set_name__(self.Person, \"age\")\n",
    "        p = self.Person()\n",
    "        p.age = 5\n",
    "        self.assertEqual(5, p.age)"
   ]
  },
  {
   "cell_type": "code",
   "execution_count": 21,
   "metadata": {},
   "outputs": [
    {
     "name": "stderr",
     "output_type": "stream",
     "text": [
      "test_set_age_ok (__main__.TestIntegerField) ... ok\n",
      "\n",
      "----------------------------------------------------------------------\n",
      "Ran 1 test in 0.002s\n",
      "\n",
      "OK\n"
     ]
    }
   ],
   "source": [
    "run_tests(TestIntegerField)"
   ]
  },
  {
   "cell_type": "markdown",
   "metadata": {},
   "source": [
    "let's break it out"
   ]
  },
  {
   "cell_type": "code",
   "execution_count": 29,
   "metadata": {},
   "outputs": [],
   "source": [
    "class TestIntegerField(unittest.TestCase):\n",
    "    \n",
    "    class Person:\n",
    "        age = IntegerField(0,10)\n",
    "        \n",
    "    def create_person(self, min_, max_):\n",
    "        self.Person.age = IntegerField(min_, max_)\n",
    "        self.Person.age.__set_name__(self.Person, \"age\")\n",
    "        return self.Person()\n",
    "        \n",
    "    def test_set_age_ok(self):\n",
    "              \n",
    "        p = self.create_person(5,10)\n",
    "        p.age = 5\n",
    "        self.assertEqual(5, p.age)"
   ]
  },
  {
   "cell_type": "code",
   "execution_count": 30,
   "metadata": {},
   "outputs": [
    {
     "name": "stderr",
     "output_type": "stream",
     "text": [
      "test_set_age_ok (__main__.TestIntegerField) ... ok\n",
      "\n",
      "----------------------------------------------------------------------\n",
      "Ran 1 test in 0.002s\n",
      "\n",
      "OK\n"
     ]
    }
   ],
   "source": [
    "run_tests(TestIntegerField)"
   ]
  },
  {
   "cell_type": "markdown",
   "metadata": {},
   "source": [
    "#### without patching"
   ]
  },
  {
   "cell_type": "markdown",
   "metadata": {},
   "source": [
    "___________________________"
   ]
  },
  {
   "cell_type": "markdown",
   "metadata": {},
   "source": [
    "we can create classes using functional approach"
   ]
  },
  {
   "cell_type": "code",
   "execution_count": 32,
   "metadata": {},
   "outputs": [
    {
     "data": {
      "text/plain": [
       "type"
      ]
     },
     "execution_count": 32,
     "metadata": {},
     "output_type": "execute_result"
    }
   ],
   "source": [
    "class Person:\n",
    "    a = 10\n",
    "type(Person)"
   ]
  },
  {
   "cell_type": "markdown",
   "metadata": {},
   "source": [
    "type is a class in python, it means that it is callable"
   ]
  },
  {
   "cell_type": "code",
   "execution_count": 33,
   "metadata": {},
   "outputs": [
    {
     "ename": "TypeError",
     "evalue": "type() takes 1 or 3 arguments",
     "output_type": "error",
     "traceback": [
      "\u001b[1;31m---------------------------------------------------------------------------\u001b[0m",
      "\u001b[1;31mTypeError\u001b[0m                                 Traceback (most recent call last)",
      "\u001b[1;32m<ipython-input-33-ff6dcb82abed>\u001b[0m in \u001b[0;36m<module>\u001b[1;34m\u001b[0m\n\u001b[1;32m----> 1\u001b[1;33m \u001b[0mtype\u001b[0m\u001b[1;33m(\u001b[0m\u001b[1;33m)\u001b[0m\u001b[1;33m\u001b[0m\u001b[1;33m\u001b[0m\u001b[0m\n\u001b[0m",
      "\u001b[1;31mTypeError\u001b[0m: type() takes 1 or 3 arguments"
     ]
    }
   ],
   "source": [
    "type()"
   ]
  },
  {
   "cell_type": "markdown",
   "metadata": {},
   "source": [
    "using type and its constructor we can create classes"
   ]
  },
  {
   "cell_type": "code",
   "execution_count": 34,
   "metadata": {},
   "outputs": [],
   "source": [
    "Person = type(\"Person\",(), {\"a\":11})\n",
    "# name of the class,inheritance, dict with class attributes"
   ]
  },
  {
   "cell_type": "code",
   "execution_count": 35,
   "metadata": {},
   "outputs": [
    {
     "data": {
      "text/plain": [
       "type"
      ]
     },
     "execution_count": 35,
     "metadata": {},
     "output_type": "execute_result"
    }
   ],
   "source": [
    "type(Person)"
   ]
  },
  {
   "cell_type": "code",
   "execution_count": 36,
   "metadata": {},
   "outputs": [
    {
     "data": {
      "text/plain": [
       "mappingproxy({'a': 11,\n",
       "              '__module__': '__main__',\n",
       "              '__dict__': <attribute '__dict__' of 'Person' objects>,\n",
       "              '__weakref__': <attribute '__weakref__' of 'Person' objects>,\n",
       "              '__doc__': None})"
      ]
     },
     "execution_count": 36,
     "metadata": {},
     "output_type": "execute_result"
    }
   ],
   "source": [
    "Person.__dict__"
   ]
  },
  {
   "cell_type": "code",
   "execution_count": 37,
   "metadata": {},
   "outputs": [
    {
     "data": {
      "text/plain": [
       "11"
      ]
     },
     "execution_count": 37,
     "metadata": {},
     "output_type": "execute_result"
    }
   ],
   "source": [
    "Person.a"
   ]
  },
  {
   "cell_type": "code",
   "execution_count": 38,
   "metadata": {},
   "outputs": [
    {
     "data": {
      "text/plain": [
       "<__main__.Person at 0x228a2888ec8>"
      ]
     },
     "execution_count": 38,
     "metadata": {},
     "output_type": "execute_result"
    }
   ],
   "source": [
    "p = Person()\n",
    "p"
   ]
  },
  {
   "cell_type": "markdown",
   "metadata": {},
   "source": [
    "_____________________________"
   ]
  },
  {
   "cell_type": "code",
   "execution_count": 41,
   "metadata": {},
   "outputs": [],
   "source": [
    "class TestIntegerField(unittest.TestCase):\n",
    "    \n",
    "   \n",
    "    @staticmethod    \n",
    "    def create_person_instance( min_, max_):\n",
    "        obj = type(\"Person\",(), {\"age\":IntegerField(min_,max_)})\n",
    "        return obj()\n",
    "        \n",
    "        \n",
    "    def test_set_age_ok(self):\n",
    "              \n",
    "        p = self.create_person_instance(5,10)\n",
    "        p.age = 5\n",
    "        self.assertEqual(5, p.age)"
   ]
  },
  {
   "cell_type": "code",
   "execution_count": 42,
   "metadata": {},
   "outputs": [
    {
     "name": "stderr",
     "output_type": "stream",
     "text": [
      "test_set_age_ok (__main__.TestIntegerField) ... ok\n",
      "\n",
      "----------------------------------------------------------------------\n",
      "Ran 1 test in 0.002s\n",
      "\n",
      "OK\n"
     ]
    }
   ],
   "source": [
    "run_tests(TestIntegerField)"
   ]
  },
  {
   "cell_type": "markdown",
   "metadata": {},
   "source": [
    "let's expand our tests"
   ]
  },
  {
   "cell_type": "code",
   "execution_count": 45,
   "metadata": {},
   "outputs": [],
   "source": [
    "class TestIntegerField(unittest.TestCase):\n",
    "    \n",
    "   \n",
    "    @staticmethod    \n",
    "    def create_person_instance( min_, max_):\n",
    "        obj = type(\"Person\",(), {\"age\":IntegerField(min_,max_)})\n",
    "        return obj()\n",
    "        \n",
    "        \n",
    "        \n",
    "    def test_set_age_ok(self):\n",
    "        min_ = 5\n",
    "        max_ = 10      \n",
    "        p = self.create_person_instance(min_, max_)\n",
    "        valid_values = range(min_, max_+1)\n",
    "        \n",
    "        for i, value in enumerate(valid_values):\n",
    "            p.age = value\n",
    "            self.assertEqual(value, p.age)"
   ]
  },
  {
   "cell_type": "code",
   "execution_count": 46,
   "metadata": {},
   "outputs": [
    {
     "name": "stderr",
     "output_type": "stream",
     "text": [
      "test_set_age_ok (__main__.TestIntegerField) ... ok\n",
      "\n",
      "----------------------------------------------------------------------\n",
      "Ran 1 test in 0.002s\n",
      "\n",
      "OK\n"
     ]
    }
   ],
   "source": [
    "run_tests(TestIntegerField)"
   ]
  },
  {
   "cell_type": "code",
   "execution_count": 51,
   "metadata": {},
   "outputs": [],
   "source": [
    "class TestIntegerField(unittest.TestCase):\n",
    "    \n",
    "   \n",
    "    @staticmethod    \n",
    "    def create_person_instance( min_, max_):\n",
    "        obj = type(\"Person\",(), {\"age\":IntegerField(min_,max_)})\n",
    "        return obj()\n",
    "       \n",
    "        \n",
    "    def test_set_age_ok(self):\n",
    "        min_ = 5\n",
    "        max_ = 10      \n",
    "        p = self.create_person_instance(min_, max_)\n",
    "        valid_values = range(min_, max_+1)\n",
    "        \n",
    "        for i, value in enumerate(valid_values):\n",
    "            with self.subTest(test_number=i):\n",
    "                p.age = value\n",
    "                self.assertEqual(value, p.age)\n",
    "            \n",
    "    def test_set_age_invalid(self):\n",
    "        min_ = -10\n",
    "        max_ = 10      \n",
    "        p = self.create_person_instance(min_, max_)\n",
    "        \n",
    "        bad_values = list(range(min_ -5, min_))\n",
    "        bad_values += list(range(max_ +1, max_+5))\n",
    "        bad_values += [10.5, 1+0j, \"abc\", (1,2)]\n",
    "        for i, value in enumerate(bad_values):\n",
    "             with self.subTest(test_number=i):\n",
    "                    with self.assertRaises(ValueError):\n",
    "                        p.age = value\n",
    "                        \n",
    "    def test_class_get(self):\n",
    "        p = self.create_person_instance(0, 0)\n",
    "        p_class = type(p)\n",
    "        self.assertIsInstance(p_class.age, IntegerField)\n"
   ]
  },
  {
   "cell_type": "code",
   "execution_count": 52,
   "metadata": {},
   "outputs": [
    {
     "name": "stderr",
     "output_type": "stream",
     "text": [
      "test_class_get (__main__.TestIntegerField) ... ok\n",
      "test_set_age_invalid (__main__.TestIntegerField) ... ok\n",
      "test_set_age_ok (__main__.TestIntegerField) ... ok\n",
      "\n",
      "----------------------------------------------------------------------\n",
      "Ran 3 tests in 0.005s\n",
      "\n",
      "OK\n"
     ]
    }
   ],
   "source": [
    "run_tests(TestIntegerField)"
   ]
  },
  {
   "cell_type": "markdown",
   "metadata": {},
   "source": [
    "let's make min and max optional"
   ]
  },
  {
   "cell_type": "markdown",
   "metadata": {},
   "source": [
    "first write tests"
   ]
  },
  {
   "cell_type": "code",
   "execution_count": 53,
   "metadata": {},
   "outputs": [],
   "source": [
    "class TestIntegerField(unittest.TestCase):\n",
    "    \n",
    "   \n",
    "    @staticmethod    \n",
    "    def create_person_instance( min_, max_):\n",
    "        obj = type(\"Person\",(), {\"age\":IntegerField(min_,max_)})\n",
    "        return obj()\n",
    "       \n",
    "        \n",
    "    def test_set_age_ok(self):\n",
    "        min_ = 5\n",
    "        max_ = 10      \n",
    "        p = self.create_person_instance(min_, max_)\n",
    "        valid_values = range(min_, max_+1)\n",
    "        \n",
    "        for i, value in enumerate(valid_values):\n",
    "            with self.subTest(test_number=i):\n",
    "                p.age = value\n",
    "                self.assertEqual(value, p.age)\n",
    "            \n",
    "    def test_set_age_invalid(self):\n",
    "        min_ = -10\n",
    "        max_ = 10      \n",
    "        p = self.create_person_instance(min_, max_)\n",
    "        \n",
    "        bad_values = list(range(min_ -5, min_))\n",
    "        bad_values += list(range(max_ +1, max_+5))\n",
    "        bad_values += [10.5, 1+0j, \"abc\", (1,2)]\n",
    "        for i, value in enumerate(bad_values):\n",
    "             with self.subTest(test_number=i):\n",
    "                    with self.assertRaises(ValueError):\n",
    "                        p.age = value\n",
    "                        \n",
    "    def test_class_get(self):\n",
    "        p = self.create_person_instance(0, 0)\n",
    "        p_class = type(p)\n",
    "        self.assertIsInstance(p_class.age, IntegerField)\n",
    "        \n",
    "        \n",
    "    def test_set_age_min_only(self):\n",
    "        min_ = 5\n",
    "        max_ = None      \n",
    "        p = self.create_person_instance(min_, max_)\n",
    "        valid_values = range(min_, min_+100, 10)\n",
    "        \n",
    "        for i, value in enumerate(valid_values):\n",
    "            with self.subTest(test_number=i):\n",
    "                p.age = value\n",
    "                self.assertEqual(value, p.age)\n",
    "                \n",
    "    def test_set_age_max_only(self):\n",
    "        min_ = None\n",
    "        max_ = 10      \n",
    "        p = self.create_person_instance(min_, max_)\n",
    "        valid_values = range(max_-100, max_, 10)\n",
    "        \n",
    "        for i, value in enumerate(valid_values):\n",
    "            with self.subTest(test_number=i):\n",
    "                p.age = value\n",
    "                self.assertEqual(value, p.age)\n",
    "                \n",
    "    def test_set_age_no_limits(self):\n",
    "        min_ = None\n",
    "        max_ = None      \n",
    "        p = self.create_person_instance(min_, max_)\n",
    "        valid_values = range(-100, 100, 10)\n",
    "        \n",
    "        for i, value in enumerate(valid_values):\n",
    "            with self.subTest(test_number=i):\n",
    "                p.age = value\n",
    "                self.assertEqual(value, p.age)\n",
    "            \n"
   ]
  },
  {
   "cell_type": "code",
   "execution_count": 54,
   "metadata": {},
   "outputs": [
    {
     "name": "stderr",
     "output_type": "stream",
     "text": [
      "test_class_get (__main__.TestIntegerField) ... ok\n",
      "test_set_age_invalid (__main__.TestIntegerField) ... ok\n",
      "test_set_age_max_only (__main__.TestIntegerField) ... test_set_age_min_only (__main__.TestIntegerField) ... test_set_age_no_limits (__main__.TestIntegerField) ... test_set_age_ok (__main__.TestIntegerField) ... ok\n",
      "\n",
      "======================================================================\n",
      "ERROR: test_set_age_max_only (__main__.TestIntegerField) (test_number=0)\n",
      "----------------------------------------------------------------------\n",
      "Traceback (most recent call last):\n",
      "  File \"<ipython-input-53-c0b4dd6643b6>\", line 59, in test_set_age_max_only\n",
      "    p.age = value\n",
      "  File \"<ipython-input-10-bf622fced744>\", line 12, in __set__\n",
      "    if value < self._min:\n",
      "TypeError: '<' not supported between instances of 'int' and 'NoneType'\n",
      "\n",
      "======================================================================\n",
      "ERROR: test_set_age_max_only (__main__.TestIntegerField) (test_number=1)\n",
      "----------------------------------------------------------------------\n",
      "Traceback (most recent call last):\n",
      "  File \"<ipython-input-53-c0b4dd6643b6>\", line 59, in test_set_age_max_only\n",
      "    p.age = value\n",
      "  File \"<ipython-input-10-bf622fced744>\", line 12, in __set__\n",
      "    if value < self._min:\n",
      "TypeError: '<' not supported between instances of 'int' and 'NoneType'\n",
      "\n",
      "======================================================================\n",
      "ERROR: test_set_age_max_only (__main__.TestIntegerField) (test_number=2)\n",
      "----------------------------------------------------------------------\n",
      "Traceback (most recent call last):\n",
      "  File \"<ipython-input-53-c0b4dd6643b6>\", line 59, in test_set_age_max_only\n",
      "    p.age = value\n",
      "  File \"<ipython-input-10-bf622fced744>\", line 12, in __set__\n",
      "    if value < self._min:\n",
      "TypeError: '<' not supported between instances of 'int' and 'NoneType'\n",
      "\n",
      "======================================================================\n",
      "ERROR: test_set_age_max_only (__main__.TestIntegerField) (test_number=3)\n",
      "----------------------------------------------------------------------\n",
      "Traceback (most recent call last):\n",
      "  File \"<ipython-input-53-c0b4dd6643b6>\", line 59, in test_set_age_max_only\n",
      "    p.age = value\n",
      "  File \"<ipython-input-10-bf622fced744>\", line 12, in __set__\n",
      "    if value < self._min:\n",
      "TypeError: '<' not supported between instances of 'int' and 'NoneType'\n",
      "\n",
      "======================================================================\n",
      "ERROR: test_set_age_max_only (__main__.TestIntegerField) (test_number=4)\n",
      "----------------------------------------------------------------------\n",
      "Traceback (most recent call last):\n",
      "  File \"<ipython-input-53-c0b4dd6643b6>\", line 59, in test_set_age_max_only\n",
      "    p.age = value\n",
      "  File \"<ipython-input-10-bf622fced744>\", line 12, in __set__\n",
      "    if value < self._min:\n",
      "TypeError: '<' not supported between instances of 'int' and 'NoneType'\n",
      "\n",
      "======================================================================\n",
      "ERROR: test_set_age_max_only (__main__.TestIntegerField) (test_number=5)\n",
      "----------------------------------------------------------------------\n",
      "Traceback (most recent call last):\n",
      "  File \"<ipython-input-53-c0b4dd6643b6>\", line 59, in test_set_age_max_only\n",
      "    p.age = value\n",
      "  File \"<ipython-input-10-bf622fced744>\", line 12, in __set__\n",
      "    if value < self._min:\n",
      "TypeError: '<' not supported between instances of 'int' and 'NoneType'\n",
      "\n",
      "======================================================================\n",
      "ERROR: test_set_age_max_only (__main__.TestIntegerField) (test_number=6)\n",
      "----------------------------------------------------------------------\n",
      "Traceback (most recent call last):\n",
      "  File \"<ipython-input-53-c0b4dd6643b6>\", line 59, in test_set_age_max_only\n",
      "    p.age = value\n",
      "  File \"<ipython-input-10-bf622fced744>\", line 12, in __set__\n",
      "    if value < self._min:\n",
      "TypeError: '<' not supported between instances of 'int' and 'NoneType'\n",
      "\n",
      "======================================================================\n",
      "ERROR: test_set_age_max_only (__main__.TestIntegerField) (test_number=7)\n",
      "----------------------------------------------------------------------\n",
      "Traceback (most recent call last):\n",
      "  File \"<ipython-input-53-c0b4dd6643b6>\", line 59, in test_set_age_max_only\n",
      "    p.age = value\n",
      "  File \"<ipython-input-10-bf622fced744>\", line 12, in __set__\n",
      "    if value < self._min:\n",
      "TypeError: '<' not supported between instances of 'int' and 'NoneType'\n",
      "\n",
      "======================================================================\n",
      "ERROR: test_set_age_max_only (__main__.TestIntegerField) (test_number=8)\n",
      "----------------------------------------------------------------------\n",
      "Traceback (most recent call last):\n",
      "  File \"<ipython-input-53-c0b4dd6643b6>\", line 59, in test_set_age_max_only\n",
      "    p.age = value\n",
      "  File \"<ipython-input-10-bf622fced744>\", line 12, in __set__\n",
      "    if value < self._min:\n",
      "TypeError: '<' not supported between instances of 'int' and 'NoneType'\n",
      "\n",
      "======================================================================\n",
      "ERROR: test_set_age_max_only (__main__.TestIntegerField) (test_number=9)\n",
      "----------------------------------------------------------------------\n",
      "Traceback (most recent call last):\n",
      "  File \"<ipython-input-53-c0b4dd6643b6>\", line 59, in test_set_age_max_only\n",
      "    p.age = value\n",
      "  File \"<ipython-input-10-bf622fced744>\", line 12, in __set__\n",
      "    if value < self._min:\n",
      "TypeError: '<' not supported between instances of 'int' and 'NoneType'\n",
      "\n",
      "======================================================================\n",
      "ERROR: test_set_age_min_only (__main__.TestIntegerField) (test_number=0)\n",
      "----------------------------------------------------------------------\n",
      "Traceback (most recent call last):\n",
      "  File \"<ipython-input-53-c0b4dd6643b6>\", line 48, in test_set_age_min_only\n",
      "    p.age = value\n",
      "  File \"<ipython-input-10-bf622fced744>\", line 14, in __set__\n",
      "    if value > self._max:\n",
      "TypeError: '>' not supported between instances of 'int' and 'NoneType'\n",
      "\n",
      "======================================================================\n",
      "ERROR: test_set_age_min_only (__main__.TestIntegerField) (test_number=1)\n",
      "----------------------------------------------------------------------\n",
      "Traceback (most recent call last):\n",
      "  File \"<ipython-input-53-c0b4dd6643b6>\", line 48, in test_set_age_min_only\n",
      "    p.age = value\n",
      "  File \"<ipython-input-10-bf622fced744>\", line 14, in __set__\n",
      "    if value > self._max:\n",
      "TypeError: '>' not supported between instances of 'int' and 'NoneType'\n",
      "\n",
      "======================================================================\n",
      "ERROR: test_set_age_min_only (__main__.TestIntegerField) (test_number=2)\n",
      "----------------------------------------------------------------------\n",
      "Traceback (most recent call last):\n",
      "  File \"<ipython-input-53-c0b4dd6643b6>\", line 48, in test_set_age_min_only\n",
      "    p.age = value\n",
      "  File \"<ipython-input-10-bf622fced744>\", line 14, in __set__\n",
      "    if value > self._max:\n",
      "TypeError: '>' not supported between instances of 'int' and 'NoneType'\n",
      "\n",
      "======================================================================\n",
      "ERROR: test_set_age_min_only (__main__.TestIntegerField) (test_number=3)\n",
      "----------------------------------------------------------------------\n",
      "Traceback (most recent call last):\n",
      "  File \"<ipython-input-53-c0b4dd6643b6>\", line 48, in test_set_age_min_only\n",
      "    p.age = value\n",
      "  File \"<ipython-input-10-bf622fced744>\", line 14, in __set__\n",
      "    if value > self._max:\n",
      "TypeError: '>' not supported between instances of 'int' and 'NoneType'\n",
      "\n",
      "======================================================================\n",
      "ERROR: test_set_age_min_only (__main__.TestIntegerField) (test_number=4)\n",
      "----------------------------------------------------------------------\n",
      "Traceback (most recent call last):\n",
      "  File \"<ipython-input-53-c0b4dd6643b6>\", line 48, in test_set_age_min_only\n",
      "    p.age = value\n",
      "  File \"<ipython-input-10-bf622fced744>\", line 14, in __set__\n",
      "    if value > self._max:\n",
      "TypeError: '>' not supported between instances of 'int' and 'NoneType'\n",
      "\n",
      "======================================================================\n",
      "ERROR: test_set_age_min_only (__main__.TestIntegerField) (test_number=5)\n",
      "----------------------------------------------------------------------\n",
      "Traceback (most recent call last):\n",
      "  File \"<ipython-input-53-c0b4dd6643b6>\", line 48, in test_set_age_min_only\n",
      "    p.age = value\n",
      "  File \"<ipython-input-10-bf622fced744>\", line 14, in __set__\n",
      "    if value > self._max:\n",
      "TypeError: '>' not supported between instances of 'int' and 'NoneType'\n",
      "\n",
      "======================================================================\n",
      "ERROR: test_set_age_min_only (__main__.TestIntegerField) (test_number=6)\n",
      "----------------------------------------------------------------------\n",
      "Traceback (most recent call last):\n",
      "  File \"<ipython-input-53-c0b4dd6643b6>\", line 48, in test_set_age_min_only\n",
      "    p.age = value\n",
      "  File \"<ipython-input-10-bf622fced744>\", line 14, in __set__\n",
      "    if value > self._max:\n",
      "TypeError: '>' not supported between instances of 'int' and 'NoneType'\n",
      "\n",
      "======================================================================\n",
      "ERROR: test_set_age_min_only (__main__.TestIntegerField) (test_number=7)\n",
      "----------------------------------------------------------------------\n",
      "Traceback (most recent call last):\n",
      "  File \"<ipython-input-53-c0b4dd6643b6>\", line 48, in test_set_age_min_only\n",
      "    p.age = value\n",
      "  File \"<ipython-input-10-bf622fced744>\", line 14, in __set__\n",
      "    if value > self._max:\n",
      "TypeError: '>' not supported between instances of 'int' and 'NoneType'\n",
      "\n",
      "======================================================================\n",
      "ERROR: test_set_age_min_only (__main__.TestIntegerField) (test_number=8)\n",
      "----------------------------------------------------------------------\n",
      "Traceback (most recent call last):\n",
      "  File \"<ipython-input-53-c0b4dd6643b6>\", line 48, in test_set_age_min_only\n",
      "    p.age = value\n",
      "  File \"<ipython-input-10-bf622fced744>\", line 14, in __set__\n",
      "    if value > self._max:\n",
      "TypeError: '>' not supported between instances of 'int' and 'NoneType'\n",
      "\n",
      "======================================================================\n",
      "ERROR: test_set_age_min_only (__main__.TestIntegerField) (test_number=9)\n",
      "----------------------------------------------------------------------\n",
      "Traceback (most recent call last):\n",
      "  File \"<ipython-input-53-c0b4dd6643b6>\", line 48, in test_set_age_min_only\n",
      "    p.age = value\n",
      "  File \"<ipython-input-10-bf622fced744>\", line 14, in __set__\n",
      "    if value > self._max:\n",
      "TypeError: '>' not supported between instances of 'int' and 'NoneType'\n",
      "\n",
      "======================================================================\n",
      "ERROR: test_set_age_no_limits (__main__.TestIntegerField) (test_number=0)\n",
      "----------------------------------------------------------------------\n",
      "Traceback (most recent call last):\n",
      "  File \"<ipython-input-53-c0b4dd6643b6>\", line 70, in test_set_age_no_limits\n",
      "    p.age = value\n",
      "  File \"<ipython-input-10-bf622fced744>\", line 12, in __set__\n",
      "    if value < self._min:\n",
      "TypeError: '<' not supported between instances of 'int' and 'NoneType'\n",
      "\n",
      "======================================================================\n",
      "ERROR: test_set_age_no_limits (__main__.TestIntegerField) (test_number=1)\n",
      "----------------------------------------------------------------------\n",
      "Traceback (most recent call last):\n",
      "  File \"<ipython-input-53-c0b4dd6643b6>\", line 70, in test_set_age_no_limits\n",
      "    p.age = value\n",
      "  File \"<ipython-input-10-bf622fced744>\", line 12, in __set__\n",
      "    if value < self._min:\n",
      "TypeError: '<' not supported between instances of 'int' and 'NoneType'\n",
      "\n",
      "======================================================================\n",
      "ERROR: test_set_age_no_limits (__main__.TestIntegerField) (test_number=2)\n",
      "----------------------------------------------------------------------\n",
      "Traceback (most recent call last):\n",
      "  File \"<ipython-input-53-c0b4dd6643b6>\", line 70, in test_set_age_no_limits\n",
      "    p.age = value\n",
      "  File \"<ipython-input-10-bf622fced744>\", line 12, in __set__\n",
      "    if value < self._min:\n",
      "TypeError: '<' not supported between instances of 'int' and 'NoneType'\n",
      "\n",
      "======================================================================\n",
      "ERROR: test_set_age_no_limits (__main__.TestIntegerField) (test_number=3)\n",
      "----------------------------------------------------------------------\n",
      "Traceback (most recent call last):\n",
      "  File \"<ipython-input-53-c0b4dd6643b6>\", line 70, in test_set_age_no_limits\n",
      "    p.age = value\n",
      "  File \"<ipython-input-10-bf622fced744>\", line 12, in __set__\n",
      "    if value < self._min:\n",
      "TypeError: '<' not supported between instances of 'int' and 'NoneType'\n",
      "\n",
      "======================================================================\n",
      "ERROR: test_set_age_no_limits (__main__.TestIntegerField) (test_number=4)\n",
      "----------------------------------------------------------------------\n",
      "Traceback (most recent call last):\n",
      "  File \"<ipython-input-53-c0b4dd6643b6>\", line 70, in test_set_age_no_limits\n",
      "    p.age = value\n",
      "  File \"<ipython-input-10-bf622fced744>\", line 12, in __set__\n",
      "    if value < self._min:\n",
      "TypeError: '<' not supported between instances of 'int' and 'NoneType'\n",
      "\n",
      "======================================================================\n",
      "ERROR: test_set_age_no_limits (__main__.TestIntegerField) (test_number=5)\n",
      "----------------------------------------------------------------------\n",
      "Traceback (most recent call last):\n",
      "  File \"<ipython-input-53-c0b4dd6643b6>\", line 70, in test_set_age_no_limits\n",
      "    p.age = value\n",
      "  File \"<ipython-input-10-bf622fced744>\", line 12, in __set__\n",
      "    if value < self._min:\n",
      "TypeError: '<' not supported between instances of 'int' and 'NoneType'\n",
      "\n",
      "======================================================================\n",
      "ERROR: test_set_age_no_limits (__main__.TestIntegerField) (test_number=6)\n",
      "----------------------------------------------------------------------\n",
      "Traceback (most recent call last):\n",
      "  File \"<ipython-input-53-c0b4dd6643b6>\", line 70, in test_set_age_no_limits\n",
      "    p.age = value\n",
      "  File \"<ipython-input-10-bf622fced744>\", line 12, in __set__\n",
      "    if value < self._min:\n",
      "TypeError: '<' not supported between instances of 'int' and 'NoneType'\n",
      "\n",
      "======================================================================\n",
      "ERROR: test_set_age_no_limits (__main__.TestIntegerField) (test_number=7)\n",
      "----------------------------------------------------------------------\n",
      "Traceback (most recent call last):\n",
      "  File \"<ipython-input-53-c0b4dd6643b6>\", line 70, in test_set_age_no_limits\n",
      "    p.age = value\n",
      "  File \"<ipython-input-10-bf622fced744>\", line 12, in __set__\n",
      "    if value < self._min:\n",
      "TypeError: '<' not supported between instances of 'int' and 'NoneType'\n",
      "\n",
      "======================================================================\n",
      "ERROR: test_set_age_no_limits (__main__.TestIntegerField) (test_number=8)\n",
      "----------------------------------------------------------------------\n",
      "Traceback (most recent call last):\n",
      "  File \"<ipython-input-53-c0b4dd6643b6>\", line 70, in test_set_age_no_limits\n",
      "    p.age = value\n",
      "  File \"<ipython-input-10-bf622fced744>\", line 12, in __set__\n",
      "    if value < self._min:\n",
      "TypeError: '<' not supported between instances of 'int' and 'NoneType'\n",
      "\n",
      "======================================================================\n",
      "ERROR: test_set_age_no_limits (__main__.TestIntegerField) (test_number=9)\n",
      "----------------------------------------------------------------------\n",
      "Traceback (most recent call last):\n",
      "  File \"<ipython-input-53-c0b4dd6643b6>\", line 70, in test_set_age_no_limits\n",
      "    p.age = value\n",
      "  File \"<ipython-input-10-bf622fced744>\", line 12, in __set__\n",
      "    if value < self._min:\n",
      "TypeError: '<' not supported between instances of 'int' and 'NoneType'\n",
      "\n",
      "======================================================================\n",
      "ERROR: test_set_age_no_limits (__main__.TestIntegerField) (test_number=10)\n",
      "----------------------------------------------------------------------\n",
      "Traceback (most recent call last):\n",
      "  File \"<ipython-input-53-c0b4dd6643b6>\", line 70, in test_set_age_no_limits\n",
      "    p.age = value\n",
      "  File \"<ipython-input-10-bf622fced744>\", line 12, in __set__\n",
      "    if value < self._min:\n",
      "TypeError: '<' not supported between instances of 'int' and 'NoneType'\n",
      "\n",
      "======================================================================\n",
      "ERROR: test_set_age_no_limits (__main__.TestIntegerField) (test_number=11)\n",
      "----------------------------------------------------------------------\n",
      "Traceback (most recent call last):\n",
      "  File \"<ipython-input-53-c0b4dd6643b6>\", line 70, in test_set_age_no_limits\n",
      "    p.age = value\n",
      "  File \"<ipython-input-10-bf622fced744>\", line 12, in __set__\n",
      "    if value < self._min:\n",
      "TypeError: '<' not supported between instances of 'int' and 'NoneType'\n",
      "\n",
      "======================================================================\n",
      "ERROR: test_set_age_no_limits (__main__.TestIntegerField) (test_number=12)\n",
      "----------------------------------------------------------------------\n",
      "Traceback (most recent call last):\n",
      "  File \"<ipython-input-53-c0b4dd6643b6>\", line 70, in test_set_age_no_limits\n",
      "    p.age = value\n",
      "  File \"<ipython-input-10-bf622fced744>\", line 12, in __set__\n",
      "    if value < self._min:\n",
      "TypeError: '<' not supported between instances of 'int' and 'NoneType'\n",
      "\n",
      "======================================================================\n",
      "ERROR: test_set_age_no_limits (__main__.TestIntegerField) (test_number=13)\n",
      "----------------------------------------------------------------------\n",
      "Traceback (most recent call last):\n",
      "  File \"<ipython-input-53-c0b4dd6643b6>\", line 70, in test_set_age_no_limits\n",
      "    p.age = value\n",
      "  File \"<ipython-input-10-bf622fced744>\", line 12, in __set__\n",
      "    if value < self._min:\n",
      "TypeError: '<' not supported between instances of 'int' and 'NoneType'\n",
      "\n",
      "======================================================================\n",
      "ERROR: test_set_age_no_limits (__main__.TestIntegerField) (test_number=14)\n",
      "----------------------------------------------------------------------\n",
      "Traceback (most recent call last):\n",
      "  File \"<ipython-input-53-c0b4dd6643b6>\", line 70, in test_set_age_no_limits\n",
      "    p.age = value\n",
      "  File \"<ipython-input-10-bf622fced744>\", line 12, in __set__\n",
      "    if value < self._min:\n",
      "TypeError: '<' not supported between instances of 'int' and 'NoneType'\n",
      "\n",
      "======================================================================\n",
      "ERROR: test_set_age_no_limits (__main__.TestIntegerField) (test_number=15)\n",
      "----------------------------------------------------------------------\n",
      "Traceback (most recent call last):\n",
      "  File \"<ipython-input-53-c0b4dd6643b6>\", line 70, in test_set_age_no_limits\n",
      "    p.age = value\n",
      "  File \"<ipython-input-10-bf622fced744>\", line 12, in __set__\n",
      "    if value < self._min:\n",
      "TypeError: '<' not supported between instances of 'int' and 'NoneType'\n",
      "\n",
      "======================================================================\n",
      "ERROR: test_set_age_no_limits (__main__.TestIntegerField) (test_number=16)\n",
      "----------------------------------------------------------------------\n",
      "Traceback (most recent call last):\n",
      "  File \"<ipython-input-53-c0b4dd6643b6>\", line 70, in test_set_age_no_limits\n",
      "    p.age = value\n",
      "  File \"<ipython-input-10-bf622fced744>\", line 12, in __set__\n",
      "    if value < self._min:\n",
      "TypeError: '<' not supported between instances of 'int' and 'NoneType'\n",
      "\n",
      "======================================================================\n",
      "ERROR: test_set_age_no_limits (__main__.TestIntegerField) (test_number=17)\n",
      "----------------------------------------------------------------------\n",
      "Traceback (most recent call last):\n",
      "  File \"<ipython-input-53-c0b4dd6643b6>\", line 70, in test_set_age_no_limits\n",
      "    p.age = value\n",
      "  File \"<ipython-input-10-bf622fced744>\", line 12, in __set__\n",
      "    if value < self._min:\n",
      "TypeError: '<' not supported between instances of 'int' and 'NoneType'\n",
      "\n",
      "======================================================================\n",
      "ERROR: test_set_age_no_limits (__main__.TestIntegerField) (test_number=18)\n",
      "----------------------------------------------------------------------\n",
      "Traceback (most recent call last):\n",
      "  File \"<ipython-input-53-c0b4dd6643b6>\", line 70, in test_set_age_no_limits\n",
      "    p.age = value\n",
      "  File \"<ipython-input-10-bf622fced744>\", line 12, in __set__\n",
      "    if value < self._min:\n",
      "TypeError: '<' not supported between instances of 'int' and 'NoneType'\n",
      "\n",
      "======================================================================\n",
      "ERROR: test_set_age_no_limits (__main__.TestIntegerField) (test_number=19)\n",
      "----------------------------------------------------------------------\n",
      "Traceback (most recent call last):\n",
      "  File \"<ipython-input-53-c0b4dd6643b6>\", line 70, in test_set_age_no_limits\n",
      "    p.age = value\n",
      "  File \"<ipython-input-10-bf622fced744>\", line 12, in __set__\n",
      "    if value < self._min:\n",
      "TypeError: '<' not supported between instances of 'int' and 'NoneType'\n",
      "\n",
      "----------------------------------------------------------------------\n",
      "Ran 6 tests in 0.022s\n",
      "\n",
      "FAILED (errors=40)\n"
     ]
    }
   ],
   "source": [
    "run_tests(TestIntegerField)"
   ]
  },
  {
   "cell_type": "code",
   "execution_count": 55,
   "metadata": {},
   "outputs": [],
   "source": [
    "class IntegerField:\n",
    "    def __init__(self, min_=None, max_=None):\n",
    "        self._min = min_ \n",
    "        self._max = max_\n",
    "    \n",
    "    def __set_name__(self, owner_class, prop_name):\n",
    "        self.prop_name = prop_name\n",
    "        \n",
    "    def __set__(self, instance, value):\n",
    "        if not isinstance(value, numbers.Integral):\n",
    "            raise ValueError(f\"{self.prop_name} must be an integer value.\")\n",
    "        if self._min is not None and value < self._min:\n",
    "             raise ValueError(f\"{self.prop_name} must be >= {self._min}.\")\n",
    "        if self._max is not None and value > self._max:\n",
    "             raise ValueError(f\"{self.prop_name} must be <= {self._max}.\")\n",
    "        instance.__dict__[self.prop_name] = value\n",
    "        \n",
    "    def __get__(self, instance, owner_class):\n",
    "        if instance is None:\n",
    "            return self\n",
    "        else:\n",
    "            return instance.__dict__.get(self.prop_name, None)"
   ]
  },
  {
   "cell_type": "code",
   "execution_count": 56,
   "metadata": {},
   "outputs": [],
   "source": [
    "class TestIntegerField(unittest.TestCase):\n",
    "    \n",
    "   \n",
    "    @staticmethod    \n",
    "    def create_person_instance( min_, max_):\n",
    "        obj = type(\"Person\",(), {\"age\":IntegerField(min_,max_)})\n",
    "        return obj()\n",
    "       \n",
    "        \n",
    "    def test_set_age_ok(self):\n",
    "        min_ = 5\n",
    "        max_ = 10      \n",
    "        p = self.create_person_instance(min_, max_)\n",
    "        valid_values = range(min_, max_+1)\n",
    "        \n",
    "        for i, value in enumerate(valid_values):\n",
    "            with self.subTest(test_number=i):\n",
    "                p.age = value\n",
    "                self.assertEqual(value, p.age)\n",
    "            \n",
    "    def test_set_age_invalid(self):\n",
    "        min_ = -10\n",
    "        max_ = 10      \n",
    "        p = self.create_person_instance(min_, max_)\n",
    "        \n",
    "        bad_values = list(range(min_ -5, min_))\n",
    "        bad_values += list(range(max_ +1, max_+5))\n",
    "        bad_values += [10.5, 1+0j, \"abc\", (1,2)]\n",
    "        for i, value in enumerate(bad_values):\n",
    "             with self.subTest(test_number=i):\n",
    "                    with self.assertRaises(ValueError):\n",
    "                        p.age = value\n",
    "                        \n",
    "    def test_class_get(self):\n",
    "        p = self.create_person_instance(0, 0)\n",
    "        p_class = type(p)\n",
    "        self.assertIsInstance(p_class.age, IntegerField)\n",
    "        \n",
    "        \n",
    "    def test_set_age_min_only(self):\n",
    "        min_ = 5\n",
    "        max_ = None      \n",
    "        p = self.create_person_instance(min_, max_)\n",
    "        valid_values = range(min_, min_+100, 10)\n",
    "        \n",
    "        for i, value in enumerate(valid_values):\n",
    "            with self.subTest(test_number=i):\n",
    "                p.age = value\n",
    "                self.assertEqual(value, p.age)\n",
    "                \n",
    "    def test_set_age_max_only(self):\n",
    "        min_ = None\n",
    "        max_ = 10      \n",
    "        p = self.create_person_instance(min_, max_)\n",
    "        valid_values = range(max_-100, max_, 10)\n",
    "        \n",
    "        for i, value in enumerate(valid_values):\n",
    "            with self.subTest(test_number=i):\n",
    "                p.age = value\n",
    "                self.assertEqual(value, p.age)\n",
    "                \n",
    "    def test_set_age_no_limits(self):\n",
    "        min_ = None\n",
    "        max_ = None      \n",
    "        p = self.create_person_instance(min_, max_)\n",
    "        valid_values = range(-100, 100, 10)\n",
    "        \n",
    "        for i, value in enumerate(valid_values):\n",
    "            with self.subTest(test_number=i):\n",
    "                p.age = value\n",
    "                self.assertEqual(value, p.age)\n",
    "            \n"
   ]
  },
  {
   "cell_type": "code",
   "execution_count": 57,
   "metadata": {},
   "outputs": [
    {
     "name": "stderr",
     "output_type": "stream",
     "text": [
      "test_class_get (__main__.TestIntegerField) ... ok\n",
      "test_set_age_invalid (__main__.TestIntegerField) ... ok\n",
      "test_set_age_max_only (__main__.TestIntegerField) ... ok\n",
      "test_set_age_min_only (__main__.TestIntegerField) ... ok\n",
      "test_set_age_no_limits (__main__.TestIntegerField) ... ok\n",
      "test_set_age_ok (__main__.TestIntegerField) ... ok\n",
      "\n",
      "----------------------------------------------------------------------\n",
      "Ran 6 tests in 0.010s\n",
      "\n",
      "OK\n"
     ]
    }
   ],
   "source": [
    "run_tests(TestIntegerField)"
   ]
  },
  {
   "cell_type": "code",
   "execution_count": 58,
   "metadata": {},
   "outputs": [],
   "source": [
    "class CharField:\n",
    "    def __init__(self, min_=None, max_=None):\n",
    "        min_ = min_ or 0\n",
    "        min_ = max(0, min_)\n",
    "        self._min = min_ \n",
    "        self._max = max_\n",
    "    \n",
    "    def __set_name__(self, owner_class, prop_name):\n",
    "        self.prop_name = prop_name\n",
    "        \n",
    "    def __set__(self, instance, value):\n",
    "        if not isinstance(value, str):\n",
    "            raise ValueError(f\"{self.prop_name} must be a string.\")\n",
    "        if self._min is not None and len(value) < self._min:\n",
    "             raise ValueError(f\"{self.prop_name} must be >= {self._min} chars.\")\n",
    "        if self._max is not None and len(value) > self._max:\n",
    "             raise ValueError(f\"{self.prop_name} must be <= {self._max} chars.\")\n",
    "        instance.__dict__[self.prop_name] = value\n",
    "        \n",
    "    def __get__(self, instance, owner_class):\n",
    "        if instance is None:\n",
    "            return self\n",
    "        else:\n",
    "            return instance.__dict__.get(self.prop_name, None)"
   ]
  },
  {
   "cell_type": "code",
   "execution_count": 59,
   "metadata": {},
   "outputs": [],
   "source": [
    "class Person:\n",
    "    name = CharField(1, 10)"
   ]
  },
  {
   "cell_type": "code",
   "execution_count": 60,
   "metadata": {},
   "outputs": [
    {
     "ename": "ValueError",
     "evalue": "name must be >= 1 chars.",
     "output_type": "error",
     "traceback": [
      "\u001b[1;31m---------------------------------------------------------------------------\u001b[0m",
      "\u001b[1;31mValueError\u001b[0m                                Traceback (most recent call last)",
      "\u001b[1;32m<ipython-input-60-54ea731d58e1>\u001b[0m in \u001b[0;36m<module>\u001b[1;34m\u001b[0m\n\u001b[0;32m      1\u001b[0m \u001b[0mp\u001b[0m \u001b[1;33m=\u001b[0m \u001b[0mPerson\u001b[0m\u001b[1;33m(\u001b[0m\u001b[1;33m)\u001b[0m\u001b[1;33m\u001b[0m\u001b[1;33m\u001b[0m\u001b[0m\n\u001b[1;32m----> 2\u001b[1;33m \u001b[0mp\u001b[0m\u001b[1;33m.\u001b[0m\u001b[0mname\u001b[0m \u001b[1;33m=\u001b[0m \u001b[1;34m\"\"\u001b[0m\u001b[1;33m\u001b[0m\u001b[1;33m\u001b[0m\u001b[0m\n\u001b[0m",
      "\u001b[1;32m<ipython-input-58-f92a22e313b7>\u001b[0m in \u001b[0;36m__set__\u001b[1;34m(self, instance, value)\u001b[0m\n\u001b[0;32m     13\u001b[0m             \u001b[1;32mraise\u001b[0m \u001b[0mValueError\u001b[0m\u001b[1;33m(\u001b[0m\u001b[1;34mf\"{self.prop_name} must be a string.\"\u001b[0m\u001b[1;33m)\u001b[0m\u001b[1;33m\u001b[0m\u001b[1;33m\u001b[0m\u001b[0m\n\u001b[0;32m     14\u001b[0m         \u001b[1;32mif\u001b[0m \u001b[0mself\u001b[0m\u001b[1;33m.\u001b[0m\u001b[0m_min\u001b[0m \u001b[1;32mis\u001b[0m \u001b[1;32mnot\u001b[0m \u001b[1;32mNone\u001b[0m \u001b[1;32mand\u001b[0m \u001b[0mlen\u001b[0m\u001b[1;33m(\u001b[0m\u001b[0mvalue\u001b[0m\u001b[1;33m)\u001b[0m \u001b[1;33m<\u001b[0m \u001b[0mself\u001b[0m\u001b[1;33m.\u001b[0m\u001b[0m_min\u001b[0m\u001b[1;33m:\u001b[0m\u001b[1;33m\u001b[0m\u001b[1;33m\u001b[0m\u001b[0m\n\u001b[1;32m---> 15\u001b[1;33m              \u001b[1;32mraise\u001b[0m \u001b[0mValueError\u001b[0m\u001b[1;33m(\u001b[0m\u001b[1;34mf\"{self.prop_name} must be >= {self._min} chars.\"\u001b[0m\u001b[1;33m)\u001b[0m\u001b[1;33m\u001b[0m\u001b[1;33m\u001b[0m\u001b[0m\n\u001b[0m\u001b[0;32m     16\u001b[0m         \u001b[1;32mif\u001b[0m \u001b[0mself\u001b[0m\u001b[1;33m.\u001b[0m\u001b[0m_max\u001b[0m \u001b[1;32mis\u001b[0m \u001b[1;32mnot\u001b[0m \u001b[1;32mNone\u001b[0m \u001b[1;32mand\u001b[0m \u001b[0mlen\u001b[0m\u001b[1;33m(\u001b[0m\u001b[0mvalue\u001b[0m\u001b[1;33m)\u001b[0m \u001b[1;33m>\u001b[0m \u001b[0mself\u001b[0m\u001b[1;33m.\u001b[0m\u001b[0m_max\u001b[0m\u001b[1;33m:\u001b[0m\u001b[1;33m\u001b[0m\u001b[1;33m\u001b[0m\u001b[0m\n\u001b[0;32m     17\u001b[0m              \u001b[1;32mraise\u001b[0m \u001b[0mValueError\u001b[0m\u001b[1;33m(\u001b[0m\u001b[1;34mf\"{self.prop_name} must be <= {self._max} chars.\"\u001b[0m\u001b[1;33m)\u001b[0m\u001b[1;33m\u001b[0m\u001b[1;33m\u001b[0m\u001b[0m\n",
      "\u001b[1;31mValueError\u001b[0m: name must be >= 1 chars."
     ]
    }
   ],
   "source": [
    "p = Person()\n",
    "p.name = \"\""
   ]
  },
  {
   "cell_type": "code",
   "execution_count": 61,
   "metadata": {},
   "outputs": [],
   "source": [
    "p.name = \"alex\""
   ]
  },
  {
   "cell_type": "code",
   "execution_count": 62,
   "metadata": {},
   "outputs": [],
   "source": [
    "class Person:\n",
    "    name = CharField(1)"
   ]
  },
  {
   "cell_type": "code",
   "execution_count": 63,
   "metadata": {},
   "outputs": [],
   "source": [
    "p = Person()\n",
    "p.name = \"alex\"*10"
   ]
  },
  {
   "cell_type": "code",
   "execution_count": 64,
   "metadata": {},
   "outputs": [],
   "source": [
    "class Person:\n",
    "    name = CharField(max_ = 1)"
   ]
  },
  {
   "cell_type": "code",
   "execution_count": 65,
   "metadata": {},
   "outputs": [
    {
     "ename": "ValueError",
     "evalue": "name must be <= 1 chars.",
     "output_type": "error",
     "traceback": [
      "\u001b[1;31m---------------------------------------------------------------------------\u001b[0m",
      "\u001b[1;31mValueError\u001b[0m                                Traceback (most recent call last)",
      "\u001b[1;32m<ipython-input-65-5b720123aff7>\u001b[0m in \u001b[0;36m<module>\u001b[1;34m\u001b[0m\n\u001b[0;32m      1\u001b[0m \u001b[0mp\u001b[0m \u001b[1;33m=\u001b[0m \u001b[0mPerson\u001b[0m\u001b[1;33m(\u001b[0m\u001b[1;33m)\u001b[0m\u001b[1;33m\u001b[0m\u001b[1;33m\u001b[0m\u001b[0m\n\u001b[1;32m----> 2\u001b[1;33m \u001b[0mp\u001b[0m\u001b[1;33m.\u001b[0m\u001b[0mname\u001b[0m \u001b[1;33m=\u001b[0m \u001b[1;34m\"alex\"\u001b[0m\u001b[1;33m*\u001b[0m\u001b[1;36m10\u001b[0m\u001b[1;33m\u001b[0m\u001b[1;33m\u001b[0m\u001b[0m\n\u001b[0m",
      "\u001b[1;32m<ipython-input-58-f92a22e313b7>\u001b[0m in \u001b[0;36m__set__\u001b[1;34m(self, instance, value)\u001b[0m\n\u001b[0;32m     15\u001b[0m              \u001b[1;32mraise\u001b[0m \u001b[0mValueError\u001b[0m\u001b[1;33m(\u001b[0m\u001b[1;34mf\"{self.prop_name} must be >= {self._min} chars.\"\u001b[0m\u001b[1;33m)\u001b[0m\u001b[1;33m\u001b[0m\u001b[1;33m\u001b[0m\u001b[0m\n\u001b[0;32m     16\u001b[0m         \u001b[1;32mif\u001b[0m \u001b[0mself\u001b[0m\u001b[1;33m.\u001b[0m\u001b[0m_max\u001b[0m \u001b[1;32mis\u001b[0m \u001b[1;32mnot\u001b[0m \u001b[1;32mNone\u001b[0m \u001b[1;32mand\u001b[0m \u001b[0mlen\u001b[0m\u001b[1;33m(\u001b[0m\u001b[0mvalue\u001b[0m\u001b[1;33m)\u001b[0m \u001b[1;33m>\u001b[0m \u001b[0mself\u001b[0m\u001b[1;33m.\u001b[0m\u001b[0m_max\u001b[0m\u001b[1;33m:\u001b[0m\u001b[1;33m\u001b[0m\u001b[1;33m\u001b[0m\u001b[0m\n\u001b[1;32m---> 17\u001b[1;33m              \u001b[1;32mraise\u001b[0m \u001b[0mValueError\u001b[0m\u001b[1;33m(\u001b[0m\u001b[1;34mf\"{self.prop_name} must be <= {self._max} chars.\"\u001b[0m\u001b[1;33m)\u001b[0m\u001b[1;33m\u001b[0m\u001b[1;33m\u001b[0m\u001b[0m\n\u001b[0m\u001b[0;32m     18\u001b[0m         \u001b[0minstance\u001b[0m\u001b[1;33m.\u001b[0m\u001b[0m__dict__\u001b[0m\u001b[1;33m[\u001b[0m\u001b[0mself\u001b[0m\u001b[1;33m.\u001b[0m\u001b[0mprop_name\u001b[0m\u001b[1;33m]\u001b[0m \u001b[1;33m=\u001b[0m \u001b[0mvalue\u001b[0m\u001b[1;33m\u001b[0m\u001b[1;33m\u001b[0m\u001b[0m\n\u001b[0;32m     19\u001b[0m \u001b[1;33m\u001b[0m\u001b[0m\n",
      "\u001b[1;31mValueError\u001b[0m: name must be <= 1 chars."
     ]
    }
   ],
   "source": [
    "p = Person()\n",
    "p.name = \"alex\"*10"
   ]
  },
  {
   "cell_type": "code",
   "execution_count": 66,
   "metadata": {},
   "outputs": [],
   "source": [
    "p.name = \"j\""
   ]
  },
  {
   "cell_type": "markdown",
   "metadata": {},
   "source": [
    "tests"
   ]
  },
  {
   "cell_type": "code",
   "execution_count": 73,
   "metadata": {},
   "outputs": [],
   "source": [
    "class TestCharField(unittest.TestCase):\n",
    "    \n",
    "    @staticmethod    \n",
    "    def create_person_instance( min_, max_):\n",
    "        obj = type(\"Person\",(), {\"name\":CharField(min_,max_)})\n",
    "        return obj()\n",
    "       \n",
    "        \n",
    "    def test_set_name_ok(self):\n",
    "        min_ = 1\n",
    "        max_ = 10      \n",
    "        p = self.create_person_instance(min_, max_)\n",
    "        valid_length = range(min_, max_+1)\n",
    "        \n",
    "        for i, length in enumerate(valid_length):\n",
    "            value = \"a\" * length\n",
    "            with self.subTest(test_number=i):\n",
    "                p.name = value\n",
    "                self.assertEqual(value, p.name)\n",
    "            \n",
    "\n",
    "                        \n",
    "    def test_class_get(self):\n",
    "        p = self.create_person_instance(0, 0)\n",
    "        p_class = type(p)\n",
    "        self.assertIsInstance(p_class.name, CharField)\n",
    "        "
   ]
  },
  {
   "cell_type": "code",
   "execution_count": 74,
   "metadata": {},
   "outputs": [
    {
     "name": "stderr",
     "output_type": "stream",
     "text": [
      "test_class_get (__main__.TestCharField) ... ok\n",
      "test_set_name_ok (__main__.TestCharField) ... ok\n",
      "\n",
      "----------------------------------------------------------------------\n",
      "Ran 2 tests in 0.003s\n",
      "\n",
      "OK\n"
     ]
    }
   ],
   "source": [
    "run_tests(TestCharField)"
   ]
  },
  {
   "cell_type": "markdown",
   "metadata": {},
   "source": [
    "#### let's use inheritance"
   ]
  },
  {
   "cell_type": "code",
   "execution_count": 75,
   "metadata": {},
   "outputs": [],
   "source": [
    "class BaseValidator:\n",
    "    def __init__(self, min_=None, max_=None):\n",
    "        self._min = min_ \n",
    "        self._max = max_\n",
    "    \n",
    "    def __set_name__(self, owner_class, prop_name):\n",
    "        self.prop_name = prop_name\n",
    "        \n",
    "    def validate(self, value):\n",
    "        pass\n",
    "        \n",
    "    def __set__(self, instance, value):\n",
    "        self.validate(value)\n",
    "        instance.__dict__[self.prop_name] = value\n",
    "        \n",
    "    def __get__(self, instance, owner_class):\n",
    "        if instance is None:\n",
    "            return self\n",
    "        else:\n",
    "            return instance.__dict__.get(self.prop_name, None)\n",
    "        \n",
    "class CharField(BaseValidator):\n",
    "    def __init__(self, min_=None, max_=None):\n",
    "        min_ = max(min_ or 0, 0)\n",
    "        super().__init__(min_, max_)\n",
    "        \n",
    "    def validate(self, value):\n",
    "        if not isinstance(value, str):\n",
    "            raise ValueError(f\"{self.prop_name} must be a string.\")\n",
    "        if self._min is not None and len(value) < self._min:\n",
    "             raise ValueError(f\"{self.prop_name} must be >= {self._min} chars.\")\n",
    "        if self._max is not None and len(value) > self._max:\n",
    "             raise ValueError(f\"{self.prop_name} must be <= {self._max} chars.\")\n",
    "       \n",
    "       \n",
    "class IntegerField(BaseValidator):\n",
    " \n",
    "    def validate(self, value):\n",
    "        if not isinstance(value, numbers.Integral):\n",
    "            raise ValueError(f\"{self.prop_name} must be an integer value.\")\n",
    "        if self._min is not None and value < self._min:\n",
    "             raise ValueError(f\"{self.prop_name} must be >= {self._min}.\")\n",
    "        if self._max is not None and value > self._max:\n",
    "             raise ValueError(f\"{self.prop_name} must be <= {self._max}.\")\n",
    "  "
   ]
  },
  {
   "cell_type": "code",
   "execution_count": 76,
   "metadata": {},
   "outputs": [
    {
     "name": "stderr",
     "output_type": "stream",
     "text": [
      "test_class_get (__main__.TestCharField) ... ok\n",
      "test_set_name_ok (__main__.TestCharField) ... ok\n",
      "\n",
      "----------------------------------------------------------------------\n",
      "Ran 2 tests in 0.003s\n",
      "\n",
      "OK\n"
     ]
    }
   ],
   "source": [
    "run_tests(TestCharField)"
   ]
  },
  {
   "cell_type": "code",
   "execution_count": 77,
   "metadata": {},
   "outputs": [
    {
     "name": "stderr",
     "output_type": "stream",
     "text": [
      "test_class_get (__main__.TestIntegerField) ... ok\n",
      "test_set_age_invalid (__main__.TestIntegerField) ... ok\n",
      "test_set_age_max_only (__main__.TestIntegerField) ... ok\n",
      "test_set_age_min_only (__main__.TestIntegerField) ... ok\n",
      "test_set_age_no_limits (__main__.TestIntegerField) ... ok\n",
      "test_set_age_ok (__main__.TestIntegerField) ... ok\n",
      "\n",
      "----------------------------------------------------------------------\n",
      "Ran 6 tests in 0.012s\n",
      "\n",
      "OK\n"
     ]
    }
   ],
   "source": [
    "run_tests(TestIntegerField)"
   ]
  },
  {
   "cell_type": "code",
   "execution_count": null,
   "metadata": {},
   "outputs": [],
   "source": []
  }
 ],
 "metadata": {
  "kernelspec": {
   "display_name": "Python 3",
   "language": "python",
   "name": "python3"
  },
  "language_info": {
   "codemirror_mode": {
    "name": "ipython",
    "version": 3
   },
   "file_extension": ".py",
   "mimetype": "text/x-python",
   "name": "python",
   "nbconvert_exporter": "python",
   "pygments_lexer": "ipython3",
   "version": "3.7.4"
  }
 },
 "nbformat": 4,
 "nbformat_minor": 4
}
