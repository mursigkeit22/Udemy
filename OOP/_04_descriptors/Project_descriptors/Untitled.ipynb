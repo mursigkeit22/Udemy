{
 "cells": [
  {
   "cell_type": "code",
   "execution_count": 1,
   "metadata": {},
   "outputs": [],
   "source": [
    "from numbers import Integral"
   ]
  },
  {
   "cell_type": "code",
   "execution_count": 2,
   "metadata": {},
   "outputs": [],
   "source": [
    "class IntegerField:\n",
    "    def __init__(self, min_value=None, max_value=None):\n",
    "        self.min_value=min_value\n",
    "        self.max_value=max_value\n",
    "        \n",
    "    def __set_name__(self, owner_class, property_name):\n",
    "        self.property_name = property_name\n",
    "        \n",
    "    def __set__(self, instance, value):\n",
    "        if not isinstance(value, Integral):\n",
    "            raise ValueError(f\"{self.property_name} must be an integer.\")\n",
    "        if self.min_value is not None and value < self.min_value:\n",
    "            raise ValueError(f\"{self.name} must be at least {self.min_value}\")\n",
    "            \n",
    "        if self.max_value is not None and value > self.max_value:\n",
    "            raise ValueError(f\"{self.name} cannot be greater than {self.max_value}\")\n",
    "        instance.__dict__[self.property_name] = value\n",
    "        \n",
    "    def __get__(self, instance, owner_class):\n",
    "        if instance is None:\n",
    "            return self\n",
    "        else:\n",
    "            return instance.__dict__.get(self.property_name, None)"
   ]
  },
  {
   "cell_type": "code",
   "execution_count": 3,
   "metadata": {},
   "outputs": [],
   "source": [
    "class CharField:\n",
    "    def __init__(self, min_value=None, max_value=None):\n",
    "        self.min_value=min_value\n",
    "        self.max_value=max_value\n",
    "        \n",
    "    def __set_name__(self, owner_class, property_name):\n",
    "        self.property_name = property_name\n",
    "        \n",
    "    def __set__(self, instance, value):\n",
    "        if not isinstance(value, String):\n",
    "            raise ValueError(f\"{self.property_name} must be a string.\")\n",
    "        if self.min_value is not None and value < self.min_value:\n",
    "            raise ValueError(f\"Length of {self.name} must be at least {self.min_value}\")\n",
    "            \n",
    "        if self.max_value is not None and value > self.max_value:\n",
    "            raise ValueError(f\"Length of {self.name} cannot be greater than {self.max_value}\")\n",
    "        instance.__dict__[self.property_name] = value\n",
    "        \n",
    "    def __get__(self, instance, owner_class):\n",
    "        if instance is None:\n",
    "            return self\n",
    "        else:\n",
    "            return instance.__dict__.get(self.property_name, None)"
   ]
  },
  {
   "cell_type": "code",
   "execution_count": null,
   "metadata": {},
   "outputs": [],
   "source": []
  },
  {
   "cell_type": "code",
   "execution_count": null,
   "metadata": {},
   "outputs": [],
   "source": []
  },
  {
   "cell_type": "code",
   "execution_count": 4,
   "metadata": {},
   "outputs": [],
   "source": [
    "class BaseValidator:\n",
    "    \n",
    "    def __init__(self, type_, min_value=None, max_value=None):\n",
    "        self._type = type_\n",
    "        self.min_value=min_value\n",
    "        self.max_value=max_value\n",
    "        \n",
    "    def __set_name__(self, owner_class, prop_name):\n",
    "        self.prop_name = prop_name\n",
    "        \n",
    "    def __set__(self, instance, value):\n",
    "        if not isinstance(value, self._type):\n",
    "            raise ValueError(f\"{self.prop_name} must be of type {self._type.__name__}.\")\n",
    "        if self.min_value is not None and value < self.min_value:\n",
    "            raise ValueError(f\"{self.name} must be at least {self.min_value}\")\n",
    "            \n",
    "        if self.max_value is not None and value > self.max_value:\n",
    "            raise ValueError(f\"{self.name} cannot be greater than {self.max_value}\")\n",
    "        instance.__dict__[self.prop_name] = value\n",
    "        \n",
    "    def __get__(self, instance, owner_class):\n",
    "        if instance is None:\n",
    "            return self\n",
    "        else:\n",
    "            return instance.__dict__.get(self.prop_name, None)"
   ]
  },
  {
   "cell_type": "code",
   "execution_count": 5,
   "metadata": {},
   "outputs": [],
   "source": [
    "class CharField(BaseValidator):\n",
    "    def __init__(self, min_value=0, max_value=None):\n",
    "        if min_value < 0:\n",
    "            raise ValueError(\"min_value must be a non-negative integer.\")\n",
    "            \n",
    "        self.min_value=min_value\n",
    "        self.max_value=max_value\n",
    "        \n",
    "    def __set__(self, instance, value):\n",
    "        if not isinstance(value, self._type):\n",
    "            raise ValueError(f\"{self.prop_name} must be of type {self._type.__name__}.\")\n",
    "        if self.min_value > 0 and value < self.min_value:\n",
    "            raise ValueError(f\"Length of {self.name} must be at least {self.min_value} characters\")\n",
    "            \n",
    "        if self.max_value is not None and value > self.max_value:\n",
    "            raise ValueError(f\"Length of {self.name} cannot be greater than {self.max_value}\")\n",
    "        instance.__dict__[self.prop_name] = value\n",
    "        "
   ]
  },
  {
   "cell_type": "code",
   "execution_count": 6,
   "metadata": {},
   "outputs": [],
   "source": [
    "class IntegerField(BaseValidator):\n",
    "    pass"
   ]
  },
  {
   "cell_type": "code",
   "execution_count": null,
   "metadata": {},
   "outputs": [],
   "source": []
  },
  {
   "cell_type": "code",
   "execution_count": null,
   "metadata": {},
   "outputs": [],
   "source": []
  }
 ],
 "metadata": {
  "kernelspec": {
   "display_name": "Python 3",
   "language": "python",
   "name": "python3"
  },
  "language_info": {
   "codemirror_mode": {
    "name": "ipython",
    "version": 3
   },
   "file_extension": ".py",
   "mimetype": "text/x-python",
   "name": "python",
   "nbconvert_exporter": "python",
   "pygments_lexer": "ipython3",
   "version": "3.7.4"
  }
 },
 "nbformat": 4,
 "nbformat_minor": 4
}
