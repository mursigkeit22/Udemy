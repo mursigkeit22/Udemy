{
 "cells": [
  {
   "cell_type": "code",
   "execution_count": 19,
   "metadata": {},
   "outputs": [],
   "source": [
    "import enum\n",
    "from functools import total_ordering\n",
    "import random"
   ]
  },
  {
   "cell_type": "code",
   "execution_count": 5,
   "metadata": {},
   "outputs": [
    {
     "name": "stdout",
     "output_type": "stream",
     "text": [
      "waiting 1\n",
      "started 2\n",
      "finished 3\n"
     ]
    }
   ],
   "source": [
    "class State(enum.Enum):\n",
    "    waiting = enum.auto() # called when the class is compiled\n",
    "    started  = enum.auto()\n",
    "    finished = enum.auto()\n",
    "\n",
    "for member in State:\n",
    "    print(member.name, member.value)"
   ]
  },
  {
   "cell_type": "code",
   "execution_count": 7,
   "metadata": {},
   "outputs": [
    {
     "name": "stdout",
     "output_type": "stream",
     "text": [
      "waiting 100\n",
      "started 101\n",
      "finished 102\n"
     ]
    }
   ],
   "source": [
    "class State(enum.Enum):\n",
    "    waiting = 100 \n",
    "    started  = enum.auto()\n",
    "    finished = enum.auto()\n",
    "\n",
    "for member in State:\n",
    "    print(member.name, member.value)"
   ]
  },
  {
   "cell_type": "code",
   "execution_count": 8,
   "metadata": {},
   "outputs": [
    {
     "name": "stdout",
     "output_type": "stream",
     "text": [
      "waiting 1\n",
      "finished 2\n"
     ]
    }
   ],
   "source": [
    "class State(enum.Enum):\n",
    "    waiting = enum.auto() \n",
    "    started  = 1\n",
    "    finished = enum.auto()\n",
    "for member in State:\n",
    "    print(member.name, member.value)"
   ]
  },
  {
   "cell_type": "markdown",
   "metadata": {},
   "source": [
    "started became alias to waiting"
   ]
  },
  {
   "cell_type": "code",
   "execution_count": 9,
   "metadata": {},
   "outputs": [
    {
     "data": {
      "text/plain": [
       "mappingproxy({'waiting': <State.waiting: 1>,\n",
       "              'started': <State.waiting: 1>,\n",
       "              'finished': <State.finished: 2>})"
      ]
     },
     "execution_count": 9,
     "metadata": {},
     "output_type": "execute_result"
    }
   ],
   "source": [
    "State.__members__"
   ]
  },
  {
   "cell_type": "code",
   "execution_count": 10,
   "metadata": {},
   "outputs": [
    {
     "ename": "ValueError",
     "evalue": "duplicate values found in <enum 'State'>: started -> waiting",
     "output_type": "error",
     "traceback": [
      "\u001b[1;31m---------------------------------------------------------------------------\u001b[0m",
      "\u001b[1;31mValueError\u001b[0m                                Traceback (most recent call last)",
      "\u001b[1;32m<ipython-input-10-7dbf882b0739>\u001b[0m in \u001b[0;36m<module>\u001b[1;34m\u001b[0m\n\u001b[0;32m      1\u001b[0m \u001b[1;33m@\u001b[0m\u001b[0menum\u001b[0m\u001b[1;33m.\u001b[0m\u001b[0munique\u001b[0m\u001b[1;33m\u001b[0m\u001b[1;33m\u001b[0m\u001b[0m\n\u001b[1;32m----> 2\u001b[1;33m \u001b[1;32mclass\u001b[0m \u001b[0mState\u001b[0m\u001b[1;33m(\u001b[0m\u001b[0menum\u001b[0m\u001b[1;33m.\u001b[0m\u001b[0mEnum\u001b[0m\u001b[1;33m)\u001b[0m\u001b[1;33m:\u001b[0m\u001b[1;33m\u001b[0m\u001b[1;33m\u001b[0m\u001b[0m\n\u001b[0m\u001b[0;32m      3\u001b[0m     \u001b[0mwaiting\u001b[0m \u001b[1;33m=\u001b[0m \u001b[0menum\u001b[0m\u001b[1;33m.\u001b[0m\u001b[0mauto\u001b[0m\u001b[1;33m(\u001b[0m\u001b[1;33m)\u001b[0m\u001b[1;33m\u001b[0m\u001b[1;33m\u001b[0m\u001b[0m\n\u001b[0;32m      4\u001b[0m     \u001b[0mstarted\u001b[0m  \u001b[1;33m=\u001b[0m \u001b[1;36m1\u001b[0m\u001b[1;33m\u001b[0m\u001b[1;33m\u001b[0m\u001b[0m\n\u001b[0;32m      5\u001b[0m     \u001b[0mfinished\u001b[0m \u001b[1;33m=\u001b[0m \u001b[0menum\u001b[0m\u001b[1;33m.\u001b[0m\u001b[0mauto\u001b[0m\u001b[1;33m(\u001b[0m\u001b[1;33m)\u001b[0m\u001b[1;33m\u001b[0m\u001b[1;33m\u001b[0m\u001b[0m\n",
      "\u001b[1;32m~\\Anaconda3\\lib\\enum.py\u001b[0m in \u001b[0;36munique\u001b[1;34m(enumeration)\u001b[0m\n\u001b[0;32m    867\u001b[0m                 [\"%s -> %s\" % (alias, name) for (alias, name) in duplicates])\n\u001b[0;32m    868\u001b[0m         raise ValueError('duplicate values found in %r: %s' %\n\u001b[1;32m--> 869\u001b[1;33m                 (enumeration, alias_details))\n\u001b[0m\u001b[0;32m    870\u001b[0m     \u001b[1;32mreturn\u001b[0m \u001b[0menumeration\u001b[0m\u001b[1;33m\u001b[0m\u001b[1;33m\u001b[0m\u001b[0m\n\u001b[0;32m    871\u001b[0m \u001b[1;33m\u001b[0m\u001b[0m\n",
      "\u001b[1;31mValueError\u001b[0m: duplicate values found in <enum 'State'>: started -> waiting"
     ]
    }
   ],
   "source": [
    "@enum.unique\n",
    "class State(enum.Enum):\n",
    "    waiting = enum.auto() \n",
    "    started  = 1\n",
    "    finished = enum.auto()\n",
    "for member in State:\n",
    "    print(member.name, member.value)"
   ]
  },
  {
   "cell_type": "markdown",
   "metadata": {},
   "source": [
    "how auto() works"
   ]
  },
  {
   "cell_type": "code",
   "execution_count": 11,
   "metadata": {},
   "outputs": [
    {
     "data": {
      "text/plain": [
       "True"
      ]
     },
     "execution_count": 11,
     "metadata": {},
     "output_type": "execute_result"
    }
   ],
   "source": [
    "hasattr(State, \"_generate_next_value_\")"
   ]
  },
  {
   "cell_type": "code",
   "execution_count": 16,
   "metadata": {},
   "outputs": [
    {
     "name": "stdout",
     "output_type": "stream",
     "text": [
      "waiting 1 0 []\n",
      "started 1 1 [100]\n",
      "finished 1 2 [100, 100]\n",
      "\n",
      "OrderedDict([('waiting', <State.waiting: 100>), ('started', <State.waiting: 100>), ('finished', <State.waiting: 100>)])\n",
      "\n",
      "[<State.waiting: 100>]\n"
     ]
    }
   ],
   "source": [
    "class State(enum.Enum):\n",
    "    def _generate_next_value_(name, start, count, last_values):\n",
    "        print(name, start, count, last_values)\n",
    "        return 100\n",
    "    \n",
    "    waiting = enum.auto() \n",
    "    started  = enum.auto()\n",
    "    finished = enum.auto()\n",
    "print()\n",
    "print(State.__members__)\n",
    "print()\n",
    "print(list(State))"
   ]
  },
  {
   "cell_type": "code",
   "execution_count": 17,
   "metadata": {},
   "outputs": [
    {
     "name": "stdout",
     "output_type": "stream",
     "text": [
      "waiting 1 0 []\n",
      "started 1 1 [100]\n",
      "finished 1 3 [100, 100, 200]\n",
      "\n",
      "OrderedDict([('waiting', <State.waiting: 100>), ('started', <State.waiting: 100>), ('с', <State.с: 200>), ('finished', <State.waiting: 100>)])\n",
      "\n",
      "[<State.waiting: 100>, <State.с: 200>]\n"
     ]
    }
   ],
   "source": [
    "class State(enum.Enum):\n",
    "    def _generate_next_value_(name, start, count, last_values):\n",
    "        print(name, start, count, last_values)\n",
    "        return 100\n",
    "    \n",
    "    waiting = enum.auto() \n",
    "    started  = enum.auto()\n",
    "    с = 200\n",
    "    finished = enum.auto()\n",
    "print()\n",
    "print(State.__members__)\n",
    "print()\n",
    "print(list(State))"
   ]
  },
  {
   "cell_type": "code",
   "execution_count": 20,
   "metadata": {},
   "outputs": [],
   "source": [
    "random.seed(0)"
   ]
  },
  {
   "cell_type": "code",
   "execution_count": 22,
   "metadata": {},
   "outputs": [
    {
     "name": "stdout",
     "output_type": "stream",
     "text": [
      "a 50\n",
      "b 98\n",
      "с 54\n",
      "d 6\n"
     ]
    }
   ],
   "source": [
    "class State(enum.Enum):\n",
    "    def _generate_next_value_(name, start, count, last_values):\n",
    "        while True:\n",
    "            new_value = random.randint(1, 100)\n",
    "            if new_value not in last_values:\n",
    "                return new_value\n",
    "        \n",
    "    \n",
    "    a = enum.auto() \n",
    "    b = enum.auto()\n",
    "    с = enum.auto()\n",
    "    d = enum.auto()\n",
    "    \n",
    "for member in State:\n",
    "    print(member.name, member.value)"
   ]
  },
  {
   "cell_type": "code",
   "execution_count": 23,
   "metadata": {},
   "outputs": [
    {
     "name": "stdout",
     "output_type": "stream",
     "text": [
      "ready Ready\n",
      "waiting Waiting\n",
      "finished Finished\n"
     ]
    }
   ],
   "source": [
    "class State(enum.Enum):\n",
    "    def _generate_next_value_(name, start, count, last_values):\n",
    "        return name.title()\n",
    "    ready = enum.auto()\n",
    "    waiting = enum.auto()\n",
    "    finished = enum.auto()\n",
    "for member in State:\n",
    "    print(member.name, member.value)"
   ]
  },
  {
   "cell_type": "markdown",
   "metadata": {},
   "source": [
    "inheritance"
   ]
  },
  {
   "cell_type": "code",
   "execution_count": 24,
   "metadata": {},
   "outputs": [
    {
     "data": {
      "text/plain": [
       "[<Enum1.A: 'a'>, <Enum1.B: 'b'>]"
      ]
     },
     "execution_count": 24,
     "metadata": {},
     "output_type": "execute_result"
    }
   ],
   "source": [
    "class NameAsString(enum.Enum):\n",
    "    def _generate_next_value_(name, start, count, last_values):\n",
    "        return name.lower()\n",
    "class Enum1(NameAsString):\n",
    "    A = enum.auto()\n",
    "    B = enum.auto()\n",
    "list(Enum1)"
   ]
  },
  {
   "cell_type": "code",
   "execution_count": 25,
   "metadata": {},
   "outputs": [
    {
     "data": {
      "text/plain": [
       "[<Enum2.ready: 'ready'>,\n",
       " <Enum2.waiting: 'waiting'>,\n",
       " <Enum2.finished: 'finished'>]"
      ]
     },
     "execution_count": 25,
     "metadata": {},
     "output_type": "execute_result"
    }
   ],
   "source": [
    "class Enum2(NameAsString):\n",
    "    ready = enum.auto()\n",
    "    waiting = enum.auto()\n",
    "    finished = enum.auto()\n",
    "list(Enum2)"
   ]
  },
  {
   "cell_type": "markdown",
   "metadata": {},
   "source": [
    "#### how to not use values (if they are subjects to change), but only names"
   ]
  },
  {
   "cell_type": "code",
   "execution_count": 26,
   "metadata": {},
   "outputs": [],
   "source": [
    "class State(enum.Enum):\n",
    "    ready = object()\n",
    "    waiting = object()\n",
    "    finished = object()"
   ]
  },
  {
   "cell_type": "code",
   "execution_count": 27,
   "metadata": {},
   "outputs": [
    {
     "data": {
      "text/plain": [
       "(<State.ready: <object object at 0x00000240ACBA75A0>>,\n",
       " <State.waiting: <object object at 0x00000240ACBA7530>>)"
      ]
     },
     "execution_count": 27,
     "metadata": {},
     "output_type": "execute_result"
    }
   ],
   "source": [
    "State.ready, State.waiting"
   ]
  },
  {
   "cell_type": "code",
   "execution_count": 28,
   "metadata": {},
   "outputs": [
    {
     "name": "stdout",
     "output_type": "stream",
     "text": [
      "count=3\n",
      "count=4\n",
      "count=5\n"
     ]
    }
   ],
   "source": [
    "class Aliased(enum.Enum):\n",
    "    def _generate_next_value_(name, start, count, last_values):\n",
    "        print(f\"count={count}\") # count include the aliases\n",
    "        if count % 2 == 1:\n",
    "            #make this member an alias of the previous one\n",
    "            return last_values[-1]\n",
    "        else:\n",
    "            return last_values[-1] + 1\n",
    "        \n",
    "    green = 1\n",
    "    green_alias = 1\n",
    "    red = 10\n",
    "    crimson = enum.auto()\n",
    "    blue = enum.auto()\n",
    "    aqua = enum.auto()"
   ]
  },
  {
   "cell_type": "code",
   "execution_count": 30,
   "metadata": {},
   "outputs": [
    {
     "data": {
      "text/plain": [
       "mappingproxy({'green': <Aliased.green: 1>,\n",
       "              'green_alias': <Aliased.green: 1>,\n",
       "              'red': <Aliased.red: 10>,\n",
       "              'crimson': <Aliased.red: 10>,\n",
       "              'blue': <Aliased.blue: 11>,\n",
       "              'aqua': <Aliased.blue: 11>})"
      ]
     },
     "execution_count": 30,
     "metadata": {},
     "output_type": "execute_result"
    }
   ],
   "source": [
    "Aliased.__members__"
   ]
  },
  {
   "cell_type": "code",
   "execution_count": 31,
   "metadata": {},
   "outputs": [
    {
     "data": {
      "text/plain": [
       "[<Aliased.green: 1>, <Aliased.red: 10>, <Aliased.blue: 11>]"
      ]
     },
     "execution_count": 31,
     "metadata": {},
     "output_type": "execute_result"
    }
   ],
   "source": [
    "list(Aliased)"
   ]
  },
  {
   "cell_type": "code",
   "execution_count": 32,
   "metadata": {},
   "outputs": [],
   "source": [
    "class Aliased(enum.Enum): # always create aliases\n",
    "    def _generate_next_value_(name, start, count, last_values):\n",
    "        return last_values[-1]\n",
    "       \n",
    "   "
   ]
  },
  {
   "cell_type": "code",
   "execution_count": 33,
   "metadata": {},
   "outputs": [],
   "source": [
    "class Color(Aliased):\n",
    "    red = object()\n",
    "    crimson = enum.auto()\n",
    "    carmine = enum.auto()\n",
    "    \n",
    "    blue = object()\n",
    "    aquamarine = enum.auto()\n",
    "    azure = enum.auto()"
   ]
  },
  {
   "cell_type": "code",
   "execution_count": 34,
   "metadata": {},
   "outputs": [
    {
     "data": {
      "text/plain": [
       "mappingproxy({'red': <Color.red: <object object at 0x00000240ACBA7640>>,\n",
       "              'crimson': <Color.red: <object object at 0x00000240ACBA7640>>,\n",
       "              'carmine': <Color.red: <object object at 0x00000240ACBA7640>>,\n",
       "              'blue': <Color.blue: <object object at 0x00000240ACBA79C0>>,\n",
       "              'aquamarine': <Color.blue: <object object at 0x00000240ACBA79C0>>,\n",
       "              'azure': <Color.blue: <object object at 0x00000240ACBA79C0>>})"
      ]
     },
     "execution_count": 34,
     "metadata": {},
     "output_type": "execute_result"
    }
   ],
   "source": [
    "Color.__members__"
   ]
  },
  {
   "cell_type": "code",
   "execution_count": 35,
   "metadata": {},
   "outputs": [
    {
     "data": {
      "text/plain": [
       "[<Color.red: <object object at 0x00000240ACBA7640>>,\n",
       " <Color.blue: <object object at 0x00000240ACBA79C0>>]"
      ]
     },
     "execution_count": 35,
     "metadata": {},
     "output_type": "execute_result"
    }
   ],
   "source": [
    "list(Color)"
   ]
  },
  {
   "cell_type": "code",
   "execution_count": 36,
   "metadata": {},
   "outputs": [
    {
     "data": {
      "text/plain": [
       "<Color.blue: <object object at 0x00000240ACBA79C0>>"
      ]
     },
     "execution_count": 36,
     "metadata": {},
     "output_type": "execute_result"
    }
   ],
   "source": [
    "Color.azure"
   ]
  },
  {
   "cell_type": "code",
   "execution_count": 37,
   "metadata": {},
   "outputs": [
    {
     "data": {
      "text/plain": [
       "True"
      ]
     },
     "execution_count": 37,
     "metadata": {},
     "output_type": "execute_result"
    }
   ],
   "source": [
    "Color.azure is Color.blue"
   ]
  },
  {
   "cell_type": "code",
   "execution_count": null,
   "metadata": {},
   "outputs": [],
   "source": []
  }
 ],
 "metadata": {
  "kernelspec": {
   "display_name": "Python 3",
   "language": "python",
   "name": "python3"
  },
  "language_info": {
   "codemirror_mode": {
    "name": "ipython",
    "version": 3
   },
   "file_extension": ".py",
   "mimetype": "text/x-python",
   "name": "python",
   "nbconvert_exporter": "python",
   "pygments_lexer": "ipython3",
   "version": "3.7.4"
  }
 },
 "nbformat": 4,
 "nbformat_minor": 4
}
